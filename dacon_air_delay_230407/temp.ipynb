{
 "cells": [
  {
   "cell_type": "code",
   "execution_count": 1,
   "metadata": {},
   "outputs": [],
   "source": [
    "import os\n",
    "import pandas as pd"
   ]
  },
  {
   "cell_type": "code",
   "execution_count": 39,
   "metadata": {},
   "outputs": [],
   "source": [
    "seed = 2023"
   ]
  },
  {
   "cell_type": "code",
   "execution_count": 2,
   "metadata": {},
   "outputs": [],
   "source": [
    "trn = pd.read_csv('./data/train_fillna.csv')\n",
    "tst = pd.read_csv('./data/test_fillna.csv')\n",
    "submission = pd.read_csv('./data/sample_submission.csv')"
   ]
  },
  {
   "cell_type": "code",
   "execution_count": 4,
   "metadata": {},
   "outputs": [
    {
     "name": "stdout",
     "output_type": "stream",
     "text": [
      "0.255001\n",
      "0.1764698961964855\n"
     ]
    }
   ],
   "source": [
    "nor = trn.Delay.value_counts()[0] # not delay\n",
    "abn = trn.Delay.value_counts()[1]\n",
    "\n",
    "print((nor+abn)/len(trn))\n",
    "print(abn/(nor+abn)) # abn 비율"
   ]
  },
  {
   "cell_type": "code",
   "execution_count": 8,
   "metadata": {},
   "outputs": [
    {
     "data": {
      "text/plain": [
       "Index(['Month', 'Day_of_Month', 'Origin_Airport', 'Origin_State',\n",
       "       'Destination_Airport', 'Destination_State', 'Distance', 'Airline',\n",
       "       'Tail_Number', 'Delay', 'Estimated_Departure_Hour',\n",
       "       'Estimated_Departure_Min', 'Estimated_Arrival_Hour',\n",
       "       'Estimated_Arrival_Min'],\n",
       "      dtype='object')"
      ]
     },
     "execution_count": 8,
     "metadata": {},
     "output_type": "execute_result"
    }
   ],
   "source": [
    "trn.columns"
   ]
  },
  {
   "cell_type": "code",
   "execution_count": 15,
   "metadata": {},
   "outputs": [],
   "source": [
    "str_col = ['Origin_Airport', 'Origin_State', 'Destination_Airport', 'Destination_State', 'Airline','Tail_Number']\n",
    "num_col = ['Month', 'Day_of_Month', 'Estimated_Departure_Hour', 'Estimated_Departure_Min','Estimated_Arrival_Hour', 'Estimated_Arrival_Min','Distance']"
   ]
  },
  {
   "cell_type": "code",
   "execution_count": 16,
   "metadata": {},
   "outputs": [],
   "source": [
    "from sklearn.preprocessing import StandardScaler, LabelEncoder\n",
    "std = StandardScaler()\n",
    "lab = LabelEncoder()"
   ]
  },
  {
   "cell_type": "code",
   "execution_count": 17,
   "metadata": {},
   "outputs": [],
   "source": [
    "temp = trn.drop(columns=['Delay'])\n",
    "for str in str_col:\n",
    "    temp[str] = lab.fit_transform(temp[str])\n",
    "\n",
    "for col in temp.columns.tolist():\n",
    "    temp[[col]] = std.fit_transform(temp[[col]])"
   ]
  },
  {
   "cell_type": "code",
   "execution_count": 22,
   "metadata": {},
   "outputs": [],
   "source": [
    "from pyod.models.ecod import ECOD\n",
    "from pyod.models.copod import COPOD\n",
    "from sklearn.metrics import f1_score"
   ]
  },
  {
   "cell_type": "code",
   "execution_count": 32,
   "metadata": {},
   "outputs": [
    {
     "data": {
      "text/plain": [
       "COPOD(contamination=0.1764698961964855, n_jobs=1)"
      ]
     },
     "execution_count": 32,
     "metadata": {},
     "output_type": "execute_result"
    }
   ],
   "source": [
    "ecod = ECOD(contamination=(abn/(nor+abn)))\n",
    "ecod.fit(temp)\n",
    "\n",
    "copod = COPOD(contamination=(abn/(nor+abn)))\n",
    "copod.fit(temp)"
   ]
  },
  {
   "cell_type": "code",
   "execution_count": 33,
   "metadata": {},
   "outputs": [],
   "source": [
    "temp_tst = tst.copy()\n",
    "for str in str_col:\n",
    "    temp_tst[str] = lab.fit_transform(temp_tst[str])\n",
    "\n",
    "for col in temp_tst.columns.tolist():\n",
    "    temp_tst[[col]] = std.fit_transform(temp_tst[[col]])"
   ]
  },
  {
   "cell_type": "code",
   "execution_count": 34,
   "metadata": {},
   "outputs": [],
   "source": [
    "pred1 = ecod.predict(temp_tst)\n",
    "pred2 = copod.predict(temp_tst)"
   ]
  },
  {
   "cell_type": "code",
   "execution_count": 35,
   "metadata": {},
   "outputs": [],
   "source": [
    "pred_proba1 = ecod.predict_proba(temp_tst)\n",
    "pred_proba2 = copod.predict_proba(temp_tst)"
   ]
  },
  {
   "cell_type": "code",
   "execution_count": 36,
   "metadata": {},
   "outputs": [],
   "source": [
    "submission_temp = submission.copy()"
   ]
  },
  {
   "cell_type": "code",
   "execution_count": 37,
   "metadata": {},
   "outputs": [
    {
     "data": {
      "text/html": [
       "<div>\n",
       "<style scoped>\n",
       "    .dataframe tbody tr th:only-of-type {\n",
       "        vertical-align: middle;\n",
       "    }\n",
       "\n",
       "    .dataframe tbody tr th {\n",
       "        vertical-align: top;\n",
       "    }\n",
       "\n",
       "    .dataframe thead th {\n",
       "        text-align: right;\n",
       "    }\n",
       "</style>\n",
       "<table border=\"1\" class=\"dataframe\">\n",
       "  <thead>\n",
       "    <tr style=\"text-align: right;\">\n",
       "      <th></th>\n",
       "      <th>ID</th>\n",
       "      <th>Not_Delayed</th>\n",
       "      <th>Delayed</th>\n",
       "    </tr>\n",
       "  </thead>\n",
       "  <tbody>\n",
       "    <tr>\n",
       "      <th>0</th>\n",
       "      <td>TEST_000000</td>\n",
       "      <td>0.609041</td>\n",
       "      <td>0.390959</td>\n",
       "    </tr>\n",
       "    <tr>\n",
       "      <th>1</th>\n",
       "      <td>TEST_000001</td>\n",
       "      <td>0.755904</td>\n",
       "      <td>0.244096</td>\n",
       "    </tr>\n",
       "    <tr>\n",
       "      <th>2</th>\n",
       "      <td>TEST_000002</td>\n",
       "      <td>0.727835</td>\n",
       "      <td>0.272165</td>\n",
       "    </tr>\n",
       "    <tr>\n",
       "      <th>3</th>\n",
       "      <td>TEST_000003</td>\n",
       "      <td>0.726246</td>\n",
       "      <td>0.273754</td>\n",
       "    </tr>\n",
       "    <tr>\n",
       "      <th>4</th>\n",
       "      <td>TEST_000004</td>\n",
       "      <td>0.653701</td>\n",
       "      <td>0.346299</td>\n",
       "    </tr>\n",
       "    <tr>\n",
       "      <th>...</th>\n",
       "      <td>...</td>\n",
       "      <td>...</td>\n",
       "      <td>...</td>\n",
       "    </tr>\n",
       "    <tr>\n",
       "      <th>999995</th>\n",
       "      <td>TEST_999995</td>\n",
       "      <td>0.753032</td>\n",
       "      <td>0.246968</td>\n",
       "    </tr>\n",
       "    <tr>\n",
       "      <th>999996</th>\n",
       "      <td>TEST_999996</td>\n",
       "      <td>0.580964</td>\n",
       "      <td>0.419036</td>\n",
       "    </tr>\n",
       "    <tr>\n",
       "      <th>999997</th>\n",
       "      <td>TEST_999997</td>\n",
       "      <td>0.807398</td>\n",
       "      <td>0.192602</td>\n",
       "    </tr>\n",
       "    <tr>\n",
       "      <th>999998</th>\n",
       "      <td>TEST_999998</td>\n",
       "      <td>0.425605</td>\n",
       "      <td>0.574395</td>\n",
       "    </tr>\n",
       "    <tr>\n",
       "      <th>999999</th>\n",
       "      <td>TEST_999999</td>\n",
       "      <td>0.787496</td>\n",
       "      <td>0.212504</td>\n",
       "    </tr>\n",
       "  </tbody>\n",
       "</table>\n",
       "<p>1000000 rows × 3 columns</p>\n",
       "</div>"
      ],
      "text/plain": [
       "                 ID  Not_Delayed   Delayed\n",
       "0       TEST_000000     0.609041  0.390959\n",
       "1       TEST_000001     0.755904  0.244096\n",
       "2       TEST_000002     0.727835  0.272165\n",
       "3       TEST_000003     0.726246  0.273754\n",
       "4       TEST_000004     0.653701  0.346299\n",
       "...             ...          ...       ...\n",
       "999995  TEST_999995     0.753032  0.246968\n",
       "999996  TEST_999996     0.580964  0.419036\n",
       "999997  TEST_999997     0.807398  0.192602\n",
       "999998  TEST_999998     0.425605  0.574395\n",
       "999999  TEST_999999     0.787496  0.212504\n",
       "\n",
       "[1000000 rows x 3 columns]"
      ]
     },
     "execution_count": 37,
     "metadata": {},
     "output_type": "execute_result"
    }
   ],
   "source": [
    "submission_temp[['Not_Delayed', 'Delayed']] = pred_proba1\n",
    "submission_temp"
   ]
  },
  {
   "cell_type": "code",
   "execution_count": 29,
   "metadata": {},
   "outputs": [],
   "source": [
    "submission_temp.to_csv('./fillna_ecod.csv', index=False)"
   ]
  },
  {
   "cell_type": "code",
   "execution_count": 38,
   "metadata": {},
   "outputs": [
    {
     "data": {
      "text/html": [
       "<div>\n",
       "<style scoped>\n",
       "    .dataframe tbody tr th:only-of-type {\n",
       "        vertical-align: middle;\n",
       "    }\n",
       "\n",
       "    .dataframe tbody tr th {\n",
       "        vertical-align: top;\n",
       "    }\n",
       "\n",
       "    .dataframe thead th {\n",
       "        text-align: right;\n",
       "    }\n",
       "</style>\n",
       "<table border=\"1\" class=\"dataframe\">\n",
       "  <thead>\n",
       "    <tr style=\"text-align: right;\">\n",
       "      <th></th>\n",
       "      <th>ID</th>\n",
       "      <th>Not_Delayed</th>\n",
       "      <th>Delayed</th>\n",
       "    </tr>\n",
       "  </thead>\n",
       "  <tbody>\n",
       "    <tr>\n",
       "      <th>0</th>\n",
       "      <td>TEST_000000</td>\n",
       "      <td>0.717337</td>\n",
       "      <td>0.282663</td>\n",
       "    </tr>\n",
       "    <tr>\n",
       "      <th>1</th>\n",
       "      <td>TEST_000001</td>\n",
       "      <td>0.788568</td>\n",
       "      <td>0.211432</td>\n",
       "    </tr>\n",
       "    <tr>\n",
       "      <th>2</th>\n",
       "      <td>TEST_000002</td>\n",
       "      <td>0.843111</td>\n",
       "      <td>0.156889</td>\n",
       "    </tr>\n",
       "    <tr>\n",
       "      <th>3</th>\n",
       "      <td>TEST_000003</td>\n",
       "      <td>0.904540</td>\n",
       "      <td>0.095460</td>\n",
       "    </tr>\n",
       "    <tr>\n",
       "      <th>4</th>\n",
       "      <td>TEST_000004</td>\n",
       "      <td>0.811994</td>\n",
       "      <td>0.188006</td>\n",
       "    </tr>\n",
       "    <tr>\n",
       "      <th>...</th>\n",
       "      <td>...</td>\n",
       "      <td>...</td>\n",
       "      <td>...</td>\n",
       "    </tr>\n",
       "    <tr>\n",
       "      <th>999995</th>\n",
       "      <td>TEST_999995</td>\n",
       "      <td>0.878874</td>\n",
       "      <td>0.121126</td>\n",
       "    </tr>\n",
       "    <tr>\n",
       "      <th>999996</th>\n",
       "      <td>TEST_999996</td>\n",
       "      <td>0.670443</td>\n",
       "      <td>0.329557</td>\n",
       "    </tr>\n",
       "    <tr>\n",
       "      <th>999997</th>\n",
       "      <td>TEST_999997</td>\n",
       "      <td>0.828629</td>\n",
       "      <td>0.171371</td>\n",
       "    </tr>\n",
       "    <tr>\n",
       "      <th>999998</th>\n",
       "      <td>TEST_999998</td>\n",
       "      <td>0.496196</td>\n",
       "      <td>0.503804</td>\n",
       "    </tr>\n",
       "    <tr>\n",
       "      <th>999999</th>\n",
       "      <td>TEST_999999</td>\n",
       "      <td>0.922640</td>\n",
       "      <td>0.077360</td>\n",
       "    </tr>\n",
       "  </tbody>\n",
       "</table>\n",
       "<p>1000000 rows × 3 columns</p>\n",
       "</div>"
      ],
      "text/plain": [
       "                 ID  Not_Delayed   Delayed\n",
       "0       TEST_000000     0.717337  0.282663\n",
       "1       TEST_000001     0.788568  0.211432\n",
       "2       TEST_000002     0.843111  0.156889\n",
       "3       TEST_000003     0.904540  0.095460\n",
       "4       TEST_000004     0.811994  0.188006\n",
       "...             ...          ...       ...\n",
       "999995  TEST_999995     0.878874  0.121126\n",
       "999996  TEST_999996     0.670443  0.329557\n",
       "999997  TEST_999997     0.828629  0.171371\n",
       "999998  TEST_999998     0.496196  0.503804\n",
       "999999  TEST_999999     0.922640  0.077360\n",
       "\n",
       "[1000000 rows x 3 columns]"
      ]
     },
     "execution_count": 38,
     "metadata": {},
     "output_type": "execute_result"
    }
   ],
   "source": [
    "submission_temp[['Not_Delayed', 'Delayed']] = pred_proba2\n",
    "submission_temp"
   ]
  },
  {
   "cell_type": "code",
   "execution_count": 40,
   "metadata": {},
   "outputs": [],
   "source": [
    "submission_temp.to_csv('./fillna_copod.csv', index=False)"
   ]
  },
  {
   "cell_type": "code",
   "execution_count": 41,
   "metadata": {},
   "outputs": [
    {
     "data": {
      "text/html": [
       "<div>\n",
       "<style scoped>\n",
       "    .dataframe tbody tr th:only-of-type {\n",
       "        vertical-align: middle;\n",
       "    }\n",
       "\n",
       "    .dataframe tbody tr th {\n",
       "        vertical-align: top;\n",
       "    }\n",
       "\n",
       "    .dataframe thead th {\n",
       "        text-align: right;\n",
       "    }\n",
       "</style>\n",
       "<table border=\"1\" class=\"dataframe\">\n",
       "  <thead>\n",
       "    <tr style=\"text-align: right;\">\n",
       "      <th></th>\n",
       "      <th>ID</th>\n",
       "      <th>Not_Delayed</th>\n",
       "      <th>Delayed</th>\n",
       "    </tr>\n",
       "  </thead>\n",
       "  <tbody>\n",
       "    <tr>\n",
       "      <th>0</th>\n",
       "      <td>TEST_000000</td>\n",
       "      <td>0.663189</td>\n",
       "      <td>0.336811</td>\n",
       "    </tr>\n",
       "    <tr>\n",
       "      <th>1</th>\n",
       "      <td>TEST_000001</td>\n",
       "      <td>0.772236</td>\n",
       "      <td>0.227764</td>\n",
       "    </tr>\n",
       "    <tr>\n",
       "      <th>2</th>\n",
       "      <td>TEST_000002</td>\n",
       "      <td>0.785473</td>\n",
       "      <td>0.214527</td>\n",
       "    </tr>\n",
       "    <tr>\n",
       "      <th>3</th>\n",
       "      <td>TEST_000003</td>\n",
       "      <td>0.815393</td>\n",
       "      <td>0.184607</td>\n",
       "    </tr>\n",
       "    <tr>\n",
       "      <th>4</th>\n",
       "      <td>TEST_000004</td>\n",
       "      <td>0.732847</td>\n",
       "      <td>0.267153</td>\n",
       "    </tr>\n",
       "    <tr>\n",
       "      <th>...</th>\n",
       "      <td>...</td>\n",
       "      <td>...</td>\n",
       "      <td>...</td>\n",
       "    </tr>\n",
       "    <tr>\n",
       "      <th>999995</th>\n",
       "      <td>TEST_999995</td>\n",
       "      <td>0.815953</td>\n",
       "      <td>0.184047</td>\n",
       "    </tr>\n",
       "    <tr>\n",
       "      <th>999996</th>\n",
       "      <td>TEST_999996</td>\n",
       "      <td>0.625703</td>\n",
       "      <td>0.374297</td>\n",
       "    </tr>\n",
       "    <tr>\n",
       "      <th>999997</th>\n",
       "      <td>TEST_999997</td>\n",
       "      <td>0.818013</td>\n",
       "      <td>0.181987</td>\n",
       "    </tr>\n",
       "    <tr>\n",
       "      <th>999998</th>\n",
       "      <td>TEST_999998</td>\n",
       "      <td>0.460900</td>\n",
       "      <td>0.539100</td>\n",
       "    </tr>\n",
       "    <tr>\n",
       "      <th>999999</th>\n",
       "      <td>TEST_999999</td>\n",
       "      <td>0.855068</td>\n",
       "      <td>0.144932</td>\n",
       "    </tr>\n",
       "  </tbody>\n",
       "</table>\n",
       "<p>1000000 rows × 3 columns</p>\n",
       "</div>"
      ],
      "text/plain": [
       "                 ID  Not_Delayed   Delayed\n",
       "0       TEST_000000     0.663189  0.336811\n",
       "1       TEST_000001     0.772236  0.227764\n",
       "2       TEST_000002     0.785473  0.214527\n",
       "3       TEST_000003     0.815393  0.184607\n",
       "4       TEST_000004     0.732847  0.267153\n",
       "...             ...          ...       ...\n",
       "999995  TEST_999995     0.815953  0.184047\n",
       "999996  TEST_999996     0.625703  0.374297\n",
       "999997  TEST_999997     0.818013  0.181987\n",
       "999998  TEST_999998     0.460900  0.539100\n",
       "999999  TEST_999999     0.855068  0.144932\n",
       "\n",
       "[1000000 rows x 3 columns]"
      ]
     },
     "execution_count": 41,
     "metadata": {},
     "output_type": "execute_result"
    }
   ],
   "source": [
    "submission_temp[['Not_Delayed', 'Delayed']] = (pred_proba1+pred_proba2)/2\n",
    "submission_temp"
   ]
  },
  {
   "cell_type": "code",
   "execution_count": 42,
   "metadata": {},
   "outputs": [],
   "source": [
    "submission_temp.to_csv('./fillna_copod_ecod.csv', index=False)"
   ]
  },
  {
   "cell_type": "code",
   "execution_count": null,
   "metadata": {},
   "outputs": [],
   "source": []
  }
 ],
 "metadata": {
  "kernelspec": {
   "display_name": "base",
   "language": "python",
   "name": "python3"
  },
  "language_info": {
   "codemirror_mode": {
    "name": "ipython",
    "version": 3
   },
   "file_extension": ".py",
   "mimetype": "text/x-python",
   "name": "python",
   "nbconvert_exporter": "python",
   "pygments_lexer": "ipython3",
   "version": "3.9.15"
  },
  "orig_nbformat": 4
 },
 "nbformat": 4,
 "nbformat_minor": 2
}
