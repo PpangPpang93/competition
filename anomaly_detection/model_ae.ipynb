{
 "cells": [
  {
   "cell_type": "code",
   "execution_count": 1,
   "metadata": {},
   "outputs": [],
   "source": [
    "import os\n",
    "import pandas as pd\n",
    "import numpy as np\n",
    "import random\n",
    "import math\n",
    "import matplotlib.pyplot as plt\n",
    "import IPython\n",
    "from tqdm import tqdm\n",
    "from datetime import datetime\n",
    "from sklearn.metrics import f1_score, recall_score, precision_score, confusion_matrix, accuracy_score, roc_curve, precision_recall_fscore_support\n",
    "\n",
    "import torch\n",
    "import torch.nn as nn\n",
    "import torch.nn.functional as F\n",
    "from torch.utils.data import Dataset, DataLoader\n",
    "from torch.optim.lr_scheduler import MultiStepLR\n"
   ]
  },
  {
   "cell_type": "code",
   "execution_count": 3,
   "metadata": {},
   "outputs": [],
   "source": [
    "path = '/Users/ppangppang/Documents/dev/TIL/dacon/data/'\n",
    "\n",
    "# train = pd.read_csv(path+'processed/processed_train.csv')\n",
    "# test = pd.read_csv(path+'processed/processed_test.csv')\n",
    "\n",
    "train = pd.read_csv(path+'processed/processed_train_impyute.csv')\n",
    "test = pd.read_csv(path+'processed/processed_test_impyute.csv')"
   ]
  },
  {
   "cell_type": "code",
   "execution_count": 3,
   "metadata": {},
   "outputs": [],
   "source": [
    "def seed_everything(seed):\n",
    "    random.seed(seed)\n",
    "    os.environ['PYTHONHASHSEED'] = str(seed)\n",
    "    np.random.seed(seed)\n",
    "    torch.manual_seed(seed)\n",
    "    torch.cuda.manual_seed(seed)\n",
    "    torch.backends.cudnn.deterministic = True\n",
    "    torch.backends.cudnn.benchmark = True\n",
    "\n",
    "seed_everything(2022)"
   ]
  },
  {
   "cell_type": "code",
   "execution_count": 4,
   "metadata": {},
   "outputs": [],
   "source": [
    "t_params = {\n",
    "        'encode_layer' : [27,14,7,3],\n",
    "        'decode_layer' : [3,7,14,27],            \n",
    "        'zc_dim': 1,\n",
    "        'n_gmm': 21, \n",
    "        'dropout': 0.5, \n",
    "        'lambda1': 0.001,\n",
    "        'lambda2': 0.005,\n",
    "        'epochs': 35, \n",
    "        'lr': 1e-3, \n",
    "        'batch_size': 64, \n",
    "        'train_iter': 100,\n",
    "        'val_iter': 50,\n",
    "        'es_patience': 2,\n",
    "        'ratio': 0.8,\n",
    "        'save_path': './',\n",
    "        'result_path': './',\n",
    "        'tunning_steps': 50\n",
    "    }"
   ]
  },
  {
   "cell_type": "code",
   "execution_count": 5,
   "metadata": {},
   "outputs": [],
   "source": [
    "test_stage_features = test.columns.to_list()"
   ]
  },
  {
   "cell_type": "markdown",
   "metadata": {},
   "source": [
    "### DAGMM 적용을 위한 데이터 분할\n",
    "- train 11000개 (정상) 80%\n",
    "- val 3095개 (이상) 20%"
   ]
  },
  {
   "cell_type": "code",
   "execution_count": 6,
   "metadata": {},
   "outputs": [],
   "source": [
    "nor_trn = train[train['Y_LABEL']==0]\n",
    "abn_trn = train[train['Y_LABEL']==1]\n",
    "trn = nor_trn.sample(frac=1, random_state=2022).reset_index(drop=True).iloc[:10000,:]\n",
    "val = pd.concat([nor_trn.sample(frac=1, random_state=2022).reset_index(drop=True).iloc[10000:,:], abn_trn])"
   ]
  },
  {
   "cell_type": "code",
   "execution_count": 7,
   "metadata": {},
   "outputs": [],
   "source": [
    "class BuildDataset(Dataset):\n",
    "    def __init__(self, data, label=False, distillation=False):\n",
    "        super(BuildDataset, self).__init__()\n",
    "        self.distillation = distillation\n",
    "            \n",
    "        if label==False:\n",
    "            self.data = data\n",
    "            self.label = np.zeros(len(self.data), dtype=np.int8)\n",
    "        else:\n",
    "            self.data = data.iloc[:,:-1]\n",
    "            self.label = data.iloc[:,-1].values\n",
    "            \n",
    "    def __len__(self):\n",
    "        return len(self.data)\n",
    "    \n",
    "    def __getitem__(self, idx):\n",
    "        if self.distillation:\n",
    "            # 지식 증류 학습 시\n",
    "            teacher_X = torch.FloatTensor(self.data.iloc[idx])\n",
    "            student_X = torch.FloatTensor(self.data[test_stage_features].iloc[idx])\n",
    "            y = self.label[idx]\n",
    "            return teacher_X, student_X, y\n",
    "        \n",
    "        else:\n",
    "            if self.label is None:\n",
    "                test_X = torch.FloatTensor(self.data.iloc[idx])\n",
    "                return test_X\n",
    "            \n",
    "            else:\n",
    "                teacher_X = torch.FloatTensor(self.data.iloc[idx])\n",
    "                y = self.label[idx]\n",
    "                return teacher_X, y"
   ]
  },
  {
   "cell_type": "markdown",
   "metadata": {},
   "source": [
    "## 모델"
   ]
  },
  {
   "cell_type": "code",
   "execution_count": 8,
   "metadata": {},
   "outputs": [],
   "source": [
    "class EarlyStop():\n",
    "    \"\"\"\n",
    "    학습 모델 저장 및 오버핏 방지를 위한 EarlyStop기능\n",
    "    :return : save best model file\n",
    "    \"\"\"\n",
    "    def __init__(self, params=None, verbose=True):\n",
    "\n",
    "        self.save_path = params['save_path']\n",
    "        self.patience = params['es_patience']\n",
    "        self.verbose = verbose\n",
    "        self.counter = 0\n",
    "        self.best_score = None\n",
    "        self.early_stop = False\n",
    "        self.val_loss_min = np.Inf\n",
    "        self.save_info = datetime.now().strftime(format='%y%m%d_%H%M')\n",
    "        # self.data_name = self.args.train_data.split('/')[-1].split('.')[-2]\n",
    "\n",
    "    def __call__(self, val_loss, model, optimizer, epoch):\n",
    "\n",
    "        score = -val_loss\n",
    "\n",
    "        if self.best_score is None:\n",
    "            self.best_score = score\n",
    "            self.save_checkpoint(val_loss, model, optimizer, epoch)\n",
    "        elif score < self.best_score:\n",
    "            self.counter += 1\n",
    "            print(f'EarlyStopping counter: {self.counter} out of {self.patience}')\n",
    "            if self.counter >= self.patience:\n",
    "                self.early_stop = True\n",
    "        else:\n",
    "            self.best_score = score\n",
    "            self.save_checkpoint(val_loss, model, optimizer, epoch)\n",
    "            self.counter = 0\n",
    "\n",
    "        return self.early_stop\n",
    "\n",
    "\n",
    "    def save_checkpoint(self, val_loss, model, optimizer, epoch):\n",
    "        if self.verbose:\n",
    "            print(f'Validation loss decreased {self.val_loss_min:.6f} --> {val_loss:.6f}.  \\n--------------------Saving model--------------------\\n')\n",
    "\n",
    "        torch.save(model.state_dict(), self.save_path + f'/{self.save_info}_epoch{epoch+1}.pt')\n",
    "        self.val_loss_min = val_loss\n"
   ]
  },
  {
   "cell_type": "code",
   "execution_count": 9,
   "metadata": {},
   "outputs": [],
   "source": [
    "class BuildModel(nn.Module):\n",
    "  \n",
    "    def __init__(self, params=None):\n",
    "        super(BuildModel, self).__init__()\n",
    "        \n",
    "        params['encode_layer'].insert(0,params['input_dim'])\n",
    "        params['decode_layer'].insert(len(params['decode_layer']), params['input_dim'])\n",
    "        \n",
    "        layers = []\n",
    "        for i in range(len(params['encode_layer'])-1):\n",
    "            layers += [nn.Linear(params['encode_layer'][i], params['encode_layer'][i+1])]\n",
    "            layers += [nn.ReLU()]\n",
    "        layers += [nn.Linear(params['encode_layer'][-1], params['zc_dim'])]\n",
    "\n",
    "        self.encoder = nn.Sequential(*layers)\n",
    "\n",
    "        layers = []\n",
    "        layers += [nn.Linear(params['zc_dim'], params['decode_layer'][0])]\n",
    "        \n",
    "        for i in range(len(params['decode_layer'])-1):\n",
    "            layers += [nn.ReLU()]\n",
    "            layers += [nn.Linear(params['decode_layer'][i], params['decode_layer'][i+1])]\n",
    "            \n",
    "        self.decoder = nn.Sequential(*layers)\n",
    "\n",
    "        layers = []\n",
    "        layers += [nn.Linear(params['zc_dim']+2, params['encode_layer'][-1])]\n",
    "        layers += [nn.ReLU()]        \n",
    "        layers += [nn.Dropout(p=params['dropout'])]        \n",
    "        layers += [nn.Linear(params['encode_layer'][-1], params['n_gmm'])]\n",
    "        layers += [nn.Softmax(dim=1)]\n",
    "\n",
    "        self.estimation = nn.Sequential(*layers)\n",
    "\n",
    "        self.lambda1 = params['lambda1']\n",
    "        self.lambda2 = params['lambda2']\n",
    "        \n",
    "        params['encode_layer'].pop(0)\n",
    "        params['decode_layer'].pop(-1)\n",
    "\n",
    "    def forward(self, x):\n",
    "        encoder = self.encoder(x)\n",
    "        decoder = self.decoder(encoder)\n",
    "        \n",
    "        rec_cosine = F.cosine_similarity(x, decoder, dim=1)\n",
    "        rec_euclidean = F.pairwise_distance(x, decoder,p=2)\n",
    "    \n",
    "        z = torch.cat([encoder, rec_euclidean.unsqueeze(-1), rec_cosine.unsqueeze(-1)], dim=1)\n",
    "\n",
    "        gamma = self.estimation(z)\n",
    "        \n",
    "        return encoder, decoder, z, gamma\n",
    "    \n",
    "    \n",
    "    @staticmethod\n",
    "    def reconstruction_error(x, x_hat):     \n",
    "        e = torch.tensor(0.0)\n",
    "        for i in range(x.shape[0]):\n",
    "            e += torch.dist(x[i], x_hat[i])\n",
    "        return e / x.shape[0]\n",
    "    \n",
    "    \n",
    "    @staticmethod\n",
    "    def get_gmm_param(gamma, z):     \n",
    "        N = gamma.shape[0]\n",
    "        ceta = torch.sum(gamma, dim=0) / N  #shape: [n_gmm]\n",
    "        \n",
    "        mean = torch.sum(gamma.unsqueeze(-1) * z.unsqueeze(1), dim=0)\n",
    "        mean = mean / torch.sum(gamma, dim=0).unsqueeze(-1)  #shape: [n_gmm, z_dim]\n",
    "            \n",
    "\n",
    "        z_mean = (z.unsqueeze(1)- mean.unsqueeze(0))\n",
    "        cov = torch.sum(gamma.unsqueeze(-1).unsqueeze(-1) * z_mean.unsqueeze(-1) * z_mean.unsqueeze(-2), dim = 0) / torch.sum(gamma, dim=0).unsqueeze(-1).unsqueeze(-1)\n",
    "            \n",
    "        return ceta, mean, cov\n",
    "    \n",
    "\n",
    "    @staticmethod\n",
    "    def sample_energy(ceta, mean, cov, zi, n_gmm, bs):\n",
    "        e = torch.tensor(0.0)\n",
    "        cov_eps = torch.eye(mean.shape[1]) * (1e-3) # original constant: 1e-12\n",
    "\n",
    "        for k in range(n_gmm):\n",
    "            miu_k = mean[k].unsqueeze(1)\n",
    "            d_k = zi - miu_k\n",
    "\n",
    "            inv_cov = torch.inverse(cov[k] + cov_eps)\n",
    "            \n",
    "            e_k = torch.exp(-0.5 * torch.chain_matmul(torch.t(d_k), inv_cov, d_k))\n",
    "            e_k = e_k / torch.sqrt(torch.abs(torch.det(2 * math.pi * cov[k])))\n",
    "            e_k = e_k * ceta[k]\n",
    "            e += e_k.squeeze()\n",
    "            \n",
    "        return -torch.log(e)\n",
    "    \n",
    "\n",
    "    def loss_func(self, x, decoder, gamma, z):\n",
    "        bs,n_gmm = gamma.shape[0], gamma.shape[1]        \n",
    "        #1\n",
    "        recon_error = self.reconstruction_error(x, decoder)\n",
    "        \n",
    "        #2\n",
    "        ceta, mean, cov = self.get_gmm_param(gamma, z)\n",
    "        \n",
    "        e = torch.tensor(0.0)\n",
    "        for i in range(z.shape[0]):\n",
    "            zi = z[i].unsqueeze(1)\n",
    "            ei = self.sample_energy(ceta, mean, cov, zi,n_gmm,bs)\n",
    "            e += ei\n",
    "\n",
    "        #3\n",
    "        p = torch.tensor(0.0)\n",
    "        for k in range(n_gmm):\n",
    "            cov_k = cov[k]\n",
    "            p_k = torch.sum(1 / torch.diagonal(cov_k, 0))\n",
    "            p += p_k\n",
    "            \n",
    "        loss = recon_error + (self.lambda1 / z.shape[0]) * e   + self.lambda2 * p\n",
    "        \n",
    "        return loss, recon_error, e/z.shape[0], p"
   ]
  },
  {
   "cell_type": "code",
   "execution_count": 10,
   "metadata": {},
   "outputs": [],
   "source": [
    "def train_loss_plot(losses):\n",
    "    \"\"\"\n",
    "    train_loss plot 시각화\n",
    "    \"\"\"        \n",
    "    plt.clf()\n",
    "    _, ax = plt.subplots(figsize=(10,5), dpi=80)\n",
    "    ax.plot(losses, 'blue', label='train', linewidth=1)\n",
    "    ax.set_title('Loss change in training')\n",
    "    ax.set_ylabel('Loss')\n",
    "    ax.set_xlabel('Iteration')\n",
    "    ax.legend(loc='upper right')\n",
    "\n",
    "    plt.show()\n",
    "\n",
    "\n",
    "def validation_loss_plot(losses):\n",
    "    \"\"\"\n",
    "    validation_loss plot 시각화\n",
    "    \"\"\"          \n",
    "    plt.clf()\n",
    "    _, ax = plt.subplots(figsize=(10,5), dpi=80)\n",
    "    ax.plot(losses, 'blue', label='val', linewidth=1)\n",
    "    ax.set_title('Loss change in validation')\n",
    "    ax.set_ylabel('Loss')\n",
    "    ax.set_xlabel('Iteration')\n",
    "    ax.legend(loc='upper right')\n",
    "\n",
    "    plt.show()"
   ]
  },
  {
   "cell_type": "code",
   "execution_count": 11,
   "metadata": {},
   "outputs": [],
   "source": [
    "def train_teacher(model, train_dataloader, valid_dataloader):\n",
    "    device = torch.device('cuda' if torch.cuda.is_available() else 'cpu')\n",
    "    model = model.to(device)\n",
    "\n",
    "    optim = torch.optim.Adam(model.parameters(), t_params['lr'], amsgrad=True)\n",
    "    scheduler = MultiStepLR(optim, [5, 8], 0.1)\n",
    "\n",
    "    total_loss, total_recon_error, total_e, total_p = 0, 0, 0, 0\n",
    "    loss_plot, val_loss_plot = [], []\n",
    "\n",
    "    for epoch in range(t_params['epochs']):\n",
    "        for step, (input_data, _) in enumerate(tqdm(train_dataloader, desc=f'epcoch{epoch+1}')):\n",
    "            input_data = input_data.to(device)\n",
    "            model.train()\n",
    "            optim.zero_grad()\n",
    "            input_data = input_data.squeeze(1)\n",
    "            encoder, decoder, z, gamma = model(input_data)\n",
    "            input_data, decoder, z, gamma = input_data.cpu(), decoder.cpu(), z.cpu(), gamma.cpu()\n",
    "            loss, recon_error, e, p = model.loss_func(input_data, decoder, gamma, z)\n",
    "    \n",
    "            total_loss += loss.item()\n",
    "            total_recon_error += recon_error.item()\n",
    "            total_e += e.item()\n",
    "            total_p += p.item()\n",
    "\n",
    "            loss.backward()\n",
    "            torch.nn.utils.clip_grad_norm_(model.parameters(), 5)\n",
    "            optim.step()\n",
    "            \n",
    "            if (step+1) % t_params['train_iter'] == 0:\n",
    "\n",
    "                log = '\\nlr {}, loss {:.2f}, recon_error {:.2f}, energy {:.2f}, p_diag {:.2f}'.format(optim.param_groups[0]['lr'], \n",
    "                                                                                                total_loss/t_params['train_iter'], \n",
    "                                                                                                total_recon_error/t_params['train_iter'], \n",
    "                                                                                                total_e/t_params['train_iter'], \n",
    "                                                                                                total_p/t_params['train_iter'])\n",
    "\n",
    "                IPython.display.clear_output()\n",
    "                print(log)\n",
    "                loss_plot.append(total_loss/t_params['train_iter'])\n",
    "                train_loss_plot(loss_plot)\n",
    "                total_loss, total_recon_error, total_e, total_p = 0, 0, 0, 0\n",
    "\n",
    "        with torch.no_grad():\n",
    "            print(\"----------------------Validation----------------------\\n\")\n",
    "            val_total_loss, val_total_recon_error, val_total_e, val_total_p = 0, 0, 0, 0\n",
    "\n",
    "            model.eval()\n",
    "            for step, (input_data,_) in enumerate(tqdm(valid_dataloader, desc=\"Val\")):\n",
    "                input_data = input_data.to(device)\n",
    "                input_data = input_data.squeeze(1)\n",
    "                encoder,decoder,z,gamma = model(input_data)\n",
    "                input_data,decoder,z,gamma = input_data.cpu(),decoder.cpu(),z.cpu(),gamma.cpu()\n",
    "                loss, recon_error, e, p = model.loss_func(input_data, decoder, gamma, z)\n",
    "\n",
    "                val_total_loss += loss.item()\n",
    "                val_total_recon_error += recon_error.item()\n",
    "                val_total_e += e.item()\n",
    "                val_total_p += p.item()\n",
    "                \n",
    "                if (step+1) % t_params['val_iter'] == 0:\n",
    "                    log = '\\n val_loss {:.2f}, recon_error {:.2f}, energy {:.2f}, p_diag {:.2f}'.format(\n",
    "                                                                        val_total_loss/t_params['val_iter'], \n",
    "                                                                        val_total_recon_error/t_params['val_iter'], \n",
    "                                                                        val_total_e/t_params['val_iter'], \n",
    "                                                                        val_total_p/t_params['val_iter']) \n",
    "\n",
    "                    IPython.display.clear_output()\n",
    "                    print(log)\n",
    "                    val_loss_plot.append(val_total_loss/t_params['val_iter'])\n",
    "                    validation_loss_plot(val_loss_plot)\n",
    "                    val_total_loss, val_total_recon_error, val_total_e, val_total_p = 0, 0, 0, 0\n",
    "\n",
    "        scheduler.step() \n",
    "        train_loss_plot(loss_plot)\n",
    "    print('\\n-------------Train Finished-------------')\n",
    "    \n",
    "    return model"
   ]
  },
  {
   "cell_type": "code",
   "execution_count": 12,
   "metadata": {},
   "outputs": [],
   "source": [
    "t_train_dataset = BuildDataset(trn.iloc[:int(len(trn)*0.9),:-1],distillation=False)\n",
    "t_train_loader = DataLoader(t_train_dataset, batch_size = t_params['batch_size'], shuffle=True)\n",
    "\n",
    "t_val_dataset = BuildDataset(trn.iloc[int(len(trn)*0.9):,:-1], distillation=False)\n",
    "t_val_loader = DataLoader(t_val_dataset, batch_size = t_params['batch_size'], shuffle=False)"
   ]
  },
  {
   "cell_type": "code",
   "execution_count": 13,
   "metadata": {},
   "outputs": [],
   "source": [
    "t_params['input_dim'] = trn.iloc[:,:-1].shape[1]\n",
    "t_model = BuildModel(params=t_params)"
   ]
  },
  {
   "cell_type": "code",
   "execution_count": 14,
   "metadata": {},
   "outputs": [],
   "source": [
    "# t_model"
   ]
  },
  {
   "cell_type": "code",
   "execution_count": 15,
   "metadata": {},
   "outputs": [
    {
     "name": "stdout",
     "output_type": "stream",
     "text": [
      "\n",
      "lr 1e-05, loss 2.09, recon_error 1.60, energy 2.50, p_diag 98.18\n"
     ]
    },
    {
     "data": {
      "text/plain": [
       "<Figure size 640x480 with 0 Axes>"
      ]
     },
     "metadata": {},
     "output_type": "display_data"
    },
    {
     "data": {
      "image/png": "[encoded data removed]",
      "text/plain": [
       "<Figure size 800x400 with 1 Axes>"
      ]
     },
     "metadata": {},
     "output_type": "display_data"
    },
    {
     "name": "stderr",
     "output_type": "stream",
     "text": [
      "epcoch35: 100%|██████████| 141/141 [01:26<00:00,  1.63it/s]\n"
     ]
    },
    {
     "name": "stdout",
     "output_type": "stream",
     "text": [
      "----------------------Validation----------------------\n",
      "\n"
     ]
    },
    {
     "name": "stderr",
     "output_type": "stream",
     "text": [
      "Val: 100%|██████████| 16/16 [00:03<00:00,  4.83it/s]\n"
     ]
    },
    {
     "data": {
      "text/plain": [
       "<Figure size 640x480 with 0 Axes>"
      ]
     },
     "metadata": {},
     "output_type": "display_data"
    },
    {
     "data": {
      "image/png": "[encoded data removed]",
      "text/plain": [
       "<Figure size 800x400 with 1 Axes>"
      ]
     },
     "metadata": {},
     "output_type": "display_data"
    },
    {
     "name": "stdout",
     "output_type": "stream",
     "text": [
      "\n",
      "-------------Train Finished-------------\n"
     ]
    }
   ],
   "source": [
    "best_t_model = train_teacher(t_model, t_train_loader, t_val_loader)"
   ]
  },
  {
   "cell_type": "code",
   "execution_count": 16,
   "metadata": {},
   "outputs": [],
   "source": [
    "s_params = {\n",
    "        'encode_layer' : [11,6,3],\n",
    "        'decode_layer' : [3,6,11],            \n",
    "        'zc_dim': 1,\n",
    "        'n_gmm': 21, \n",
    "        'dropout': 0.5, \n",
    "        'lambda1': 0.001,\n",
    "        'lambda2': 0.005,\n",
    "        'epochs': 30, \n",
    "        'lr': 1e-3, \n",
    "        'batch_size': 64, \n",
    "        'train_iter': 100,\n",
    "        'val_iter': 50,\n",
    "        'es_patience': 2,\n",
    "        'ratio': 0.8,\n",
    "        'save_path': './',\n",
    "        'result_path': './',\n",
    "        'tunning_steps': 50\n",
    "    }"
   ]
  },
  {
   "cell_type": "markdown",
   "metadata": {},
   "source": [
    "## student model"
   ]
  },
  {
   "cell_type": "code",
   "execution_count": 17,
   "metadata": {},
   "outputs": [],
   "source": [
    "def train_student(t_model, s_model, train_dataloader, valid_dataloader):\n",
    "    device = torch.device('cuda' if torch.cuda.is_available() else 'cpu')\n",
    "    t_model = t_model.to(device)\n",
    "    s_model = s_model.to(device)\n",
    "\n",
    "    optim = torch.optim.Adam(s_model.parameters(), s_params['lr'], amsgrad=True)\n",
    "    scheduler = MultiStepLR(optim, [5, 8], 0.1)    \n",
    "\n",
    "    total_loss, total_recon_error, total_e, total_p = 0, 0, 0, 0\n",
    "    loss_plot, val_loss_plot = [], []\n",
    "\n",
    "    for epoch in range(s_params['epochs']):\n",
    "        for step,(t_input_data, s_input_data, _) in enumerate(tqdm(train_dataloader, desc=f'epcoch{epoch+1}')):\n",
    "            \n",
    "            s_model.train()\n",
    "            s_input_data = s_input_data.to(device)\n",
    "            optim.zero_grad()\n",
    "            s_input_data = s_input_data.squeeze(1)\n",
    "            encoder, decoder, z, gamma = s_model(s_input_data)\n",
    "            s_input_data, decoder, z, gamma = s_input_data.cpu(), decoder.cpu(), z.cpu(), gamma.cpu()\n",
    "            s_loss, recon_error, e, p = s_model.loss_func(s_input_data, decoder, gamma, z)\n",
    "            \n",
    "            t_model.eval()\n",
    "            with torch.no_grad():\n",
    "                t_input_data = t_input_data.to(device)\n",
    "                t_input_data = t_input_data.squeeze(1)\n",
    "                encoder,decoder,z,gamma = t_model(t_input_data)\n",
    "                t_input_data,decoder,z,gamma = t_input_data.cpu(),decoder.cpu(),z.cpu(),gamma.cpu()\n",
    "                t_loss, _,_,_ = t_model.loss_func(t_input_data, decoder, gamma, z)            \n",
    "                \n",
    "            loss = 0.9*s_loss + 0.1*t_loss\n",
    "            \n",
    "            total_loss += loss.item()\n",
    "            total_recon_error += recon_error.item()\n",
    "            total_e += e.item()\n",
    "            total_p += p.item()\n",
    "\n",
    "            loss.backward()\n",
    "            torch.nn.utils.clip_grad_norm_(s_model.parameters(), 5)\n",
    "            optim.step()\n",
    "            \n",
    "            if (step+1) % s_params['train_iter'] == 0:\n",
    "\n",
    "                log = '\\nlr {}, loss {:.2f}, recon_error {:.2f}, energy {:.2f}, p_diag {:.2f}'.format(optim.param_groups[0]['lr'], \n",
    "                                                                                                total_loss/s_params['train_iter'], \n",
    "                                                                                                total_recon_error/s_params['train_iter'], \n",
    "                                                                                                total_e/s_params['train_iter'], \n",
    "                                                                                                total_p/s_params['train_iter'])                \n",
    "                IPython.display.clear_output()\n",
    "                print(log)\n",
    "                loss_plot.append(total_loss/s_params['train_iter'])\n",
    "                train_loss_plot(loss_plot)\n",
    "                total_loss, total_recon_error, total_e, total_p = 0, 0, 0, 0\n",
    "\n",
    "        with torch.no_grad():\n",
    "            print(\"----------------------Validation----------------------\\n\")\n",
    "            val_total_loss, val_total_recon_error, val_total_e, val_total_p = 0, 0, 0, 0\n",
    "            \n",
    "            for step,(t_input_data, s_input_data, _) in enumerate(tqdm(valid_dataloader, desc=\"Val\")):\n",
    "                \n",
    "                s_model.eval()\n",
    "                s_input_data = s_input_data.to(device)\n",
    "                s_input_data = s_input_data.squeeze(1)\n",
    "                encoder, decoder, z, gamma = s_model(s_input_data)\n",
    "                s_input_data, decoder, z, gamma = s_input_data.cpu(), decoder.cpu(), z.cpu(), gamma.cpu()\n",
    "                s_loss, recon_error, e, p = s_model.loss_func(s_input_data, decoder, gamma, z)\n",
    "\n",
    "                t_model.eval()\n",
    "                t_input_data = t_input_data.to(device)\n",
    "                t_input_data = t_input_data.squeeze(1)\n",
    "                encoder,decoder,z,gamma = t_model(t_input_data)\n",
    "                t_input_data,decoder,z,gamma = t_input_data.cpu(),decoder.cpu(),z.cpu(),gamma.cpu()\n",
    "                t_loss, _,_,_ = t_model.loss_func(t_input_data, decoder, gamma, z)            \n",
    "                \n",
    "                val_total_loss = s_loss + t_loss\n",
    "                \n",
    "                if (step+1) % s_params['val_iter'] == 0:\n",
    "                    \n",
    "                    log = '\\n val_loss {:.2f}, recon_error {:.2f}, energy {:.2f}, p_diag {:.2f}'.format(\n",
    "                                                                            val_total_loss/s_params['val_iter'], \n",
    "                                                                            val_total_recon_error/s_params['val_iter'], \n",
    "                                                                            val_total_e/s_params['val_iter'], \n",
    "                                                                            val_total_p/s_params['val_iter'])\n",
    "                    IPython.display.clear_output()\n",
    "                    print(log)\n",
    "                    loss_plot.append(val_total_loss/s_params['val_iter'])\n",
    "                    validation_loss_plot(loss_plot)\n",
    "                    val_total_loss, val_total_recon_error, val_total_e, val_total_p = 0, 0, 0, 0\n",
    "\n",
    "        scheduler.step() \n",
    "        train_loss_plot(loss_plot)\n",
    "    print('\\n-------------Train Finished-------------')\n",
    "    return s_model"
   ]
  },
  {
   "cell_type": "code",
   "execution_count": 18,
   "metadata": {},
   "outputs": [],
   "source": [
    "s_train_dataset = BuildDataset(trn.iloc[:int(len(trn)*0.9),:-1], distillation=True)\n",
    "s_train_loader = DataLoader(s_train_dataset, batch_size = s_params['batch_size'], shuffle=True)\n",
    "\n",
    "s_val_dataset = BuildDataset(trn.iloc[int(len(trn)*0.9):,:-1], distillation=True)\n",
    "s_val_loader = DataLoader(s_val_dataset, batch_size = s_params['batch_size'], shuffle=False)"
   ]
  },
  {
   "cell_type": "code",
   "execution_count": 19,
   "metadata": {},
   "outputs": [],
   "source": [
    "s_params['input_dim'] = len(test.columns)\n",
    "s_model = BuildModel(params=s_params)"
   ]
  },
  {
   "cell_type": "code",
   "execution_count": 20,
   "metadata": {},
   "outputs": [],
   "source": [
    "# s_model"
   ]
  },
  {
   "cell_type": "code",
   "execution_count": 21,
   "metadata": {},
   "outputs": [
    {
     "name": "stdout",
     "output_type": "stream",
     "text": [
      "\n",
      "lr 1e-05, loss 3.52, recon_error 1.50, energy 2.33, p_diag 176.24\n"
     ]
    },
    {
     "data": {
      "text/plain": [
       "<Figure size 640x480 with 0 Axes>"
      ]
     },
     "metadata": {},
     "output_type": "display_data"
    },
    {
     "data": {
      "image/png": "[encoded data removed]",
      "text/plain": [
       "<Figure size 800x400 with 1 Axes>"
      ]
     },
     "metadata": {},
     "output_type": "display_data"
    },
    {
     "name": "stderr",
     "output_type": "stream",
     "text": [
      "epcoch30: 100%|██████████| 141/141 [02:01<00:00,  1.16it/s]\n"
     ]
    },
    {
     "name": "stdout",
     "output_type": "stream",
     "text": [
      "----------------------Validation----------------------\n",
      "\n"
     ]
    },
    {
     "name": "stderr",
     "output_type": "stream",
     "text": [
      "Val: 100%|██████████| 16/16 [00:07<00:00,  2.27it/s]\n"
     ]
    },
    {
     "data": {
      "text/plain": [
       "<Figure size 640x480 with 0 Axes>"
      ]
     },
     "metadata": {},
     "output_type": "display_data"
    },
    {
     "data": {
      "image/png": "[encoded data removed]",
      "text/plain": [
       "<Figure size 800x400 with 1 Axes>"
      ]
     },
     "metadata": {},
     "output_type": "display_data"
    },
    {
     "name": "stdout",
     "output_type": "stream",
     "text": [
      "\n",
      "-------------Train Finished-------------\n"
     ]
    }
   ],
   "source": [
    "best_s_model = train_student(t_model, s_model, s_train_loader, s_val_loader)"
   ]
  },
  {
   "cell_type": "markdown",
   "metadata": {},
   "source": [
    "### inference에 필요"
   ]
  },
  {
   "cell_type": "code",
   "execution_count": 22,
   "metadata": {},
   "outputs": [],
   "source": [
    "def compute_threshold(model, train_loader,len_data):\n",
    "    energies = np.zeros(shape=(len_data))\n",
    "    step = 0\n",
    "    energy_interval = 50\n",
    "\n",
    "    with torch.no_grad():\n",
    "        for _, x, y in train_loader:\n",
    "\n",
    "            enc,dec,z,gamma = model(x)\n",
    "            m_prob, m_mean, m_cov = model.get_gmm_param(gamma, z)\n",
    "            \n",
    "            for i in range(z.shape[0]):\n",
    "                zi = z[i].unsqueeze(1)\n",
    "                sample_energy = model.sample_energy(m_prob, m_mean, m_cov, zi,gamma.shape[1], gamma.shape[0])\n",
    "\n",
    "                energies[step] = sample_energy.detach().item()\n",
    "                step += 1\n",
    "\n",
    "            if step % energy_interval == 0:\n",
    "                print('Iteration: %d    sample energy: %.4f' % (step, sample_energy))\n",
    "    \n",
    "    threshold = np.percentile(energies, 80)\n",
    "    print('threshold: %.4f' %(threshold))\n",
    "    \n",
    "    return threshold"
   ]
  },
  {
   "cell_type": "code",
   "execution_count": 23,
   "metadata": {},
   "outputs": [],
   "source": [
    "def predict(s_model, train_dataloader, len_train, test_dataloader, len_test, threshold=True):\n",
    "    device = torch.device('cpu')\n",
    "    model = s_model.to(device)\n",
    "    model.eval()\n",
    "    \n",
    "    if threshold == False:\n",
    "        threshold = compute_threshold(model,train_dataloader,len_train)\n",
    "    else:\n",
    "        threshold = -1.1974\n",
    "\n",
    "\n",
    "    pred = np.zeros(len_test)\n",
    "    step = 0\n",
    "\n",
    "    with torch.no_grad():\n",
    "        for _, s_input_data, y in tqdm(test_dataloader, desc='caluate energy'):\n",
    "            s_input_data = s_input_data.squeeze(1)\n",
    "            encoder , decoder, z, gamma = model(s_input_data)            \n",
    "            m_prob, m_mean, m_cov = model.get_gmm_param(gamma, z)\n",
    "            \n",
    "            for i in range(z.shape[0]):\n",
    "                zi = z[i].unsqueeze(1)\n",
    "                sample_energy = model.sample_energy(m_prob, m_mean, m_cov, zi, gamma.shape[1], gamma.shape[0])\n",
    "                se = sample_energy.detach().item()\n",
    "                \n",
    "                pred[step] = int(se > threshold)\n",
    "                step += 1\n",
    "                \n",
    "        return pred"
   ]
  },
  {
   "cell_type": "markdown",
   "metadata": {},
   "source": [
    "## train의 일부로 평가(자체평가) -> 이거 s_train_loader 전체데이터로 바꾸기"
   ]
  },
  {
   "cell_type": "code",
   "execution_count": 24,
   "metadata": {},
   "outputs": [],
   "source": [
    "full_train_dataset = BuildDataset(trn.iloc[:,:-1], distillation=True)\n",
    "s_full_train_loader = DataLoader(full_train_dataset, batch_size = s_params['batch_size'], shuffle=False)\n",
    "len_train = len(full_train_dataset)\n",
    "\n",
    "test_dataset = BuildDataset(val, label=True, distillation=True)\n",
    "s_test_dataset = DataLoader(test_dataset, batch_size = s_params['batch_size'], shuffle=False)\n",
    "len_test = len(test_dataset)"
   ]
  },
  {
   "cell_type": "code",
   "execution_count": 25,
   "metadata": {},
   "outputs": [
    {
     "name": "stdout",
     "output_type": "stream",
     "text": [
      "Iteration: 1600    sample energy: 1.3568\n",
      "Iteration: 3200    sample energy: 1.0936\n",
      "Iteration: 4800    sample energy: 0.7393\n",
      "Iteration: 6400    sample energy: 1.8855\n",
      "Iteration: 8000    sample energy: 1.9370\n",
      "Iteration: 9600    sample energy: 0.9525\n",
      "Iteration: 10000    sample energy: -0.4953\n",
      "threshold: 2.0012\n"
     ]
    },
    {
     "name": "stderr",
     "output_type": "stream",
     "text": [
      "caluate energy: 100%|██████████| 64/64 [00:15<00:00,  4.01it/s]\n"
     ]
    },
    {
     "data": {
      "text/plain": [
       "4095"
      ]
     },
     "execution_count": 25,
     "metadata": {},
     "output_type": "execute_result"
    }
   ],
   "source": [
    "pred = predict(s_model, s_full_train_loader, len_train, s_test_dataset, len_test, threshold=False)\n",
    "len(pred)"
   ]
  },
  {
   "cell_type": "code",
   "execution_count": 26,
   "metadata": {},
   "outputs": [
    {
     "name": "stdout",
     "output_type": "stream",
     "text": [
      "Precision: 0.3389  Recall: 0.2186  F-score: 0.2658\n"
     ]
    },
    {
     "data": {
      "text/plain": [
       "array([[ 263,  940],\n",
       "       [ 513, 2379]], dtype=int64)"
      ]
     },
     "execution_count": 26,
     "metadata": {},
     "output_type": "execute_result"
    }
   ],
   "source": [
    "temp = val.copy()\n",
    "temp['pred'] = pred\n",
    "precision, recall, fscore, support = precision_recall_fscore_support(temp['Y_LABEL'], temp['pred'], average='binary', labels=[1,0])\n",
    "print('Precision: %.4f  Recall: %.4f  F-score: %.4f' % (precision, recall, fscore))\n",
    "confusion_matrix(temp['Y_LABEL'], temp['pred'], labels=[1,0])"
   ]
  },
  {
   "cell_type": "markdown",
   "metadata": {},
   "source": [
    "## test 데이터를 불러와서 로더로 바꾸고 에너지 구하고 pred 구해서 제출"
   ]
  },
  {
   "cell_type": "code",
   "execution_count": 27,
   "metadata": {},
   "outputs": [],
   "source": [
    "real_test_dataset = BuildDataset(test, distillation=True)\n",
    "s_real_test_dataset = DataLoader(real_test_dataset, batch_size = s_params['batch_size'], shuffle=False)\n",
    "len_test = len(real_test_dataset)"
   ]
  },
  {
   "cell_type": "code",
   "execution_count": 28,
   "metadata": {},
   "outputs": [
    {
     "name": "stdout",
     "output_type": "stream",
     "text": [
      "Iteration: 1600    sample energy: 1.3568\n",
      "Iteration: 3200    sample energy: 1.0936\n",
      "Iteration: 4800    sample energy: 0.7393\n",
      "Iteration: 6400    sample energy: 1.8855\n",
      "Iteration: 8000    sample energy: 1.9370\n",
      "Iteration: 9600    sample energy: 0.9525\n",
      "Iteration: 10000    sample energy: -0.4953\n",
      "threshold: 2.0012\n"
     ]
    },
    {
     "name": "stderr",
     "output_type": "stream",
     "text": [
      "caluate energy: 100%|██████████| 64/64 [00:15<00:00,  4.03it/s]\n"
     ]
    },
    {
     "data": {
      "text/plain": [
       "6041"
      ]
     },
     "execution_count": 28,
     "metadata": {},
     "output_type": "execute_result"
    }
   ],
   "source": [
    "pred = predict(s_model, s_full_train_loader, len_train, s_test_dataset, len_test, threshold=False)\n",
    "len(pred)"
   ]
  },
  {
   "cell_type": "code",
   "execution_count": 29,
   "metadata": {},
   "outputs": [
    {
     "data": {
      "text/html": [
       "<div>\n",
       "<style scoped>\n",
       "    .dataframe tbody tr th:only-of-type {\n",
       "        vertical-align: middle;\n",
       "    }\n",
       "\n",
       "    .dataframe tbody tr th {\n",
       "        vertical-align: top;\n",
       "    }\n",
       "\n",
       "    .dataframe thead th {\n",
       "        text-align: right;\n",
       "    }\n",
       "</style>\n",
       "<table border=\"1\" class=\"dataframe\">\n",
       "  <thead>\n",
       "    <tr style=\"text-align: right;\">\n",
       "      <th></th>\n",
       "      <th>ID</th>\n",
       "      <th>Y_LABEL</th>\n",
       "    </tr>\n",
       "  </thead>\n",
       "  <tbody>\n",
       "    <tr>\n",
       "      <th>0</th>\n",
       "      <td>TEST_0000</td>\n",
       "      <td>0.0</td>\n",
       "    </tr>\n",
       "    <tr>\n",
       "      <th>1</th>\n",
       "      <td>TEST_0001</td>\n",
       "      <td>0.0</td>\n",
       "    </tr>\n",
       "    <tr>\n",
       "      <th>2</th>\n",
       "      <td>TEST_0002</td>\n",
       "      <td>0.0</td>\n",
       "    </tr>\n",
       "    <tr>\n",
       "      <th>3</th>\n",
       "      <td>TEST_0003</td>\n",
       "      <td>1.0</td>\n",
       "    </tr>\n",
       "    <tr>\n",
       "      <th>4</th>\n",
       "      <td>TEST_0004</td>\n",
       "      <td>1.0</td>\n",
       "    </tr>\n",
       "  </tbody>\n",
       "</table>\n",
       "</div>"
      ],
      "text/plain": [
       "          ID  Y_LABEL\n",
       "0  TEST_0000      0.0\n",
       "1  TEST_0001      0.0\n",
       "2  TEST_0002      0.0\n",
       "3  TEST_0003      1.0\n",
       "4  TEST_0004      1.0"
      ]
     },
     "execution_count": 29,
     "metadata": {},
     "output_type": "execute_result"
    }
   ],
   "source": [
    "submit = pd.read_csv(path + '/raw/sample_submission.csv')\n",
    "submit['Y_LABEL'] = pred\n",
    "submit.head()"
   ]
  },
  {
   "cell_type": "code",
   "execution_count": 30,
   "metadata": {},
   "outputs": [],
   "source": [
    "submit.to_csv(path + './221118_2.csv', index=False)"
   ]
  }
 ],
 "metadata": {
  "kernelspec": {
   "display_name": "Python 3.9.13 ('base')",
   "language": "python",
   "name": "python3"
  },
  "language_info": {
   "codemirror_mode": {
    "name": "ipython",
    "version": 3
   },
   "file_extension": ".py",
   "mimetype": "text/x-python",
   "name": "python",
   "nbconvert_exporter": "python",
   "pygments_lexer": "ipython3",
   "version": "3.9.13"
  },
  "orig_nbformat": 4,
  "vscode": {
   "interpreter": {
    "hash": "df9a0fe38763b2a4d08ac7a9030bc5d01bf1005b3255eaebfe74fccdb934e404"
   }
  }
 },
 "nbformat": 4,
 "nbformat_minor": 2
}
