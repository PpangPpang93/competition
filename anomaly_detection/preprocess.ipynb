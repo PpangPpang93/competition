{
 "cells": [
  {
   "cell_type": "code",
   "execution_count": 30,
   "metadata": {},
   "outputs": [],
   "source": [
    "import os\n",
    "import pandas as pd\n",
    "import numpy as np\n",
    "from sklearn.preprocessing import MinMaxScaler\n",
    "\n",
    "path = 'C:/Users/ppang/Documents/dev/TIL/dacon/data/'\n",
    "\n",
    "train = pd.read_csv(path + 'raw/train.csv')\n",
    "test = pd.read_csv(path + 'raw/test.csv')"
   ]
  },
  {
   "cell_type": "code",
   "execution_count": 2,
   "metadata": {},
   "outputs": [],
   "source": [
    "# train\n",
    "trn_null_col = ['ID','CD','FH2O','FNOX','FOPTIMETHGLY','FOXID','FSO4','FTBN','FUEL','SOOTPERCENTAGE','U100','U75','U50','U25','U20','U14','U6','U4','V100']\n",
    "\n",
    "trn_str_col = ['COMPONENT_ARBITRARY', 'AG', 'BE']\n",
    "trn_num_col = ['ANONYMOUS_1','YEAR','SAMPLE_TRANSFER_DAY','ANONYMOUS_2','AL','B','BA','CA','CO','CR','CU','FE','H2O','K','LI','MG','MN','MO','NA','NI','P','PB','PQINDEX','S','SB','SI','SN','TI','V','V40','ZN']\n",
    "label_col = ['Y_LABEL']\n",
    "label = train['Y_LABEL']\n",
    "\n",
    "train = train[trn_str_col+trn_num_col+label_col]\n",
    "train[trn_str_col] = train[trn_str_col].astype(str)"
   ]
  },
  {
   "cell_type": "code",
   "execution_count": 3,
   "metadata": {},
   "outputs": [],
   "source": [
    "# test\n",
    "tst_use_col = ['COMPONENT_ARBITRARY', 'ANONYMOUS_1', 'YEAR', 'ANONYMOUS_2', 'AG', 'CO', 'CR', 'CU', 'FE', 'H2O', 'MN', 'MO', 'NI', 'PQINDEX', 'TI', 'V','V40','ZN']\n",
    "\n",
    "tst_str_col = ['COMPONENT_ARBITRARY','AG']\n",
    "# tst_num_col\n",
    "tst_num_col = ['ANONYMOUS_1','YEAR','ANONYMOUS_2','CO','CR','CU','FE','H2O','MN','MO','NI','PQINDEX','TI','V','V40','ZN']\n",
    "\n",
    "test = test[tst_use_col]\n",
    "test[tst_str_col] = test[tst_str_col].astype(str)"
   ]
  },
  {
   "cell_type": "markdown",
   "metadata": {},
   "source": [
    "## 결측처리"
   ]
  },
  {
   "cell_type": "code",
   "execution_count": 4,
   "metadata": {},
   "outputs": [],
   "source": [
    "train.fillna(train[['K']].mean(), inplace=True)"
   ]
  },
  {
   "cell_type": "markdown",
   "metadata": {},
   "source": [
    "### encoding, scaling"
   ]
  },
  {
   "cell_type": "code",
   "execution_count": 5,
   "metadata": {},
   "outputs": [],
   "source": [
    "mms = MinMaxScaler()\n",
    "\n",
    "train[trn_num_col] = mms.fit_transform(train[trn_num_col])\n",
    "trn_str = pd.get_dummies(train[trn_str_col])\n",
    "train = pd.concat([trn_str,train[trn_num_col]], axis=1)\n",
    "train['Y_LABEL'] = label\n",
    "\n",
    "\n",
    "test[tst_num_col] = mms.fit_transform(test[tst_num_col])\n",
    "tst_str = pd.get_dummies(test[tst_str_col])\n",
    "test = pd.concat([tst_str,test[tst_num_col]], axis=1)"
   ]
  },
  {
   "cell_type": "code",
   "execution_count": 6,
   "metadata": {},
   "outputs": [
    {
     "data": {
      "text/plain": [
       "(14095, 49)"
      ]
     },
     "execution_count": 6,
     "metadata": {},
     "output_type": "execute_result"
    }
   ],
   "source": [
    "train.shape"
   ]
  },
  {
   "cell_type": "code",
   "execution_count": 7,
   "metadata": {},
   "outputs": [
    {
     "data": {
      "text/plain": [
       "(6041, 23)"
      ]
     },
     "execution_count": 7,
     "metadata": {},
     "output_type": "execute_result"
    }
   ],
   "source": [
    "test.shape"
   ]
  },
  {
   "cell_type": "markdown",
   "metadata": {},
   "source": [
    "## 저장"
   ]
  },
  {
   "cell_type": "code",
   "execution_count": 10,
   "metadata": {},
   "outputs": [],
   "source": [
    "train.to_csv(path+'processed/processed_train.csv', index=False)\n",
    "test.to_csv(path+'processed/processed_test.csv', index=False)"
   ]
  },
  {
   "cell_type": "markdown",
   "metadata": {},
   "source": [
    "## Datawig"
   ]
  },
  {
   "cell_type": "code",
   "execution_count": 11,
   "metadata": {},
   "outputs": [],
   "source": [
    "import os\n",
    "import pandas as pd\n",
    "import numpy as np\n",
    "import impyute as impy\n",
    "from sklearn.preprocessing import LabelEncoder\n",
    "\n",
    "path = 'C:/Users/ppang/Documents/dev/TIL/dacon/data/'\n",
    "\n",
    "train = pd.read_csv(path + 'raw/train.csv')\n",
    "test = pd.read_csv(path + 'raw/test.csv')"
   ]
  },
  {
   "cell_type": "code",
   "execution_count": 26,
   "metadata": {},
   "outputs": [
    {
     "name": "stderr",
     "output_type": "stream",
     "text": [
      "c:\\Users\\ppang\\anaconda3\\envs\\pytorch_p39\\lib\\site-packages\\sklearn\\preprocessing\\_label.py:115: DataConversionWarning: A column-vector y was passed when a 1d array was expected. Please change the shape of y to (n_samples, ), for example using ravel().\n",
      "  y = column_or_1d(y, warn=True)\n"
     ]
    }
   ],
   "source": [
    "lab = LabelEncoder()\n",
    "temp = train.iloc[:,1:].copy()\n",
    "temp['COMPONENT_ARBITRARY'] = lab.fit_transform(temp[['COMPONENT_ARBITRARY']])"
   ]
  },
  {
   "cell_type": "code",
   "execution_count": 17,
   "metadata": {},
   "outputs": [],
   "source": [
    "temp = impy.fast_knn(temp.values)"
   ]
  },
  {
   "cell_type": "code",
   "execution_count": 25,
   "metadata": {},
   "outputs": [
    {
     "data": {
      "text/html": [
       "<div>\n",
       "<style scoped>\n",
       "    .dataframe tbody tr th:only-of-type {\n",
       "        vertical-align: middle;\n",
       "    }\n",
       "\n",
       "    .dataframe tbody tr th {\n",
       "        vertical-align: top;\n",
       "    }\n",
       "\n",
       "    .dataframe thead th {\n",
       "        text-align: right;\n",
       "    }\n",
       "</style>\n",
       "<table border=\"1\" class=\"dataframe\">\n",
       "  <thead>\n",
       "    <tr style=\"text-align: right;\">\n",
       "      <th></th>\n",
       "      <th>ID</th>\n",
       "      <th>COMPONENT_ARBITRARY</th>\n",
       "      <th>ANONYMOUS_1</th>\n",
       "      <th>YEAR</th>\n",
       "      <th>SAMPLE_TRANSFER_DAY</th>\n",
       "      <th>ANONYMOUS_2</th>\n",
       "      <th>AG</th>\n",
       "      <th>AL</th>\n",
       "      <th>B</th>\n",
       "      <th>BA</th>\n",
       "      <th>...</th>\n",
       "      <th>U25</th>\n",
       "      <th>U20</th>\n",
       "      <th>U14</th>\n",
       "      <th>U6</th>\n",
       "      <th>U4</th>\n",
       "      <th>V</th>\n",
       "      <th>V100</th>\n",
       "      <th>V40</th>\n",
       "      <th>ZN</th>\n",
       "      <th>Y_LABEL</th>\n",
       "    </tr>\n",
       "  </thead>\n",
       "  <tbody>\n",
       "    <tr>\n",
       "      <th>0</th>\n",
       "      <td>TRAIN_00000</td>\n",
       "      <td>COMPONENT3</td>\n",
       "      <td>1486.0</td>\n",
       "      <td>2011.0</td>\n",
       "      <td>7.0</td>\n",
       "      <td>200.0</td>\n",
       "      <td>0.0</td>\n",
       "      <td>3.0</td>\n",
       "      <td>93.0</td>\n",
       "      <td>0.0</td>\n",
       "      <td>...</td>\n",
       "      <td>29.870898</td>\n",
       "      <td>56.063472</td>\n",
       "      <td>239.938149</td>\n",
       "      <td>5488.693107</td>\n",
       "      <td>19415.597262</td>\n",
       "      <td>0.0</td>\n",
       "      <td>13.57623</td>\n",
       "      <td>154.0</td>\n",
       "      <td>75.0</td>\n",
       "      <td>0.0</td>\n",
       "    </tr>\n",
       "    <tr>\n",
       "      <th>1</th>\n",
       "      <td>TRAIN_00001</td>\n",
       "      <td>COMPONENT2</td>\n",
       "      <td>1350.0</td>\n",
       "      <td>2021.0</td>\n",
       "      <td>51.0</td>\n",
       "      <td>375.0</td>\n",
       "      <td>0.0</td>\n",
       "      <td>2.0</td>\n",
       "      <td>19.0</td>\n",
       "      <td>0.0</td>\n",
       "      <td>...</td>\n",
       "      <td>2.000000</td>\n",
       "      <td>4.000000</td>\n",
       "      <td>6.000000</td>\n",
       "      <td>216.000000</td>\n",
       "      <td>1454.000000</td>\n",
       "      <td>0.0</td>\n",
       "      <td>13.57623</td>\n",
       "      <td>44.0</td>\n",
       "      <td>652.0</td>\n",
       "      <td>0.0</td>\n",
       "    </tr>\n",
       "    <tr>\n",
       "      <th>2</th>\n",
       "      <td>TRAIN_00002</td>\n",
       "      <td>COMPONENT2</td>\n",
       "      <td>2415.0</td>\n",
       "      <td>2015.0</td>\n",
       "      <td>2.0</td>\n",
       "      <td>200.0</td>\n",
       "      <td>0.0</td>\n",
       "      <td>110.0</td>\n",
       "      <td>1.0</td>\n",
       "      <td>1.0</td>\n",
       "      <td>...</td>\n",
       "      <td>0.000000</td>\n",
       "      <td>3.000000</td>\n",
       "      <td>39.000000</td>\n",
       "      <td>11261.000000</td>\n",
       "      <td>41081.000000</td>\n",
       "      <td>0.0</td>\n",
       "      <td>13.57623</td>\n",
       "      <td>72.6</td>\n",
       "      <td>412.0</td>\n",
       "      <td>1.0</td>\n",
       "    </tr>\n",
       "    <tr>\n",
       "      <th>3</th>\n",
       "      <td>TRAIN_00003</td>\n",
       "      <td>COMPONENT3</td>\n",
       "      <td>7389.0</td>\n",
       "      <td>2010.0</td>\n",
       "      <td>2.0</td>\n",
       "      <td>200.0</td>\n",
       "      <td>0.0</td>\n",
       "      <td>8.0</td>\n",
       "      <td>3.0</td>\n",
       "      <td>0.0</td>\n",
       "      <td>...</td>\n",
       "      <td>29.870898</td>\n",
       "      <td>56.063472</td>\n",
       "      <td>239.938149</td>\n",
       "      <td>5488.693107</td>\n",
       "      <td>19415.597262</td>\n",
       "      <td>0.0</td>\n",
       "      <td>13.57623</td>\n",
       "      <td>133.3</td>\n",
       "      <td>7.0</td>\n",
       "      <td>0.0</td>\n",
       "    </tr>\n",
       "    <tr>\n",
       "      <th>4</th>\n",
       "      <td>TRAIN_00004</td>\n",
       "      <td>COMPONENT3</td>\n",
       "      <td>3954.0</td>\n",
       "      <td>2015.0</td>\n",
       "      <td>4.0</td>\n",
       "      <td>200.0</td>\n",
       "      <td>0.0</td>\n",
       "      <td>1.0</td>\n",
       "      <td>157.0</td>\n",
       "      <td>0.0</td>\n",
       "      <td>...</td>\n",
       "      <td>29.870898</td>\n",
       "      <td>56.063472</td>\n",
       "      <td>239.938149</td>\n",
       "      <td>5488.693107</td>\n",
       "      <td>19415.597262</td>\n",
       "      <td>0.0</td>\n",
       "      <td>13.57623</td>\n",
       "      <td>133.1</td>\n",
       "      <td>128.0</td>\n",
       "      <td>0.0</td>\n",
       "    </tr>\n",
       "    <tr>\n",
       "      <th>...</th>\n",
       "      <td>...</td>\n",
       "      <td>...</td>\n",
       "      <td>...</td>\n",
       "      <td>...</td>\n",
       "      <td>...</td>\n",
       "      <td>...</td>\n",
       "      <td>...</td>\n",
       "      <td>...</td>\n",
       "      <td>...</td>\n",
       "      <td>...</td>\n",
       "      <td>...</td>\n",
       "      <td>...</td>\n",
       "      <td>...</td>\n",
       "      <td>...</td>\n",
       "      <td>...</td>\n",
       "      <td>...</td>\n",
       "      <td>...</td>\n",
       "      <td>...</td>\n",
       "      <td>...</td>\n",
       "      <td>...</td>\n",
       "      <td>...</td>\n",
       "    </tr>\n",
       "    <tr>\n",
       "      <th>14090</th>\n",
       "      <td>TRAIN_14090</td>\n",
       "      <td>COMPONENT3</td>\n",
       "      <td>1616.0</td>\n",
       "      <td>2014.0</td>\n",
       "      <td>8.0</td>\n",
       "      <td>200.0</td>\n",
       "      <td>0.0</td>\n",
       "      <td>2.0</td>\n",
       "      <td>201.0</td>\n",
       "      <td>1.0</td>\n",
       "      <td>...</td>\n",
       "      <td>29.870898</td>\n",
       "      <td>56.063472</td>\n",
       "      <td>239.938149</td>\n",
       "      <td>5488.693107</td>\n",
       "      <td>19415.597262</td>\n",
       "      <td>0.0</td>\n",
       "      <td>13.57623</td>\n",
       "      <td>135.4</td>\n",
       "      <td>16.0</td>\n",
       "      <td>0.0</td>\n",
       "    </tr>\n",
       "    <tr>\n",
       "      <th>14091</th>\n",
       "      <td>TRAIN_14091</td>\n",
       "      <td>COMPONENT1</td>\n",
       "      <td>2784.0</td>\n",
       "      <td>2013.0</td>\n",
       "      <td>2.0</td>\n",
       "      <td>200.0</td>\n",
       "      <td>0.0</td>\n",
       "      <td>3.0</td>\n",
       "      <td>85.0</td>\n",
       "      <td>0.0</td>\n",
       "      <td>...</td>\n",
       "      <td>29.870898</td>\n",
       "      <td>56.063472</td>\n",
       "      <td>239.938149</td>\n",
       "      <td>5488.693107</td>\n",
       "      <td>19415.597262</td>\n",
       "      <td>0.0</td>\n",
       "      <td>14.50000</td>\n",
       "      <td>117.5</td>\n",
       "      <td>1408.0</td>\n",
       "      <td>0.0</td>\n",
       "    </tr>\n",
       "    <tr>\n",
       "      <th>14092</th>\n",
       "      <td>TRAIN_14092</td>\n",
       "      <td>COMPONENT3</td>\n",
       "      <td>1788.0</td>\n",
       "      <td>2008.0</td>\n",
       "      <td>9.0</td>\n",
       "      <td>550.0</td>\n",
       "      <td>0.0</td>\n",
       "      <td>6.0</td>\n",
       "      <td>0.0</td>\n",
       "      <td>1.0</td>\n",
       "      <td>...</td>\n",
       "      <td>29.870898</td>\n",
       "      <td>56.063472</td>\n",
       "      <td>239.938149</td>\n",
       "      <td>5488.693107</td>\n",
       "      <td>19415.597262</td>\n",
       "      <td>0.0</td>\n",
       "      <td>13.57623</td>\n",
       "      <td>54.0</td>\n",
       "      <td>1301.0</td>\n",
       "      <td>0.0</td>\n",
       "    </tr>\n",
       "    <tr>\n",
       "      <th>14093</th>\n",
       "      <td>TRAIN_14093</td>\n",
       "      <td>COMPONENT2</td>\n",
       "      <td>2498.0</td>\n",
       "      <td>2009.0</td>\n",
       "      <td>19.0</td>\n",
       "      <td>550.0</td>\n",
       "      <td>0.0</td>\n",
       "      <td>2.0</td>\n",
       "      <td>4.0</td>\n",
       "      <td>0.0</td>\n",
       "      <td>...</td>\n",
       "      <td>7.000000</td>\n",
       "      <td>8.000000</td>\n",
       "      <td>100.000000</td>\n",
       "      <td>1625.000000</td>\n",
       "      <td>18890.000000</td>\n",
       "      <td>0.0</td>\n",
       "      <td>13.57623</td>\n",
       "      <td>44.3</td>\n",
       "      <td>652.0</td>\n",
       "      <td>0.0</td>\n",
       "    </tr>\n",
       "    <tr>\n",
       "      <th>14094</th>\n",
       "      <td>TRAIN_14094</td>\n",
       "      <td>COMPONENT2</td>\n",
       "      <td>1902.0</td>\n",
       "      <td>2012.0</td>\n",
       "      <td>15.0</td>\n",
       "      <td>200.0</td>\n",
       "      <td>0.0</td>\n",
       "      <td>0.0</td>\n",
       "      <td>77.0</td>\n",
       "      <td>0.0</td>\n",
       "      <td>...</td>\n",
       "      <td>1163.000000</td>\n",
       "      <td>2565.000000</td>\n",
       "      <td>11296.000000</td>\n",
       "      <td>181016.000000</td>\n",
       "      <td>325823.000000</td>\n",
       "      <td>0.0</td>\n",
       "      <td>13.57623</td>\n",
       "      <td>47.0</td>\n",
       "      <td>612.0</td>\n",
       "      <td>0.0</td>\n",
       "    </tr>\n",
       "  </tbody>\n",
       "</table>\n",
       "<p>14095 rows × 54 columns</p>\n",
       "</div>"
      ],
      "text/plain": [
       "                ID COMPONENT_ARBITRARY  ANONYMOUS_1    YEAR  \\\n",
       "0      TRAIN_00000          COMPONENT3       1486.0  2011.0   \n",
       "1      TRAIN_00001          COMPONENT2       1350.0  2021.0   \n",
       "2      TRAIN_00002          COMPONENT2       2415.0  2015.0   \n",
       "3      TRAIN_00003          COMPONENT3       7389.0  2010.0   \n",
       "4      TRAIN_00004          COMPONENT3       3954.0  2015.0   \n",
       "...            ...                 ...          ...     ...   \n",
       "14090  TRAIN_14090          COMPONENT3       1616.0  2014.0   \n",
       "14091  TRAIN_14091          COMPONENT1       2784.0  2013.0   \n",
       "14092  TRAIN_14092          COMPONENT3       1788.0  2008.0   \n",
       "14093  TRAIN_14093          COMPONENT2       2498.0  2009.0   \n",
       "14094  TRAIN_14094          COMPONENT2       1902.0  2012.0   \n",
       "\n",
       "       SAMPLE_TRANSFER_DAY  ANONYMOUS_2   AG     AL      B   BA  ...  \\\n",
       "0                      7.0        200.0  0.0    3.0   93.0  0.0  ...   \n",
       "1                     51.0        375.0  0.0    2.0   19.0  0.0  ...   \n",
       "2                      2.0        200.0  0.0  110.0    1.0  1.0  ...   \n",
       "3                      2.0        200.0  0.0    8.0    3.0  0.0  ...   \n",
       "4                      4.0        200.0  0.0    1.0  157.0  0.0  ...   \n",
       "...                    ...          ...  ...    ...    ...  ...  ...   \n",
       "14090                  8.0        200.0  0.0    2.0  201.0  1.0  ...   \n",
       "14091                  2.0        200.0  0.0    3.0   85.0  0.0  ...   \n",
       "14092                  9.0        550.0  0.0    6.0    0.0  1.0  ...   \n",
       "14093                 19.0        550.0  0.0    2.0    4.0  0.0  ...   \n",
       "14094                 15.0        200.0  0.0    0.0   77.0  0.0  ...   \n",
       "\n",
       "               U25          U20           U14             U6             U4  \\\n",
       "0        29.870898    56.063472    239.938149    5488.693107   19415.597262   \n",
       "1         2.000000     4.000000      6.000000     216.000000    1454.000000   \n",
       "2         0.000000     3.000000     39.000000   11261.000000   41081.000000   \n",
       "3        29.870898    56.063472    239.938149    5488.693107   19415.597262   \n",
       "4        29.870898    56.063472    239.938149    5488.693107   19415.597262   \n",
       "...            ...          ...           ...            ...            ...   \n",
       "14090    29.870898    56.063472    239.938149    5488.693107   19415.597262   \n",
       "14091    29.870898    56.063472    239.938149    5488.693107   19415.597262   \n",
       "14092    29.870898    56.063472    239.938149    5488.693107   19415.597262   \n",
       "14093     7.000000     8.000000    100.000000    1625.000000   18890.000000   \n",
       "14094  1163.000000  2565.000000  11296.000000  181016.000000  325823.000000   \n",
       "\n",
       "         V      V100    V40      ZN  Y_LABEL  \n",
       "0      0.0  13.57623  154.0    75.0      0.0  \n",
       "1      0.0  13.57623   44.0   652.0      0.0  \n",
       "2      0.0  13.57623   72.6   412.0      1.0  \n",
       "3      0.0  13.57623  133.3     7.0      0.0  \n",
       "4      0.0  13.57623  133.1   128.0      0.0  \n",
       "...    ...       ...    ...     ...      ...  \n",
       "14090  0.0  13.57623  135.4    16.0      0.0  \n",
       "14091  0.0  14.50000  117.5  1408.0      0.0  \n",
       "14092  0.0  13.57623   54.0  1301.0      0.0  \n",
       "14093  0.0  13.57623   44.3   652.0      0.0  \n",
       "14094  0.0  13.57623   47.0   612.0      0.0  \n",
       "\n",
       "[14095 rows x 54 columns]"
      ]
     },
     "execution_count": 25,
     "metadata": {},
     "output_type": "execute_result"
    }
   ],
   "source": [
    "temp = pd.DataFrame(data=temp, columns=train.columns[1:])\n",
    "new_train = pd.merge(train.iloc[:,:2], temp.iloc[:,1:], left_index=True, right_index=True)\n",
    "new_train"
   ]
  },
  {
   "cell_type": "code",
   "execution_count": 28,
   "metadata": {},
   "outputs": [
    {
     "data": {
      "text/plain": [
       "'C:/Users/ppang/Documents/dev/TIL/dacon/data/'"
      ]
     },
     "execution_count": 28,
     "metadata": {},
     "output_type": "execute_result"
    }
   ],
   "source": [
    "path"
   ]
  },
  {
   "cell_type": "code",
   "execution_count": 29,
   "metadata": {},
   "outputs": [],
   "source": [
    "new_train.to_csv(path+'processed/train_impyute.csv', index=False)"
   ]
  },
  {
   "cell_type": "code",
   "execution_count": 40,
   "metadata": {},
   "outputs": [
    {
     "data": {
      "text/plain": [
       "Index(['ID', 'COMPONENT_ARBITRARY', 'ANONYMOUS_1', 'YEAR',\n",
       "       'SAMPLE_TRANSFER_DAY', 'ANONYMOUS_2', 'AG', 'AL', 'B', 'BA', 'BE', 'CA',\n",
       "       'CD', 'CO', 'CR', 'CU', 'FH2O', 'FNOX', 'FOPTIMETHGLY', 'FOXID', 'FSO4',\n",
       "       'FTBN', 'FE', 'FUEL', 'H2O', 'K', 'LI', 'MG', 'MN', 'MO', 'NA', 'NI',\n",
       "       'P', 'PB', 'PQINDEX', 'S', 'SB', 'SI', 'SN', 'SOOTPERCENTAGE', 'TI',\n",
       "       'U100', 'U75', 'U50', 'U25', 'U20', 'U14', 'U6', 'U4', 'V', 'V100',\n",
       "       'V40', 'ZN', 'Y_LABEL'],\n",
       "      dtype='object')"
      ]
     },
     "execution_count": 40,
     "metadata": {},
     "output_type": "execute_result"
    }
   ],
   "source": [
    "new_train.columns"
   ]
  },
  {
   "cell_type": "code",
   "execution_count": 41,
   "metadata": {},
   "outputs": [],
   "source": [
    "trn_str_col = ['COMPONENT_ARBITRARY']\n",
    "trn_num_col = ['ANONYMOUS_1', 'YEAR', 'SAMPLE_TRANSFER_DAY', 'ANONYMOUS_2', 'AG', 'AL', 'B', 'BA', 'BE', 'CA', 'CD', 'CO', 'CR', 'CU', 'FH2O', 'FNOX', 'FOPTIMETHGLY', 'FOXID', 'FSO4',\n",
    "'FTBN', 'FE', 'FUEL', 'H2O', 'K', 'LI', 'MG', 'MN', 'MO', 'NA', 'NI', 'P', 'PB', 'PQINDEX', 'S', 'SB', 'SI', 'SN', 'SOOTPERCENTAGE', 'TI', 'U100', 'U75', 'U50', 'U25', 'U20', 'U14', 'U6', 'U4', 'V', 'V100', 'V40', 'ZN']\n",
    "label = train['Y_LABEL']\n",
    "\n",
    "tst_str_col = ['COMPONENT_ARBITRARY']\n",
    "tst_num_col = ['ANONYMOUS_1','YEAR','ANONYMOUS_2','AG','CO','CR','CU','FE','H2O','MN','MO','NI','PQINDEX','TI','V','V40','ZN']"
   ]
  },
  {
   "cell_type": "code",
   "execution_count": null,
   "metadata": {},
   "outputs": [],
   "source": [
    "mms = MinMaxScaler()\n",
    "\n",
    "new_train[trn_num_col] = mms.fit_transform(new_train[trn_num_col])\n",
    "trn_str = pd.get_dummies(new_train[trn_str_col])\n",
    "new_train = pd.concat([trn_str,new_train[trn_num_col]], axis=1)\n",
    "new_train['Y_LABEL'] = label\n",
    "\n",
    "\n",
    "test[tst_num_col] = mms.fit_transform(test[tst_num_col])\n",
    "tst_str = pd.get_dummies(test[tst_str_col])\n",
    "test = pd.concat([tst_str,test[tst_num_col]], axis=1)"
   ]
  },
  {
   "cell_type": "code",
   "execution_count": 50,
   "metadata": {},
   "outputs": [
    {
     "data": {
      "text/plain": [
       "56"
      ]
     },
     "execution_count": 50,
     "metadata": {},
     "output_type": "execute_result"
    }
   ],
   "source": [
    "len(new_train.columns)"
   ]
  },
  {
   "cell_type": "code",
   "execution_count": 51,
   "metadata": {},
   "outputs": [
    {
     "data": {
      "text/plain": [
       "21"
      ]
     },
     "execution_count": 51,
     "metadata": {},
     "output_type": "execute_result"
    }
   ],
   "source": [
    "len(test.columns)"
   ]
  },
  {
   "cell_type": "code",
   "execution_count": 55,
   "metadata": {},
   "outputs": [],
   "source": [
    "new_train.to_csv(path+'processed/processed_train_impyute.csv', index=False)\n",
    "test.to_csv(path+'processed/processed_test_impyute.csv', index=False)"
   ]
  }
 ],
 "metadata": {
  "kernelspec": {
   "display_name": "Python 3.9.12 ('pytorch_p39')",
   "language": "python",
   "name": "python3"
  },
  "language_info": {
   "codemirror_mode": {
    "name": "ipython",
    "version": 3
   },
   "file_extension": ".py",
   "mimetype": "text/x-python",
   "name": "python",
   "nbconvert_exporter": "python",
   "pygments_lexer": "ipython3",
   "version": "3.9.12"
  },
  "orig_nbformat": 4,
  "vscode": {
   "interpreter": {
    "hash": "decc051d0f09e23621af2b5b75e3dcec8a6467713e55c56d973c2d9f56e19735"
   }
  }
 },
 "nbformat": 4,
 "nbformat_minor": 2
}
