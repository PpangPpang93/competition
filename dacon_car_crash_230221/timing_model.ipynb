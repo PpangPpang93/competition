{
 "cells": [
  {
   "attachments": {},
   "cell_type": "markdown",
   "id": "b1135652",
   "metadata": {},
   "source": [
    "# timing model\n",
    "- 0 : 낮\n",
    "- 1 : 밤"
   ]
  },
  {
   "cell_type": "code",
   "execution_count": 2,
   "id": "7af821ac",
   "metadata": {
    "ExecuteTime": {
     "end_time": "2023-03-07T02:25:28.918770Z",
     "start_time": "2023-03-07T02:25:28.908930Z"
    }
   },
   "outputs": [],
   "source": [
    "import random\n",
    "import pandas as pd\n",
    "import numpy as np\n",
    "import os\n",
    "import cv2\n",
    "\n",
    "import torch\n",
    "import torch.nn as nn\n",
    "import torch.optim as optim\n",
    "import torch.nn.functional as F\n",
    "from torch.utils.data import Dataset, DataLoader\n",
    "\n",
    "import albumentations as A\n",
    "from albumentations.pytorch.transforms import ToTensorV2\n",
    "import torchvision.models as models\n",
    "\n",
    "from tqdm.auto import tqdm\n",
    "from sklearn.model_selection import train_test_split\n",
    "from sklearn.metrics import f1_score\n",
    "\n",
    "import warnings\n",
    "warnings.filterwarnings(action='ignore') "
   ]
  },
  {
   "cell_type": "code",
   "execution_count": 3,
   "id": "7db782f2",
   "metadata": {},
   "outputs": [],
   "source": [
    "CFG = {\n",
    "    'VIDEO_LENGTH':50, # 10프레임 * 5초\n",
    "    'HEIGHT':224,\n",
    "    'WIDTH':224,\n",
    "    'EPOCHS':2,\n",
    "    'LEARNING_RATE':1e-3,\n",
    "    'BATCH_SIZE':2,\n",
    "    'SEED':41\n",
    "}"
   ]
  },
  {
   "cell_type": "code",
   "execution_count": 7,
   "id": "f7607c44",
   "metadata": {},
   "outputs": [
    {
     "data": {
      "text/html": [
       "<div>\n",
       "<style scoped>\n",
       "    .dataframe tbody tr th:only-of-type {\n",
       "        vertical-align: middle;\n",
       "    }\n",
       "\n",
       "    .dataframe tbody tr th {\n",
       "        vertical-align: top;\n",
       "    }\n",
       "\n",
       "    .dataframe thead th {\n",
       "        text-align: right;\n",
       "    }\n",
       "</style>\n",
       "<table border=\"1\" class=\"dataframe\">\n",
       "  <thead>\n",
       "    <tr style=\"text-align: right;\">\n",
       "      <th></th>\n",
       "      <th>sample_id</th>\n",
       "      <th>video_path</th>\n",
       "      <th>timing</th>\n",
       "    </tr>\n",
       "  </thead>\n",
       "  <tbody>\n",
       "    <tr>\n",
       "      <th>0</th>\n",
       "      <td>TRAIN_0000</td>\n",
       "      <td>/data/home/ubuntu/workspace/dacon/data/train/T...</td>\n",
       "      <td>0</td>\n",
       "    </tr>\n",
       "    <tr>\n",
       "      <th>1</th>\n",
       "      <td>TRAIN_0001</td>\n",
       "      <td>/data/home/ubuntu/workspace/dacon/data/train/T...</td>\n",
       "      <td>0</td>\n",
       "    </tr>\n",
       "    <tr>\n",
       "      <th>2</th>\n",
       "      <td>TRAIN_0004</td>\n",
       "      <td>/data/home/ubuntu/workspace/dacon/data/train/T...</td>\n",
       "      <td>0</td>\n",
       "    </tr>\n",
       "    <tr>\n",
       "      <th>3</th>\n",
       "      <td>TRAIN_0006</td>\n",
       "      <td>/data/home/ubuntu/workspace/dacon/data/train/T...</td>\n",
       "      <td>0</td>\n",
       "    </tr>\n",
       "    <tr>\n",
       "      <th>4</th>\n",
       "      <td>TRAIN_0007</td>\n",
       "      <td>/data/home/ubuntu/workspace/dacon/data/train/T...</td>\n",
       "      <td>0</td>\n",
       "    </tr>\n",
       "    <tr>\n",
       "      <th>...</th>\n",
       "      <td>...</td>\n",
       "      <td>...</td>\n",
       "      <td>...</td>\n",
       "    </tr>\n",
       "    <tr>\n",
       "      <th>910</th>\n",
       "      <td>TRAIN_2685</td>\n",
       "      <td>/data/home/ubuntu/workspace/dacon/data/train/T...</td>\n",
       "      <td>1</td>\n",
       "    </tr>\n",
       "    <tr>\n",
       "      <th>911</th>\n",
       "      <td>TRAIN_2689</td>\n",
       "      <td>/data/home/ubuntu/workspace/dacon/data/train/T...</td>\n",
       "      <td>0</td>\n",
       "    </tr>\n",
       "    <tr>\n",
       "      <th>912</th>\n",
       "      <td>TRAIN_2692</td>\n",
       "      <td>/data/home/ubuntu/workspace/dacon/data/train/T...</td>\n",
       "      <td>0</td>\n",
       "    </tr>\n",
       "    <tr>\n",
       "      <th>913</th>\n",
       "      <td>TRAIN_2693</td>\n",
       "      <td>/data/home/ubuntu/workspace/dacon/data/train/T...</td>\n",
       "      <td>0</td>\n",
       "    </tr>\n",
       "    <tr>\n",
       "      <th>914</th>\n",
       "      <td>TRAIN_2694</td>\n",
       "      <td>/data/home/ubuntu/workspace/dacon/data/train/T...</td>\n",
       "      <td>0</td>\n",
       "    </tr>\n",
       "  </tbody>\n",
       "</table>\n",
       "<p>915 rows × 3 columns</p>\n",
       "</div>"
      ],
      "text/plain": [
       "      sample_id                                         video_path timing\n",
       "0    TRAIN_0000  /data/home/ubuntu/workspace/dacon/data/train/T...      0\n",
       "1    TRAIN_0001  /data/home/ubuntu/workspace/dacon/data/train/T...      0\n",
       "2    TRAIN_0004  /data/home/ubuntu/workspace/dacon/data/train/T...      0\n",
       "3    TRAIN_0006  /data/home/ubuntu/workspace/dacon/data/train/T...      0\n",
       "4    TRAIN_0007  /data/home/ubuntu/workspace/dacon/data/train/T...      0\n",
       "..          ...                                                ...    ...\n",
       "910  TRAIN_2685  /data/home/ubuntu/workspace/dacon/data/train/T...      1\n",
       "911  TRAIN_2689  /data/home/ubuntu/workspace/dacon/data/train/T...      0\n",
       "912  TRAIN_2692  /data/home/ubuntu/workspace/dacon/data/train/T...      0\n",
       "913  TRAIN_2693  /data/home/ubuntu/workspace/dacon/data/train/T...      0\n",
       "914  TRAIN_2694  /data/home/ubuntu/workspace/dacon/data/train/T...      0\n",
       "\n",
       "[915 rows x 3 columns]"
      ]
     },
     "execution_count": 7,
     "metadata": {},
     "output_type": "execute_result"
    }
   ],
   "source": [
    "df = pd.read_csv('./data/train_timing.csv')\n",
    "df = df[df['timing']!='Na'].reset_index(drop=True)\n",
    "df"
   ]
  },
  {
   "cell_type": "code",
   "execution_count": 8,
   "id": "ae656153",
   "metadata": {},
   "outputs": [
    {
     "data": {
      "text/plain": [
       "0    808\n",
       "1    107\n",
       "Name: timing, dtype: int64"
      ]
     },
     "execution_count": 8,
     "metadata": {},
     "output_type": "execute_result"
    }
   ],
   "source": [
    "df['timing'].value_counts()"
   ]
  },
  {
   "cell_type": "code",
   "execution_count": 10,
   "id": "d767b0cc",
   "metadata": {},
   "outputs": [
    {
     "data": {
      "text/plain": [
       "5099"
      ]
     },
     "execution_count": 10,
     "metadata": {},
     "output_type": "execute_result"
    }
   ],
   "source": [
    "# 영상 초반 부분이 제일 안정적이라 판단\n",
    "# 초반 30프레임만 사용\n",
    "# 0은 7프레임마다 1개씩 -> 808*4 = 3232\n",
    "# 1은 1프레임마다 1개씩 -> 107*25 = 3210"
   ]
  },
  {
   "cell_type": "code",
   "execution_count": 13,
   "id": "48f70831",
   "metadata": {},
   "outputs": [],
   "source": [
    "def get_img(path, label=False):\n",
    "    frames, labels = [], []\n",
    "    cap = cv2.VideoCapture(path)\n",
    "    cnt = 0\n",
    "    # {0: 7, 1: 1}\n",
    "    if (label=='0'):\n",
    "        divide = 7\n",
    "    elif (label=='1'):\n",
    "        divide = 1\n",
    "        \n",
    "    if (label):\n",
    "        for _ in range(CFG['VIDEO_LENGTH']):\n",
    "            _, img = cap.read()\n",
    "            cnt+=1\n",
    "            if (cnt%divide==0):\n",
    "                img = cv2.resize(img, (CFG['HEIGHT'], CFG['WIDTH']))\n",
    "                img = img / 255.\n",
    "                frames.append(img)\n",
    "                labels.append(int(label))\n",
    "            if (cnt==30):\n",
    "                break\n",
    "        return frames, labels\n",
    "                \n",
    "    else:\n",
    "        for _ in range(CFG['VIDEO_LENGTH']):\n",
    "            _, img = cap.read()\n",
    "            cnt+=1\n",
    "            img = cv2.resize(img, (CFG['HEIGHT'], CFG['WIDTH']))\n",
    "            img = img / 255.\n",
    "            frames.append(img)\n",
    "            if (cnt==30):\n",
    "                break\n",
    "        return frames"
   ]
  },
  {
   "cell_type": "code",
   "execution_count": 14,
   "id": "2b18d0d3",
   "metadata": {},
   "outputs": [],
   "source": [
    "class CustomDataset(Dataset):\n",
    "    def __init__(self, frames, labels):\n",
    "        self.frames = frames\n",
    "        self.labels = labels\n",
    "\n",
    "        \n",
    "    def __getitem__(self, index):\n",
    "        frame = self.transform_frame(self.frames[index])\n",
    "        if self.labels is not None:\n",
    "            label = self.labels[index]\n",
    "            return frame, label\n",
    "        else:\n",
    "            return frame\n",
    "        \n",
    "        \n",
    "    def __len__(self):\n",
    "        return len(self.frames)\n",
    "    \n",
    "    def transform_frame(self, frame):\n",
    "        frame = frame / 255.\n",
    "        return torch.FloatTensor(np.array(frame)).permute(2, 0, 1)"
   ]
  },
  {
   "cell_type": "code",
   "execution_count": 15,
   "id": "a8b05c21",
   "metadata": {},
   "outputs": [],
   "source": [
    "def validation(model, criterion, val_loader, device):\n",
    "    model.eval()\n",
    "    val_loss = []\n",
    "    preds, trues = [], []\n",
    "    \n",
    "    with torch.no_grad():\n",
    "        for videos, labels in tqdm(iter(val_loader)):\n",
    "            videos = videos.to(device)\n",
    "            labels = labels.to(device)\n",
    "            \n",
    "            logit = model(videos)\n",
    "            \n",
    "            loss = criterion(logit, labels)\n",
    "            \n",
    "            val_loss.append(loss.item())\n",
    "            \n",
    "            preds += logit.argmax(1).detach().cpu().numpy().tolist()\n",
    "            trues += labels.detach().cpu().numpy().tolist()\n",
    "        \n",
    "        _val_loss = np.mean(val_loss)\n",
    "    \n",
    "    _val_score = f1_score(trues, preds, average='macro')\n",
    "    return _val_loss, _val_score"
   ]
  },
  {
   "cell_type": "code",
   "execution_count": 15,
   "id": "9471eb88",
   "metadata": {},
   "outputs": [],
   "source": [
    "## 모델 저장하는 부분 추가\n",
    "def train(model, optimizer, train_loader, val_loader, scheduler, device):\n",
    "    model.to(device)\n",
    "    criterion = nn.CrossEntropyLoss().to(device)\n",
    "    \n",
    "    best_val_score = 0\n",
    "    best_model = None\n",
    "    \n",
    "    for epoch in range(1, CFG['EPOCHS']+1):\n",
    "        model.train()\n",
    "        train_loss = []\n",
    "        for videos, labels in tqdm(iter(train_loader)):\n",
    "            videos = videos.to(device)\n",
    "            labels = labels.to(device)\n",
    "            \n",
    "            optimizer.zero_grad()\n",
    "            \n",
    "            output = model(videos)\n",
    "            loss = criterion(output, labels)\n",
    "            \n",
    "            loss.backward()\n",
    "            optimizer.step()\n",
    "            \n",
    "            train_loss.append(loss.item())\n",
    "                    \n",
    "        _val_loss, _val_score = validation(model, criterion, val_loader, device)\n",
    "        _train_loss = np.mean(train_loss)\n",
    "        print(f'Epoch [{epoch}], Train Loss : [{_train_loss:.5f}] Val Loss : [{_val_loss:.5f}] Val F1 : [{_val_score:.5f}]')\n",
    "        \n",
    "        torch.save(model.state_dict(), '/data/home/ubuntu/workspace/dacon/ckp/timing_res101_{0:02d}.ckpt'.format(epoch))\n",
    "        print(f'======== model saved - epoch : ', epoch)\n",
    "\n",
    "        if scheduler is not None:\n",
    "            scheduler.step(_val_score)\n",
    "            \n",
    "        if best_val_score < _val_score:\n",
    "            best_val_score = _val_score\n",
    "            best_model = model\n",
    "    \n",
    "    return best_model"
   ]
  },
  {
   "cell_type": "code",
   "execution_count": 16,
   "id": "7f0c079d",
   "metadata": {},
   "outputs": [],
   "source": [
    "def seed_everything(seed):\n",
    "    random.seed(seed)\n",
    "    os.environ['PYTHONHASHSEED'] = str(seed)\n",
    "    np.random.seed(seed)\n",
    "    torch.manual_seed(seed)\n",
    "    torch.cuda.manual_seed(seed)\n",
    "    torch.backends.cudnn.deterministic = True\n",
    "    torch.backends.cudnn.benchmark = True"
   ]
  },
  {
   "cell_type": "code",
   "execution_count": null,
   "id": "c14857b9",
   "metadata": {},
   "outputs": [],
   "source": []
  },
  {
   "cell_type": "code",
   "execution_count": 17,
   "id": "9184517e",
   "metadata": {},
   "outputs": [],
   "source": [
    "ckp = torch.load('D:/ㅎㅎㄱ/0.Study/dacon_230221/ckp/weather_res101_36.ckpt')"
   ]
  },
  {
   "cell_type": "code",
   "execution_count": 18,
   "id": "1471b19c",
   "metadata": {},
   "outputs": [],
   "source": [
    "model = models.resnet101()\n",
    "\n",
    "num_classes = 2\n",
    "num_ftrs = model.fc.in_features\n",
    "model.fc = nn.Linear(num_ftrs, num_classes)\n",
    "\n",
    "device = torch.device('cuda:0')\n",
    "model.load_state_dict(ckp)\n",
    "model = model.to(device)\n",
    "\n",
    "# test = pd.read_csv('./data/test.csv')"
   ]
  },
  {
   "cell_type": "code",
   "execution_count": 19,
   "id": "7317d2c1",
   "metadata": {},
   "outputs": [],
   "source": [
    "test = pd.read_csv('./data/test.csv')"
   ]
  },
  {
   "cell_type": "code",
   "execution_count": 20,
   "id": "7cf1deb9",
   "metadata": {},
   "outputs": [
    {
     "data": {
      "application/vnd.jupyter.widget-view+json": {
       "model_id": "8567fe1abd5e446fbc962cea1d864bb3",
       "version_major": 2,
       "version_minor": 0
      },
      "text/plain": [
       "  0%|          | 0/1800 [00:00<?, ?it/s]"
      ]
     },
     "metadata": {},
     "output_type": "display_data"
    }
   ],
   "source": [
    "total_frames = []\n",
    "for i in tqdm(range(len(test))):\n",
    "    frames = get_img(test.loc[i,'video_path'], None)\n",
    "    total_frames.extend(frames)"
   ]
  },
  {
   "cell_type": "code",
   "execution_count": 62,
   "id": "1ad3b943",
   "metadata": {},
   "outputs": [],
   "source": [
    "test_dataset = CustomDataset(total_frames, None)\n",
    "test_loader = DataLoader(\n",
    "            test_dataset, \n",
    "            batch_size = CFG['BATCH_SIZE'],\n",
    "            shuffle=False, \n",
    "            num_workers=0\n",
    "            )"
   ]
  },
  {
   "cell_type": "code",
   "execution_count": 66,
   "id": "0af0baab",
   "metadata": {},
   "outputs": [],
   "source": [
    "def inference(model, test_loader, device):\n",
    "    model.to(device)\n",
    "    model.eval()\n",
    "    img_preds = []\n",
    "    preds = []\n",
    "    with torch.no_grad():\n",
    "        for videos in tqdm(iter(test_loader)):\n",
    "            videos = videos.to(device) \n",
    "            logit = model(videos)\n",
    "            img_preds += logit.argmax(1).detach().cpu().numpy().tolist()\n",
    "    \n",
    "    \n",
    "    for i in range(0, len(img_preds), 30):\n",
    "        preds.append(int(mode(img_preds[i: i+30]).mode))\n",
    "\n",
    "    return preds"
   ]
  },
  {
   "cell_type": "code",
   "execution_count": 67,
   "id": "32cb4c9a",
   "metadata": {},
   "outputs": [
    {
     "data": {
      "application/vnd.jupyter.widget-view+json": {
       "model_id": "8f8a956d0e124ac7a599125a8a7c1fd1",
       "version_major": 2,
       "version_minor": 0
      },
      "text/plain": [
       "  0%|          | 0/1125 [00:00<?, ?it/s]"
      ]
     },
     "metadata": {},
     "output_type": "display_data"
    }
   ],
   "source": [
    "device = torch.device('cuda') if torch.cuda.is_available() else torch.device('cpu')\n",
    "preds = inference(model, test_loader, device)\n",
    "test['weather'] = preds\n",
    "test.to_csv('./data/test_timing.csv', index=False)"
   ]
  },
  {
   "cell_type": "code",
   "execution_count": 69,
   "id": "7c3254ea",
   "metadata": {},
   "outputs": [
    {
     "data": {
      "text/html": [
       "<div>\n",
       "<style scoped>\n",
       "    .dataframe tbody tr th:only-of-type {\n",
       "        vertical-align: middle;\n",
       "    }\n",
       "\n",
       "    .dataframe tbody tr th {\n",
       "        vertical-align: top;\n",
       "    }\n",
       "\n",
       "    .dataframe thead th {\n",
       "        text-align: right;\n",
       "    }\n",
       "</style>\n",
       "<table border=\"1\" class=\"dataframe\">\n",
       "  <thead>\n",
       "    <tr style=\"text-align: right;\">\n",
       "      <th></th>\n",
       "      <th>sample_id</th>\n",
       "      <th>video_path</th>\n",
       "      <th>weather</th>\n",
       "    </tr>\n",
       "  </thead>\n",
       "  <tbody>\n",
       "    <tr>\n",
       "      <th>0</th>\n",
       "      <td>TEST_0000</td>\n",
       "      <td>D:/ㅎㅎㄱ/0.Study/dacon_230221/test/TEST_0000.mp4</td>\n",
       "      <td>0</td>\n",
       "    </tr>\n",
       "    <tr>\n",
       "      <th>1</th>\n",
       "      <td>TEST_0001</td>\n",
       "      <td>D:/ㅎㅎㄱ/0.Study/dacon_230221/test/TEST_0001.mp4</td>\n",
       "      <td>0</td>\n",
       "    </tr>\n",
       "    <tr>\n",
       "      <th>2</th>\n",
       "      <td>TEST_0002</td>\n",
       "      <td>D:/ㅎㅎㄱ/0.Study/dacon_230221/test/TEST_0002.mp4</td>\n",
       "      <td>0</td>\n",
       "    </tr>\n",
       "    <tr>\n",
       "      <th>3</th>\n",
       "      <td>TEST_0003</td>\n",
       "      <td>D:/ㅎㅎㄱ/0.Study/dacon_230221/test/TEST_0003.mp4</td>\n",
       "      <td>0</td>\n",
       "    </tr>\n",
       "    <tr>\n",
       "      <th>4</th>\n",
       "      <td>TEST_0004</td>\n",
       "      <td>D:/ㅎㅎㄱ/0.Study/dacon_230221/test/TEST_0004.mp4</td>\n",
       "      <td>0</td>\n",
       "    </tr>\n",
       "    <tr>\n",
       "      <th>...</th>\n",
       "      <td>...</td>\n",
       "      <td>...</td>\n",
       "      <td>...</td>\n",
       "    </tr>\n",
       "    <tr>\n",
       "      <th>1795</th>\n",
       "      <td>TEST_1795</td>\n",
       "      <td>D:/ㅎㅎㄱ/0.Study/dacon_230221/test/TEST_1795.mp4</td>\n",
       "      <td>0</td>\n",
       "    </tr>\n",
       "    <tr>\n",
       "      <th>1796</th>\n",
       "      <td>TEST_1796</td>\n",
       "      <td>D:/ㅎㅎㄱ/0.Study/dacon_230221/test/TEST_1796.mp4</td>\n",
       "      <td>0</td>\n",
       "    </tr>\n",
       "    <tr>\n",
       "      <th>1797</th>\n",
       "      <td>TEST_1797</td>\n",
       "      <td>D:/ㅎㅎㄱ/0.Study/dacon_230221/test/TEST_1797.mp4</td>\n",
       "      <td>0</td>\n",
       "    </tr>\n",
       "    <tr>\n",
       "      <th>1798</th>\n",
       "      <td>TEST_1798</td>\n",
       "      <td>D:/ㅎㅎㄱ/0.Study/dacon_230221/test/TEST_1798.mp4</td>\n",
       "      <td>0</td>\n",
       "    </tr>\n",
       "    <tr>\n",
       "      <th>1799</th>\n",
       "      <td>TEST_1799</td>\n",
       "      <td>D:/ㅎㅎㄱ/0.Study/dacon_230221/test/TEST_1799.mp4</td>\n",
       "      <td>0</td>\n",
       "    </tr>\n",
       "  </tbody>\n",
       "</table>\n",
       "<p>1800 rows × 3 columns</p>\n",
       "</div>"
      ],
      "text/plain": [
       "      sample_id                                      video_path  weather\n",
       "0     TEST_0000  D:/ㅎㅎㄱ/0.Study/dacon_230221/test/TEST_0000.mp4        0\n",
       "1     TEST_0001  D:/ㅎㅎㄱ/0.Study/dacon_230221/test/TEST_0001.mp4        0\n",
       "2     TEST_0002  D:/ㅎㅎㄱ/0.Study/dacon_230221/test/TEST_0002.mp4        0\n",
       "3     TEST_0003  D:/ㅎㅎㄱ/0.Study/dacon_230221/test/TEST_0003.mp4        0\n",
       "4     TEST_0004  D:/ㅎㅎㄱ/0.Study/dacon_230221/test/TEST_0004.mp4        0\n",
       "...         ...                                             ...      ...\n",
       "1795  TEST_1795  D:/ㅎㅎㄱ/0.Study/dacon_230221/test/TEST_1795.mp4        0\n",
       "1796  TEST_1796  D:/ㅎㅎㄱ/0.Study/dacon_230221/test/TEST_1796.mp4        0\n",
       "1797  TEST_1797  D:/ㅎㅎㄱ/0.Study/dacon_230221/test/TEST_1797.mp4        0\n",
       "1798  TEST_1798  D:/ㅎㅎㄱ/0.Study/dacon_230221/test/TEST_1798.mp4        0\n",
       "1799  TEST_1799  D:/ㅎㅎㄱ/0.Study/dacon_230221/test/TEST_1799.mp4        0\n",
       "\n",
       "[1800 rows x 3 columns]"
      ]
     },
     "execution_count": 69,
     "metadata": {},
     "output_type": "execute_result"
    }
   ],
   "source": [
    "test"
   ]
  },
  {
   "cell_type": "code",
   "execution_count": null,
   "id": "dd562430",
   "metadata": {},
   "outputs": [],
   "source": []
  },
  {
   "cell_type": "code",
   "execution_count": null,
   "id": "320b8196",
   "metadata": {},
   "outputs": [],
   "source": []
  },
  {
   "cell_type": "code",
   "execution_count": 16,
   "id": "d1754fb5",
   "metadata": {},
   "outputs": [
    {
     "data": {
      "text/html": [
       "<div>\n",
       "<style scoped>\n",
       "    .dataframe tbody tr th:only-of-type {\n",
       "        vertical-align: middle;\n",
       "    }\n",
       "\n",
       "    .dataframe tbody tr th {\n",
       "        vertical-align: top;\n",
       "    }\n",
       "\n",
       "    .dataframe thead th {\n",
       "        text-align: right;\n",
       "    }\n",
       "</style>\n",
       "<table border=\"1\" class=\"dataframe\">\n",
       "  <thead>\n",
       "    <tr style=\"text-align: right;\">\n",
       "      <th></th>\n",
       "      <th>sample_id</th>\n",
       "      <th>video_path</th>\n",
       "      <th>timing</th>\n",
       "    </tr>\n",
       "  </thead>\n",
       "  <tbody>\n",
       "    <tr>\n",
       "      <th>0</th>\n",
       "      <td>TRAIN_0000</td>\n",
       "      <td>/data/home/ubuntu/workspace/dacon/data/train/T...</td>\n",
       "      <td>0</td>\n",
       "    </tr>\n",
       "    <tr>\n",
       "      <th>1</th>\n",
       "      <td>TRAIN_0001</td>\n",
       "      <td>/data/home/ubuntu/workspace/dacon/data/train/T...</td>\n",
       "      <td>0</td>\n",
       "    </tr>\n",
       "    <tr>\n",
       "      <th>2</th>\n",
       "      <td>TRAIN_0004</td>\n",
       "      <td>/data/home/ubuntu/workspace/dacon/data/train/T...</td>\n",
       "      <td>0</td>\n",
       "    </tr>\n",
       "    <tr>\n",
       "      <th>3</th>\n",
       "      <td>TRAIN_0006</td>\n",
       "      <td>/data/home/ubuntu/workspace/dacon/data/train/T...</td>\n",
       "      <td>0</td>\n",
       "    </tr>\n",
       "    <tr>\n",
       "      <th>4</th>\n",
       "      <td>TRAIN_0007</td>\n",
       "      <td>/data/home/ubuntu/workspace/dacon/data/train/T...</td>\n",
       "      <td>0</td>\n",
       "    </tr>\n",
       "    <tr>\n",
       "      <th>...</th>\n",
       "      <td>...</td>\n",
       "      <td>...</td>\n",
       "      <td>...</td>\n",
       "    </tr>\n",
       "    <tr>\n",
       "      <th>910</th>\n",
       "      <td>TRAIN_2685</td>\n",
       "      <td>/data/home/ubuntu/workspace/dacon/data/train/T...</td>\n",
       "      <td>1</td>\n",
       "    </tr>\n",
       "    <tr>\n",
       "      <th>911</th>\n",
       "      <td>TRAIN_2689</td>\n",
       "      <td>/data/home/ubuntu/workspace/dacon/data/train/T...</td>\n",
       "      <td>0</td>\n",
       "    </tr>\n",
       "    <tr>\n",
       "      <th>912</th>\n",
       "      <td>TRAIN_2692</td>\n",
       "      <td>/data/home/ubuntu/workspace/dacon/data/train/T...</td>\n",
       "      <td>0</td>\n",
       "    </tr>\n",
       "    <tr>\n",
       "      <th>913</th>\n",
       "      <td>TRAIN_2693</td>\n",
       "      <td>/data/home/ubuntu/workspace/dacon/data/train/T...</td>\n",
       "      <td>0</td>\n",
       "    </tr>\n",
       "    <tr>\n",
       "      <th>914</th>\n",
       "      <td>TRAIN_2694</td>\n",
       "      <td>/data/home/ubuntu/workspace/dacon/data/train/T...</td>\n",
       "      <td>0</td>\n",
       "    </tr>\n",
       "  </tbody>\n",
       "</table>\n",
       "<p>915 rows × 3 columns</p>\n",
       "</div>"
      ],
      "text/plain": [
       "      sample_id                                         video_path timing\n",
       "0    TRAIN_0000  /data/home/ubuntu/workspace/dacon/data/train/T...      0\n",
       "1    TRAIN_0001  /data/home/ubuntu/workspace/dacon/data/train/T...      0\n",
       "2    TRAIN_0004  /data/home/ubuntu/workspace/dacon/data/train/T...      0\n",
       "3    TRAIN_0006  /data/home/ubuntu/workspace/dacon/data/train/T...      0\n",
       "4    TRAIN_0007  /data/home/ubuntu/workspace/dacon/data/train/T...      0\n",
       "..          ...                                                ...    ...\n",
       "910  TRAIN_2685  /data/home/ubuntu/workspace/dacon/data/train/T...      1\n",
       "911  TRAIN_2689  /data/home/ubuntu/workspace/dacon/data/train/T...      0\n",
       "912  TRAIN_2692  /data/home/ubuntu/workspace/dacon/data/train/T...      0\n",
       "913  TRAIN_2693  /data/home/ubuntu/workspace/dacon/data/train/T...      0\n",
       "914  TRAIN_2694  /data/home/ubuntu/workspace/dacon/data/train/T...      0\n",
       "\n",
       "[915 rows x 3 columns]"
      ]
     },
     "execution_count": 16,
     "metadata": {},
     "output_type": "execute_result"
    }
   ],
   "source": [
    "df = pd.read_csv('./data/train_timing.csv')\n",
    "df = df[df['timing']!='Na'].reset_index(drop=True)\n",
    "df"
   ]
  },
  {
   "cell_type": "code",
   "execution_count": 12,
   "id": "62c4b2c3",
   "metadata": {},
   "outputs": [
    {
     "data": {
      "text/html": [
       "<div>\n",
       "<style scoped>\n",
       "    .dataframe tbody tr th:only-of-type {\n",
       "        vertical-align: middle;\n",
       "    }\n",
       "\n",
       "    .dataframe tbody tr th {\n",
       "        vertical-align: top;\n",
       "    }\n",
       "\n",
       "    .dataframe thead th {\n",
       "        text-align: right;\n",
       "    }\n",
       "</style>\n",
       "<table border=\"1\" class=\"dataframe\">\n",
       "  <thead>\n",
       "    <tr style=\"text-align: right;\">\n",
       "      <th></th>\n",
       "      <th>sample_id</th>\n",
       "      <th>video_path</th>\n",
       "      <th>weather</th>\n",
       "    </tr>\n",
       "  </thead>\n",
       "  <tbody>\n",
       "    <tr>\n",
       "      <th>0</th>\n",
       "      <td>TRAIN_0000</td>\n",
       "      <td>D:/ㅎㅎㄱ/0.Study/dacon_230221/train/TRAIN_0000.mp4</td>\n",
       "      <td>0</td>\n",
       "    </tr>\n",
       "    <tr>\n",
       "      <th>1</th>\n",
       "      <td>TRAIN_0001</td>\n",
       "      <td>D:/ㅎㅎㄱ/0.Study/dacon_230221/train/TRAIN_0001.mp4</td>\n",
       "      <td>0</td>\n",
       "    </tr>\n",
       "    <tr>\n",
       "      <th>2</th>\n",
       "      <td>TRAIN_0004</td>\n",
       "      <td>D:/ㅎㅎㄱ/0.Study/dacon_230221/train/TRAIN_0004.mp4</td>\n",
       "      <td>0</td>\n",
       "    </tr>\n",
       "    <tr>\n",
       "      <th>3</th>\n",
       "      <td>TRAIN_0006</td>\n",
       "      <td>D:/ㅎㅎㄱ/0.Study/dacon_230221/train/TRAIN_0006.mp4</td>\n",
       "      <td>1</td>\n",
       "    </tr>\n",
       "    <tr>\n",
       "      <th>4</th>\n",
       "      <td>TRAIN_0007</td>\n",
       "      <td>D:/ㅎㅎㄱ/0.Study/dacon_230221/train/TRAIN_0007.mp4</td>\n",
       "      <td>0</td>\n",
       "    </tr>\n",
       "    <tr>\n",
       "      <th>5</th>\n",
       "      <td>TRAIN_0009</td>\n",
       "      <td>D:/ㅎㅎㄱ/0.Study/dacon_230221/train/TRAIN_0009.mp4</td>\n",
       "      <td>1</td>\n",
       "    </tr>\n",
       "    <tr>\n",
       "      <th>6</th>\n",
       "      <td>TRAIN_0011</td>\n",
       "      <td>D:/ㅎㅎㄱ/0.Study/dacon_230221/train/TRAIN_0011.mp4</td>\n",
       "      <td>0</td>\n",
       "    </tr>\n",
       "    <tr>\n",
       "      <th>7</th>\n",
       "      <td>TRAIN_0015</td>\n",
       "      <td>D:/ㅎㅎㄱ/0.Study/dacon_230221/train/TRAIN_0015.mp4</td>\n",
       "      <td>0</td>\n",
       "    </tr>\n",
       "    <tr>\n",
       "      <th>8</th>\n",
       "      <td>TRAIN_0016</td>\n",
       "      <td>D:/ㅎㅎㄱ/0.Study/dacon_230221/train/TRAIN_0016.mp4</td>\n",
       "      <td>0</td>\n",
       "    </tr>\n",
       "    <tr>\n",
       "      <th>9</th>\n",
       "      <td>TRAIN_0017</td>\n",
       "      <td>D:/ㅎㅎㄱ/0.Study/dacon_230221/train/TRAIN_0017.mp4</td>\n",
       "      <td>0</td>\n",
       "    </tr>\n",
       "  </tbody>\n",
       "</table>\n",
       "</div>"
      ],
      "text/plain": [
       "    sample_id                                        video_path weather\n",
       "0  TRAIN_0000  D:/ㅎㅎㄱ/0.Study/dacon_230221/train/TRAIN_0000.mp4       0\n",
       "1  TRAIN_0001  D:/ㅎㅎㄱ/0.Study/dacon_230221/train/TRAIN_0001.mp4       0\n",
       "2  TRAIN_0004  D:/ㅎㅎㄱ/0.Study/dacon_230221/train/TRAIN_0004.mp4       0\n",
       "3  TRAIN_0006  D:/ㅎㅎㄱ/0.Study/dacon_230221/train/TRAIN_0006.mp4       1\n",
       "4  TRAIN_0007  D:/ㅎㅎㄱ/0.Study/dacon_230221/train/TRAIN_0007.mp4       0\n",
       "5  TRAIN_0009  D:/ㅎㅎㄱ/0.Study/dacon_230221/train/TRAIN_0009.mp4       1\n",
       "6  TRAIN_0011  D:/ㅎㅎㄱ/0.Study/dacon_230221/train/TRAIN_0011.mp4       0\n",
       "7  TRAIN_0015  D:/ㅎㅎㄱ/0.Study/dacon_230221/train/TRAIN_0015.mp4       0\n",
       "8  TRAIN_0016  D:/ㅎㅎㄱ/0.Study/dacon_230221/train/TRAIN_0016.mp4       0\n",
       "9  TRAIN_0017  D:/ㅎㅎㄱ/0.Study/dacon_230221/train/TRAIN_0017.mp4       0"
      ]
     },
     "execution_count": 12,
     "metadata": {},
     "output_type": "execute_result"
    }
   ],
   "source": [
    "df = df[:10]\n",
    "df"
   ]
  },
  {
   "cell_type": "code",
   "execution_count": 13,
   "id": "26132fd9",
   "metadata": {},
   "outputs": [],
   "source": [
    "seed_everything(CFG['SEED']) # Seed 고정"
   ]
  },
  {
   "cell_type": "code",
   "execution_count": 17,
   "id": "6ef836d7",
   "metadata": {},
   "outputs": [
    {
     "name": "stderr",
     "output_type": "stream",
     "text": [
      "  3%|▎         | 28/915 [00:02<01:15, 11.70it/s]\n"
     ]
    },
    {
     "ename": "KeyboardInterrupt",
     "evalue": "",
     "output_type": "error",
     "traceback": [
      "\u001b[0;31m---------------------------------------------------------------------------\u001b[0m",
      "\u001b[0;31mKeyboardInterrupt\u001b[0m                         Traceback (most recent call last)",
      "Cell \u001b[0;32mIn[17], line 3\u001b[0m\n\u001b[1;32m      1\u001b[0m total_frames, total_labels \u001b[39m=\u001b[39m [], []\n\u001b[1;32m      2\u001b[0m \u001b[39mfor\u001b[39;00m i \u001b[39min\u001b[39;00m tqdm(\u001b[39mrange\u001b[39m(\u001b[39mlen\u001b[39m(df))):\n\u001b[0;32m----> 3\u001b[0m     frames, labels \u001b[39m=\u001b[39m get_img(df\u001b[39m.\u001b[39;49mloc[i,\u001b[39m'\u001b[39;49m\u001b[39mvideo_path\u001b[39;49m\u001b[39m'\u001b[39;49m], df\u001b[39m.\u001b[39;49mloc[i,\u001b[39m'\u001b[39;49m\u001b[39mtiming\u001b[39;49m\u001b[39m'\u001b[39;49m])\n\u001b[1;32m      4\u001b[0m     total_frames\u001b[39m.\u001b[39mextend(frames)\n\u001b[1;32m      5\u001b[0m     total_labels\u001b[39m.\u001b[39mextend(labels)\n",
      "Cell \u001b[0;32mIn[13], line 13\u001b[0m, in \u001b[0;36mget_img\u001b[0;34m(path, label)\u001b[0m\n\u001b[1;32m     11\u001b[0m \u001b[39mif\u001b[39;00m (label):\n\u001b[1;32m     12\u001b[0m     \u001b[39mfor\u001b[39;00m _ \u001b[39min\u001b[39;00m \u001b[39mrange\u001b[39m(CFG[\u001b[39m'\u001b[39m\u001b[39mVIDEO_LENGTH\u001b[39m\u001b[39m'\u001b[39m]):\n\u001b[0;32m---> 13\u001b[0m         _, img \u001b[39m=\u001b[39m cap\u001b[39m.\u001b[39;49mread()\n\u001b[1;32m     14\u001b[0m         cnt\u001b[39m+\u001b[39m\u001b[39m=\u001b[39m\u001b[39m1\u001b[39m\n\u001b[1;32m     15\u001b[0m         \u001b[39mif\u001b[39;00m (cnt\u001b[39m%\u001b[39mdivide\u001b[39m==\u001b[39m\u001b[39m0\u001b[39m):\n",
      "\u001b[0;31mKeyboardInterrupt\u001b[0m: "
     ]
    }
   ],
   "source": [
    "total_frames, total_labels = [], []\n",
    "for i in tqdm(range(len(df))):\n",
    "    frames, labels = get_img(df.loc[i,'video_path'], df.loc[i,'timing'])\n",
    "    total_frames.extend(frames)\n",
    "    total_labels.extend(labels)"
   ]
  },
  {
   "cell_type": "code",
   "execution_count": 15,
   "id": "fc10004e",
   "metadata": {},
   "outputs": [],
   "source": [
    "train_set, val_set, train_label, val_lable = train_test_split(total_frames, total_labels, test_size=0.2, random_state=CFG['SEED'])"
   ]
  },
  {
   "cell_type": "code",
   "execution_count": 16,
   "id": "5212d9fd",
   "metadata": {},
   "outputs": [],
   "source": [
    "train_dataset = CustomDataset(train_set, train_label)\n",
    "train_loader = DataLoader(\n",
    "    train_dataset, \n",
    "    batch_size = CFG['BATCH_SIZE'],\n",
    "    shuffle=True, \n",
    "    num_workers=0\n",
    "    )\n",
    "\n",
    "val_dataset = CustomDataset(val_set, val_lable)\n",
    "val_loader = DataLoader(\n",
    "    val_dataset, \n",
    "    batch_size = CFG['BATCH_SIZE'],\n",
    "    shuffle=False, \n",
    "    num_workers=0\n",
    "    )"
   ]
  },
  {
   "cell_type": "code",
   "execution_count": 24,
   "id": "19dc5271",
   "metadata": {},
   "outputs": [
    {
     "data": {
      "application/vnd.jupyter.widget-view+json": {
       "model_id": "3df3368971874adbab04186f5fcd332a",
       "version_major": 2,
       "version_minor": 0
      },
      "text/plain": [
       "  0%|          | 0/36 [00:00<?, ?it/s]"
      ]
     },
     "metadata": {},
     "output_type": "display_data"
    },
    {
     "data": {
      "application/vnd.jupyter.widget-view+json": {
       "model_id": "49730531e4454141856dd2cae44b3f6d",
       "version_major": 2,
       "version_minor": 0
      },
      "text/plain": [
       "  0%|          | 0/9 [00:00<?, ?it/s]"
      ]
     },
     "metadata": {},
     "output_type": "display_data"
    },
    {
     "name": "stdout",
     "output_type": "stream",
     "text": [
      "Epoch [1], Train Loss : [1.32783] Val Loss : [6.81932] Val F1 : [0.28000]\n",
      "======== model saved - epoch :  1\n"
     ]
    },
    {
     "data": {
      "application/vnd.jupyter.widget-view+json": {
       "model_id": "5ae8947eb9c249e8830ce4f4bf322176",
       "version_major": 2,
       "version_minor": 0
      },
      "text/plain": [
       "  0%|          | 0/36 [00:00<?, ?it/s]"
      ]
     },
     "metadata": {},
     "output_type": "display_data"
    },
    {
     "data": {
      "application/vnd.jupyter.widget-view+json": {
       "model_id": "74ba2a456a8742d9a60926e60418449e",
       "version_major": 2,
       "version_minor": 0
      },
      "text/plain": [
       "  0%|          | 0/9 [00:00<?, ?it/s]"
      ]
     },
     "metadata": {},
     "output_type": "display_data"
    },
    {
     "name": "stdout",
     "output_type": "stream",
     "text": [
      "Epoch [2], Train Loss : [0.61962] Val Loss : [60.41614] Val F1 : [0.37931]\n",
      "======== model saved - epoch :  2\n"
     ]
    },
    {
     "data": {
      "application/vnd.jupyter.widget-view+json": {
       "model_id": "5ed0fca909014d97a108bedbdaa20f2d",
       "version_major": 2,
       "version_minor": 0
      },
      "text/plain": [
       "  0%|          | 0/36 [00:00<?, ?it/s]"
      ]
     },
     "metadata": {},
     "output_type": "display_data"
    },
    {
     "data": {
      "application/vnd.jupyter.widget-view+json": {
       "model_id": "50026c0eb3734458b6b107dbd5ba4dd7",
       "version_major": 2,
       "version_minor": 0
      },
      "text/plain": [
       "  0%|          | 0/9 [00:00<?, ?it/s]"
      ]
     },
     "metadata": {},
     "output_type": "display_data"
    },
    {
     "name": "stdout",
     "output_type": "stream",
     "text": [
      "Epoch [3], Train Loss : [0.61390] Val Loss : [1.34795] Val F1 : [0.33333]\n",
      "======== model saved - epoch :  3\n"
     ]
    },
    {
     "data": {
      "application/vnd.jupyter.widget-view+json": {
       "model_id": "8a2e35167f034f5dbca75e087b5d1825",
       "version_major": 2,
       "version_minor": 0
      },
      "text/plain": [
       "  0%|          | 0/36 [00:00<?, ?it/s]"
      ]
     },
     "metadata": {},
     "output_type": "display_data"
    },
    {
     "data": {
      "application/vnd.jupyter.widget-view+json": {
       "model_id": "725802e0a278497ca999fe1dfccb92d1",
       "version_major": 2,
       "version_minor": 0
      },
      "text/plain": [
       "  0%|          | 0/9 [00:00<?, ?it/s]"
      ]
     },
     "metadata": {},
     "output_type": "display_data"
    },
    {
     "name": "stdout",
     "output_type": "stream",
     "text": [
      "Epoch [4], Train Loss : [0.40290] Val Loss : [0.12338] Val F1 : [1.00000]\n",
      "======== model saved - epoch :  4\n"
     ]
    },
    {
     "data": {
      "application/vnd.jupyter.widget-view+json": {
       "model_id": "f4597264b6da408db4a235c0877daa51",
       "version_major": 2,
       "version_minor": 0
      },
      "text/plain": [
       "  0%|          | 0/36 [00:00<?, ?it/s]"
      ]
     },
     "metadata": {},
     "output_type": "display_data"
    },
    {
     "data": {
      "application/vnd.jupyter.widget-view+json": {
       "model_id": "8afd1febf1e045519b14e9e85a7f6c49",
       "version_major": 2,
       "version_minor": 0
      },
      "text/plain": [
       "  0%|          | 0/9 [00:00<?, ?it/s]"
      ]
     },
     "metadata": {},
     "output_type": "display_data"
    },
    {
     "name": "stdout",
     "output_type": "stream",
     "text": [
      "Epoch [5], Train Loss : [0.59596] Val Loss : [0.19229] Val F1 : [0.94286]\n",
      "======== model saved - epoch :  5\n"
     ]
    },
    {
     "data": {
      "application/vnd.jupyter.widget-view+json": {
       "model_id": "23b6b9322d9b4e2298027b8eb9f2f450",
       "version_major": 2,
       "version_minor": 0
      },
      "text/plain": [
       "  0%|          | 0/36 [00:00<?, ?it/s]"
      ]
     },
     "metadata": {},
     "output_type": "display_data"
    },
    {
     "data": {
      "application/vnd.jupyter.widget-view+json": {
       "model_id": "cc6918f579e04271a17fdc5a7145405e",
       "version_major": 2,
       "version_minor": 0
      },
      "text/plain": [
       "  0%|          | 0/9 [00:00<?, ?it/s]"
      ]
     },
     "metadata": {},
     "output_type": "display_data"
    },
    {
     "name": "stdout",
     "output_type": "stream",
     "text": [
      "Epoch [6], Train Loss : [0.83270] Val Loss : [0.20029] Val F1 : [1.00000]\n",
      "======== model saved - epoch :  6\n"
     ]
    },
    {
     "data": {
      "application/vnd.jupyter.widget-view+json": {
       "model_id": "afcc39a50bc64249ae38b3e62d00177e",
       "version_major": 2,
       "version_minor": 0
      },
      "text/plain": [
       "  0%|          | 0/36 [00:00<?, ?it/s]"
      ]
     },
     "metadata": {},
     "output_type": "display_data"
    },
    {
     "data": {
      "application/vnd.jupyter.widget-view+json": {
       "model_id": "56e6b37083ad4375bbf05085d59c0ff6",
       "version_major": 2,
       "version_minor": 0
      },
      "text/plain": [
       "  0%|          | 0/9 [00:00<?, ?it/s]"
      ]
     },
     "metadata": {},
     "output_type": "display_data"
    },
    {
     "name": "stdout",
     "output_type": "stream",
     "text": [
      "Epoch [7], Train Loss : [0.57909] Val Loss : [0.49057] Val F1 : [0.51786]\n",
      "======== model saved - epoch :  7\n"
     ]
    },
    {
     "data": {
      "application/vnd.jupyter.widget-view+json": {
       "model_id": "f338ffd7433543a68458d0d32d855fdb",
       "version_major": 2,
       "version_minor": 0
      },
      "text/plain": [
       "  0%|          | 0/36 [00:00<?, ?it/s]"
      ]
     },
     "metadata": {},
     "output_type": "display_data"
    },
    {
     "data": {
      "application/vnd.jupyter.widget-view+json": {
       "model_id": "265af0410fd246d7987b5d1b7a4f144d",
       "version_major": 2,
       "version_minor": 0
      },
      "text/plain": [
       "  0%|          | 0/9 [00:00<?, ?it/s]"
      ]
     },
     "metadata": {},
     "output_type": "display_data"
    },
    {
     "name": "stdout",
     "output_type": "stream",
     "text": [
      "Epoch [8], Train Loss : [0.14590] Val Loss : [0.12255] Val F1 : [1.00000]\n",
      "======== model saved - epoch :  8\n"
     ]
    },
    {
     "data": {
      "application/vnd.jupyter.widget-view+json": {
       "model_id": "2b90753aa5234bafbadda03e9507b3cd",
       "version_major": 2,
       "version_minor": 0
      },
      "text/plain": [
       "  0%|          | 0/36 [00:00<?, ?it/s]"
      ]
     },
     "metadata": {},
     "output_type": "display_data"
    },
    {
     "data": {
      "application/vnd.jupyter.widget-view+json": {
       "model_id": "66180827375d43fabf311a001f98bdd9",
       "version_major": 2,
       "version_minor": 0
      },
      "text/plain": [
       "  0%|          | 0/9 [00:00<?, ?it/s]"
      ]
     },
     "metadata": {},
     "output_type": "display_data"
    },
    {
     "name": "stdout",
     "output_type": "stream",
     "text": [
      "Epoch [9], Train Loss : [0.12133] Val Loss : [0.03099] Val F1 : [1.00000]\n",
      "======== model saved - epoch :  9\n"
     ]
    },
    {
     "data": {
      "application/vnd.jupyter.widget-view+json": {
       "model_id": "53805c60b95545828308cc02df592c1a",
       "version_major": 2,
       "version_minor": 0
      },
      "text/plain": [
       "  0%|          | 0/36 [00:00<?, ?it/s]"
      ]
     },
     "metadata": {},
     "output_type": "display_data"
    },
    {
     "data": {
      "application/vnd.jupyter.widget-view+json": {
       "model_id": "c063ba4966f6463db69be144bb28eaed",
       "version_major": 2,
       "version_minor": 0
      },
      "text/plain": [
       "  0%|          | 0/9 [00:00<?, ?it/s]"
      ]
     },
     "metadata": {},
     "output_type": "display_data"
    },
    {
     "name": "stdout",
     "output_type": "stream",
     "text": [
      "Epoch [10], Train Loss : [0.13523] Val Loss : [0.24900] Val F1 : [0.80364]\n",
      "======== model saved - epoch :  10\n"
     ]
    }
   ],
   "source": [
    "# resnet50\n",
    "model = models.resnet101()\n",
    "\n",
    "num_classes = 3\n",
    "num_ftrs = model.fc.in_features\n",
    "model.fc = nn.Linear(num_ftrs, num_classes)\n",
    "\n",
    "device = torch.device('cuda:0')\n",
    "model = model.to(device)\n",
    "\n",
    "optimizer = torch.optim.Adam(params = model.parameters(), lr = CFG[\"LEARNING_RATE\"])\n",
    "scheduler = torch.optim.lr_scheduler.ReduceLROnPlateau(\n",
    "    optimizer, \n",
    "    mode='max', \n",
    "    factor=0.5, \n",
    "    patience=2,\n",
    "    threshold_mode='abs',\n",
    "    min_lr=1e-4, \n",
    "    verbose=False\n",
    ")\n",
    "infer_model = train(model, optimizer, train_loader, val_loader, scheduler, device)"
   ]
  },
  {
   "cell_type": "code",
   "execution_count": null,
   "id": "6cdb8cab",
   "metadata": {},
   "outputs": [],
   "source": []
  },
  {
   "cell_type": "code",
   "execution_count": null,
   "id": "3fd680a9",
   "metadata": {},
   "outputs": [],
   "source": []
  }
 ],
 "metadata": {
  "kernelspec": {
   "display_name": "pytorch_p39",
   "language": "python",
   "name": "python3"
  },
  "language_info": {
   "codemirror_mode": {
    "name": "ipython",
    "version": 3
   },
   "file_extension": ".py",
   "mimetype": "text/x-python",
   "name": "python",
   "nbconvert_exporter": "python",
   "pygments_lexer": "ipython3",
   "version": "3.9.12"
  },
  "toc": {
   "base_numbering": 1,
   "nav_menu": {},
   "number_sections": true,
   "sideBar": true,
   "skip_h1_title": false,
   "title_cell": "Table of Contents",
   "title_sidebar": "Contents",
   "toc_cell": false,
   "toc_position": {},
   "toc_section_display": true,
   "toc_window_display": false
  }
 },
 "nbformat": 4,
 "nbformat_minor": 5
}
