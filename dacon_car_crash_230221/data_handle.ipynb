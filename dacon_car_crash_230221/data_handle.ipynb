{
 "cells": [
  {
   "cell_type": "markdown",
   "id": "f1adaf01",
   "metadata": {},
   "source": [
    "### 라벨링"
   ]
  },
  {
   "cell_type": "markdown",
   "id": "ef374374",
   "metadata": {},
   "source": [
    "- 모델1, crash - ego : 0(충돌안함), 1(충돌-나랑), 2(충돌-나아님)\n",
    "- 모델2, 날씨 : 0(정상), 1(눈), 2(비)\n",
    "- 모델3. 시간 : 0(낮), 1(밤)"
   ]
  },
  {
   "cell_type": "markdown",
   "id": "6a792e1c",
   "metadata": {},
   "source": [
    "모델1 아이디어\n",
    "- crash_ego 컬럼 생성, 라벨 부여\n",
    "- 1,2 데이터 증강없이 1차 시도\n",
    "- c3d 모델 기반 : c3d baseline, 이후 r3d 적용\n",
    "\n",
    "모델2 아이디어\n",
    "- 라벨 달기\n",
    "- 프레임별로 라벨 달기 : 연산량 부하를 고려해 5프레임 단위로 추출\n",
    "- image clf 진행 : resnet50\n",
    "\n",
    "모델3 아이디어\n",
    "- 라벨 달기\n",
    "- 프레임별로 라벨 달기 : 연산량 부하를 고려해 5프레임 단위로 추출\n",
    "- image clf 진행 : resnet50"
   ]
  },
  {
   "cell_type": "code",
   "execution_count": 89,
   "id": "22fda37b",
   "metadata": {
    "ExecuteTime": {
     "end_time": "2023-03-07T01:18:33.727797Z",
     "start_time": "2023-03-07T01:18:33.717510Z"
    }
   },
   "outputs": [],
   "source": [
    "import pandas as pd"
   ]
  },
  {
   "cell_type": "code",
   "execution_count": 92,
   "id": "707b0eb3",
   "metadata": {
    "ExecuteTime": {
     "end_time": "2023-03-07T01:18:34.902654Z",
     "start_time": "2023-03-07T01:18:34.165379Z"
    }
   },
   "outputs": [],
   "source": [
    "# df = pd.read_csv('./data/train.csv')\n",
    "# df[['crash_ego','weather','timing']] = ''\n",
    "\n",
    "# for i in range(len(df)):\n",
    "#     label = df.loc[i, 'label']\n",
    "    \n",
    "#     if (label == 0):\n",
    "#         df.loc[i, 'crash_ego'] = 0 # 충돌 안함\n",
    "#     elif ((label > 0) and (label <7)):\n",
    "#         df.loc[i, 'crash_ego'] = 1 # 충돌 - 나랑충돌\n",
    "#     else:\n",
    "#         df.loc[i, 'crash_ego'] = 2 # 충돌 - 나랑 충돌하지 않음\n",
    "      \n",
    "#     if (label==0):\n",
    "#         df.loc[i, 'weather'] = 'Na'\n",
    "#     elif ((label==1) or (label==2) or (label==7) or (label==8)):\n",
    "#         df.loc[i, 'weather'] = 0 # 정상\n",
    "#     elif ((label==3) or (label==4) or (label==9) or (label==10)):\n",
    "#         df.loc[i, 'weather'] = 1 # 눈\n",
    "#     else:\n",
    "#         df.loc[i, 'weather'] = 2 # 비\n",
    "    \n",
    "#     if (label==0):\n",
    "#         df.loc[i, 'timing'] = 'Na'\n",
    "#     elif ((label==1) or (label==3) or (label==5) or (label==7) or (label==9) or (label==11)):\n",
    "#         df.loc[i, 'timing'] = 0 # 낮\n",
    "#     else:\n",
    "#         df.loc[i, 'timing'] = 1 # 밤\n",
    "\n",
    "# df.to_csv('./data/train_new_label.csv', index=False)"
   ]
  },
  {
   "cell_type": "code",
   "execution_count": 110,
   "id": "56155021",
   "metadata": {
    "ExecuteTime": {
     "end_time": "2023-03-07T01:22:37.990615Z",
     "start_time": "2023-03-07T01:22:37.940656Z"
    }
   },
   "outputs": [
    {
     "data": {
      "text/html": [
       "<div>\n",
       "<style scoped>\n",
       "    .dataframe tbody tr th:only-of-type {\n",
       "        vertical-align: middle;\n",
       "    }\n",
       "\n",
       "    .dataframe tbody tr th {\n",
       "        vertical-align: top;\n",
       "    }\n",
       "\n",
       "    .dataframe thead th {\n",
       "        text-align: right;\n",
       "    }\n",
       "</style>\n",
       "<table border=\"1\" class=\"dataframe\">\n",
       "  <thead>\n",
       "    <tr style=\"text-align: right;\">\n",
       "      <th></th>\n",
       "      <th>sample_id</th>\n",
       "      <th>video_path</th>\n",
       "      <th>label</th>\n",
       "      <th>crash_ego</th>\n",
       "      <th>weather</th>\n",
       "      <th>timing</th>\n",
       "    </tr>\n",
       "  </thead>\n",
       "  <tbody>\n",
       "    <tr>\n",
       "      <th>0</th>\n",
       "      <td>TRAIN_0000</td>\n",
       "      <td>./train/TRAIN_0000.mp4</td>\n",
       "      <td>7</td>\n",
       "      <td>2</td>\n",
       "      <td>0</td>\n",
       "      <td>0</td>\n",
       "    </tr>\n",
       "    <tr>\n",
       "      <th>1</th>\n",
       "      <td>TRAIN_0001</td>\n",
       "      <td>./train/TRAIN_0001.mp4</td>\n",
       "      <td>7</td>\n",
       "      <td>2</td>\n",
       "      <td>0</td>\n",
       "      <td>0</td>\n",
       "    </tr>\n",
       "    <tr>\n",
       "      <th>2</th>\n",
       "      <td>TRAIN_0002</td>\n",
       "      <td>./train/TRAIN_0002.mp4</td>\n",
       "      <td>0</td>\n",
       "      <td>0</td>\n",
       "      <td>Na</td>\n",
       "      <td>Na</td>\n",
       "    </tr>\n",
       "    <tr>\n",
       "      <th>3</th>\n",
       "      <td>TRAIN_0003</td>\n",
       "      <td>./train/TRAIN_0003.mp4</td>\n",
       "      <td>0</td>\n",
       "      <td>0</td>\n",
       "      <td>Na</td>\n",
       "      <td>Na</td>\n",
       "    </tr>\n",
       "    <tr>\n",
       "      <th>4</th>\n",
       "      <td>TRAIN_0004</td>\n",
       "      <td>./train/TRAIN_0004.mp4</td>\n",
       "      <td>1</td>\n",
       "      <td>1</td>\n",
       "      <td>0</td>\n",
       "      <td>0</td>\n",
       "    </tr>\n",
       "    <tr>\n",
       "      <th>...</th>\n",
       "      <td>...</td>\n",
       "      <td>...</td>\n",
       "      <td>...</td>\n",
       "      <td>...</td>\n",
       "      <td>...</td>\n",
       "      <td>...</td>\n",
       "    </tr>\n",
       "    <tr>\n",
       "      <th>2693</th>\n",
       "      <td>TRAIN_2693</td>\n",
       "      <td>./train/TRAIN_2693.mp4</td>\n",
       "      <td>3</td>\n",
       "      <td>1</td>\n",
       "      <td>1</td>\n",
       "      <td>0</td>\n",
       "    </tr>\n",
       "    <tr>\n",
       "      <th>2694</th>\n",
       "      <td>TRAIN_2694</td>\n",
       "      <td>./train/TRAIN_2694.mp4</td>\n",
       "      <td>5</td>\n",
       "      <td>1</td>\n",
       "      <td>2</td>\n",
       "      <td>0</td>\n",
       "    </tr>\n",
       "    <tr>\n",
       "      <th>2695</th>\n",
       "      <td>TRAIN_2695</td>\n",
       "      <td>./train/TRAIN_2695.mp4</td>\n",
       "      <td>0</td>\n",
       "      <td>0</td>\n",
       "      <td>Na</td>\n",
       "      <td>Na</td>\n",
       "    </tr>\n",
       "    <tr>\n",
       "      <th>2696</th>\n",
       "      <td>TRAIN_2696</td>\n",
       "      <td>./train/TRAIN_2696.mp4</td>\n",
       "      <td>0</td>\n",
       "      <td>0</td>\n",
       "      <td>Na</td>\n",
       "      <td>Na</td>\n",
       "    </tr>\n",
       "    <tr>\n",
       "      <th>2697</th>\n",
       "      <td>TRAIN_2697</td>\n",
       "      <td>./train/TRAIN_2697.mp4</td>\n",
       "      <td>0</td>\n",
       "      <td>0</td>\n",
       "      <td>Na</td>\n",
       "      <td>Na</td>\n",
       "    </tr>\n",
       "  </tbody>\n",
       "</table>\n",
       "<p>2698 rows × 6 columns</p>\n",
       "</div>"
      ],
      "text/plain": [
       "       sample_id              video_path  label  crash_ego weather timing\n",
       "0     TRAIN_0000  ./train/TRAIN_0000.mp4      7          2       0      0\n",
       "1     TRAIN_0001  ./train/TRAIN_0001.mp4      7          2       0      0\n",
       "2     TRAIN_0002  ./train/TRAIN_0002.mp4      0          0      Na     Na\n",
       "3     TRAIN_0003  ./train/TRAIN_0003.mp4      0          0      Na     Na\n",
       "4     TRAIN_0004  ./train/TRAIN_0004.mp4      1          1       0      0\n",
       "...          ...                     ...    ...        ...     ...    ...\n",
       "2693  TRAIN_2693  ./train/TRAIN_2693.mp4      3          1       1      0\n",
       "2694  TRAIN_2694  ./train/TRAIN_2694.mp4      5          1       2      0\n",
       "2695  TRAIN_2695  ./train/TRAIN_2695.mp4      0          0      Na     Na\n",
       "2696  TRAIN_2696  ./train/TRAIN_2696.mp4      0          0      Na     Na\n",
       "2697  TRAIN_2697  ./train/TRAIN_2697.mp4      0          0      Na     Na\n",
       "\n",
       "[2698 rows x 6 columns]"
      ]
     },
     "execution_count": 110,
     "metadata": {},
     "output_type": "execute_result"
    }
   ],
   "source": [
    "df = pd.read_csv('./data/train_new_label.csv')\n",
    "df"
   ]
  },
  {
   "cell_type": "markdown",
   "id": "7f3fa5c8",
   "metadata": {},
   "source": [
    "### 라벨링 기준 데이터 EDA"
   ]
  },
  {
   "cell_type": "code",
   "execution_count": 111,
   "id": "4a2bda8a",
   "metadata": {
    "ExecuteTime": {
     "end_time": "2023-03-07T01:22:41.377316Z",
     "start_time": "2023-03-07T01:22:41.355881Z"
    }
   },
   "outputs": [
    {
     "data": {
      "text/plain": [
       "0    1783\n",
       "1     491\n",
       "2     424\n",
       "Name: crash_ego, dtype: int64"
      ]
     },
     "execution_count": 111,
     "metadata": {},
     "output_type": "execute_result"
    }
   ],
   "source": [
    "df['crash_ego'].value_counts()"
   ]
  },
  {
   "cell_type": "code",
   "execution_count": 112,
   "id": "b0b8eabe",
   "metadata": {
    "ExecuteTime": {
     "end_time": "2023-03-07T01:22:41.563677Z",
     "start_time": "2023-03-07T01:22:41.553170Z"
    }
   },
   "outputs": [
    {
     "data": {
      "text/plain": [
       "Na    1783\n",
       "0      716\n",
       "1      129\n",
       "2       70\n",
       "Name: weather, dtype: int64"
      ]
     },
     "execution_count": 112,
     "metadata": {},
     "output_type": "execute_result"
    }
   ],
   "source": [
    "df['weather'].value_counts()"
   ]
  },
  {
   "cell_type": "code",
   "execution_count": 113,
   "id": "7975e9a6",
   "metadata": {
    "ExecuteTime": {
     "end_time": "2023-03-07T01:22:41.719498Z",
     "start_time": "2023-03-07T01:22:41.712813Z"
    }
   },
   "outputs": [
    {
     "data": {
      "text/plain": [
       "Na    1783\n",
       "0      808\n",
       "1      107\n",
       "Name: timing, dtype: int64"
      ]
     },
     "execution_count": 113,
     "metadata": {},
     "output_type": "execute_result"
    }
   ],
   "source": [
    "df['timing'].value_counts()"
   ]
  },
  {
   "cell_type": "markdown",
   "id": "ca28dc5a",
   "metadata": {},
   "source": [
    "### 데이터 저장"
   ]
  },
  {
   "cell_type": "code",
   "execution_count": 127,
   "id": "b456b2e2",
   "metadata": {
    "ExecuteTime": {
     "end_time": "2023-03-07T01:26:07.907731Z",
     "start_time": "2023-03-07T01:26:07.874466Z"
    }
   },
   "outputs": [],
   "source": [
    "crash_ego_df = df.drop(columns= ['label', 'weather', 'timing'])\n",
    "crash_ego_df.to_csv('./data/train_crash_ego.csv', index=False)"
   ]
  },
  {
   "cell_type": "code",
   "execution_count": 130,
   "id": "2b9f2250",
   "metadata": {
    "ExecuteTime": {
     "end_time": "2023-03-07T01:26:45.471983Z",
     "start_time": "2023-03-07T01:26:45.442059Z"
    }
   },
   "outputs": [],
   "source": [
    "weather_df = df.drop(columns= ['label', 'crash_ego', 'timing'])\n",
    "weather_df.to_csv('./data/train_weather.csv', index=False)"
   ]
  },
  {
   "cell_type": "code",
   "execution_count": 131,
   "id": "2ebdf19b",
   "metadata": {
    "ExecuteTime": {
     "end_time": "2023-03-07T01:26:57.884245Z",
     "start_time": "2023-03-07T01:26:57.856940Z"
    }
   },
   "outputs": [],
   "source": [
    "timing_df = df.drop(columns= ['label', 'crash_ego', 'weather'])\n",
    "timing_df.to_csv('./data/train_timing.csv', index=False)"
   ]
  },
  {
   "cell_type": "markdown",
   "id": "7a9bcc63",
   "metadata": {},
   "source": [
    "### crash_ego_label df 편집"
   ]
  },
  {
   "cell_type": "code",
   "execution_count": 119,
   "id": "4cb4842d",
   "metadata": {
    "ExecuteTime": {
     "end_time": "2023-03-07T01:23:43.750924Z",
     "start_time": "2023-03-07T01:23:43.329459Z"
    }
   },
   "outputs": [
    {
     "data": {
      "text/html": [
       "<div>\n",
       "<style scoped>\n",
       "    .dataframe tbody tr th:only-of-type {\n",
       "        vertical-align: middle;\n",
       "    }\n",
       "\n",
       "    .dataframe tbody tr th {\n",
       "        vertical-align: top;\n",
       "    }\n",
       "\n",
       "    .dataframe thead th {\n",
       "        text-align: right;\n",
       "    }\n",
       "</style>\n",
       "<table border=\"1\" class=\"dataframe\">\n",
       "  <thead>\n",
       "    <tr style=\"text-align: right;\">\n",
       "      <th></th>\n",
       "      <th>sample_id</th>\n",
       "      <th>video_path</th>\n",
       "      <th>crash_ego</th>\n",
       "      <th>aug</th>\n",
       "    </tr>\n",
       "  </thead>\n",
       "  <tbody>\n",
       "    <tr>\n",
       "      <th>0</th>\n",
       "      <td>TRAIN_0000</td>\n",
       "      <td>./data/train/TRAIN_0000.mp4</td>\n",
       "      <td>2</td>\n",
       "      <td>N</td>\n",
       "    </tr>\n",
       "    <tr>\n",
       "      <th>1</th>\n",
       "      <td>TRAIN_0001</td>\n",
       "      <td>./data/train/TRAIN_0001.mp4</td>\n",
       "      <td>2</td>\n",
       "      <td>N</td>\n",
       "    </tr>\n",
       "    <tr>\n",
       "      <th>2</th>\n",
       "      <td>TRAIN_0002</td>\n",
       "      <td>./data/train/TRAIN_0002.mp4</td>\n",
       "      <td>0</td>\n",
       "      <td>N</td>\n",
       "    </tr>\n",
       "    <tr>\n",
       "      <th>3</th>\n",
       "      <td>TRAIN_0003</td>\n",
       "      <td>./data/train/TRAIN_0003.mp4</td>\n",
       "      <td>0</td>\n",
       "      <td>N</td>\n",
       "    </tr>\n",
       "    <tr>\n",
       "      <th>4</th>\n",
       "      <td>TRAIN_0004</td>\n",
       "      <td>./data/train/TRAIN_0004.mp4</td>\n",
       "      <td>1</td>\n",
       "      <td>N</td>\n",
       "    </tr>\n",
       "    <tr>\n",
       "      <th>...</th>\n",
       "      <td>...</td>\n",
       "      <td>...</td>\n",
       "      <td>...</td>\n",
       "      <td>...</td>\n",
       "    </tr>\n",
       "    <tr>\n",
       "      <th>2693</th>\n",
       "      <td>TRAIN_2693</td>\n",
       "      <td>./data/train/TRAIN_2693.mp4</td>\n",
       "      <td>1</td>\n",
       "      <td>N</td>\n",
       "    </tr>\n",
       "    <tr>\n",
       "      <th>2694</th>\n",
       "      <td>TRAIN_2694</td>\n",
       "      <td>./data/train/TRAIN_2694.mp4</td>\n",
       "      <td>1</td>\n",
       "      <td>N</td>\n",
       "    </tr>\n",
       "    <tr>\n",
       "      <th>2695</th>\n",
       "      <td>TRAIN_2695</td>\n",
       "      <td>./data/train/TRAIN_2695.mp4</td>\n",
       "      <td>0</td>\n",
       "      <td>N</td>\n",
       "    </tr>\n",
       "    <tr>\n",
       "      <th>2696</th>\n",
       "      <td>TRAIN_2696</td>\n",
       "      <td>./data/train/TRAIN_2696.mp4</td>\n",
       "      <td>0</td>\n",
       "      <td>N</td>\n",
       "    </tr>\n",
       "    <tr>\n",
       "      <th>2697</th>\n",
       "      <td>TRAIN_2697</td>\n",
       "      <td>./data/train/TRAIN_2697.mp4</td>\n",
       "      <td>0</td>\n",
       "      <td>N</td>\n",
       "    </tr>\n",
       "  </tbody>\n",
       "</table>\n",
       "<p>2698 rows × 4 columns</p>\n",
       "</div>"
      ],
      "text/plain": [
       "       sample_id                   video_path  crash_ego aug\n",
       "0     TRAIN_0000  ./data/train/TRAIN_0000.mp4          2   N\n",
       "1     TRAIN_0001  ./data/train/TRAIN_0001.mp4          2   N\n",
       "2     TRAIN_0002  ./data/train/TRAIN_0002.mp4          0   N\n",
       "3     TRAIN_0003  ./data/train/TRAIN_0003.mp4          0   N\n",
       "4     TRAIN_0004  ./data/train/TRAIN_0004.mp4          1   N\n",
       "...          ...                          ...        ...  ..\n",
       "2693  TRAIN_2693  ./data/train/TRAIN_2693.mp4          1   N\n",
       "2694  TRAIN_2694  ./data/train/TRAIN_2694.mp4          1   N\n",
       "2695  TRAIN_2695  ./data/train/TRAIN_2695.mp4          0   N\n",
       "2696  TRAIN_2696  ./data/train/TRAIN_2696.mp4          0   N\n",
       "2697  TRAIN_2697  ./data/train/TRAIN_2697.mp4          0   N\n",
       "\n",
       "[2698 rows x 4 columns]"
      ]
     },
     "execution_count": 119,
     "metadata": {},
     "output_type": "execute_result"
    }
   ],
   "source": [
    "# data 경로 재지정, aug 대상여부 구분\n",
    "for v in range(len(crash_ego_df['video_path'])):\n",
    "    temp = crash_ego_df.loc[v,'video_path'].split('./')[-1]\n",
    "    new_path = './data/' + temp\n",
    "    crash_ego_df.loc[v,'video_path'] = new_path\n",
    "crash_ego_df['aug'] = 'N'\n",
    "crash_ego_df"
   ]
  },
  {
   "cell_type": "code",
   "execution_count": 120,
   "id": "8d5457cb",
   "metadata": {
    "ExecuteTime": {
     "end_time": "2023-03-07T01:23:50.245806Z",
     "start_time": "2023-03-07T01:23:43.758141Z"
    }
   },
   "outputs": [
    {
     "data": {
      "application/vnd.jupyter.widget-view+json": {
       "model_id": "d5368a4e4af147b795b7df95fe2ec94a",
       "version_major": 2,
       "version_minor": 0
      },
      "text/plain": [
       "  0%|          | 0/2698 [00:00<?, ?it/s]"
      ]
     },
     "metadata": {},
     "output_type": "display_data"
    },
    {
     "data": {
      "text/html": [
       "<div>\n",
       "<style scoped>\n",
       "    .dataframe tbody tr th:only-of-type {\n",
       "        vertical-align: middle;\n",
       "    }\n",
       "\n",
       "    .dataframe tbody tr th {\n",
       "        vertical-align: top;\n",
       "    }\n",
       "\n",
       "    .dataframe thead th {\n",
       "        text-align: right;\n",
       "    }\n",
       "</style>\n",
       "<table border=\"1\" class=\"dataframe\">\n",
       "  <thead>\n",
       "    <tr style=\"text-align: right;\">\n",
       "      <th></th>\n",
       "      <th>sample_id</th>\n",
       "      <th>video_path</th>\n",
       "      <th>crash_ego</th>\n",
       "      <th>aug</th>\n",
       "    </tr>\n",
       "  </thead>\n",
       "  <tbody>\n",
       "    <tr>\n",
       "      <th>0</th>\n",
       "      <td>TRAIN_0000</td>\n",
       "      <td>./data/train/TRAIN_0000.mp4</td>\n",
       "      <td>2</td>\n",
       "      <td>N</td>\n",
       "    </tr>\n",
       "    <tr>\n",
       "      <th>1</th>\n",
       "      <td>TRAIN_0001</td>\n",
       "      <td>./data/train/TRAIN_0001.mp4</td>\n",
       "      <td>2</td>\n",
       "      <td>N</td>\n",
       "    </tr>\n",
       "    <tr>\n",
       "      <th>2</th>\n",
       "      <td>TRAIN_0002</td>\n",
       "      <td>./data/train/TRAIN_0002.mp4</td>\n",
       "      <td>0</td>\n",
       "      <td>N</td>\n",
       "    </tr>\n",
       "    <tr>\n",
       "      <th>3</th>\n",
       "      <td>TRAIN_0003</td>\n",
       "      <td>./data/train/TRAIN_0003.mp4</td>\n",
       "      <td>0</td>\n",
       "      <td>N</td>\n",
       "    </tr>\n",
       "    <tr>\n",
       "      <th>4</th>\n",
       "      <td>TRAIN_0004</td>\n",
       "      <td>./data/train/TRAIN_0004.mp4</td>\n",
       "      <td>1</td>\n",
       "      <td>N</td>\n",
       "    </tr>\n",
       "    <tr>\n",
       "      <th>...</th>\n",
       "      <td>...</td>\n",
       "      <td>...</td>\n",
       "      <td>...</td>\n",
       "      <td>...</td>\n",
       "    </tr>\n",
       "    <tr>\n",
       "      <th>7943</th>\n",
       "      <td>TRAIN_aug7943</td>\n",
       "      <td>./data/train/TRAIN_2685.mp4</td>\n",
       "      <td>2</td>\n",
       "      <td>Y</td>\n",
       "    </tr>\n",
       "    <tr>\n",
       "      <th>7944</th>\n",
       "      <td>TRAIN_aug7944</td>\n",
       "      <td>./data/train/TRAIN_2685.mp4</td>\n",
       "      <td>2</td>\n",
       "      <td>Y</td>\n",
       "    </tr>\n",
       "    <tr>\n",
       "      <th>7952</th>\n",
       "      <td>TRAIN_aug7952</td>\n",
       "      <td>./data/train/TRAIN_2692.mp4</td>\n",
       "      <td>2</td>\n",
       "      <td>Y</td>\n",
       "    </tr>\n",
       "    <tr>\n",
       "      <th>7953</th>\n",
       "      <td>TRAIN_aug7953</td>\n",
       "      <td>./data/train/TRAIN_2692.mp4</td>\n",
       "      <td>2</td>\n",
       "      <td>Y</td>\n",
       "    </tr>\n",
       "    <tr>\n",
       "      <th>7954</th>\n",
       "      <td>TRAIN_aug7954</td>\n",
       "      <td>./data/train/TRAIN_2692.mp4</td>\n",
       "      <td>2</td>\n",
       "      <td>Y</td>\n",
       "    </tr>\n",
       "  </tbody>\n",
       "</table>\n",
       "<p>5263 rows × 4 columns</p>\n",
       "</div>"
      ],
      "text/plain": [
       "          sample_id                   video_path  crash_ego aug\n",
       "0        TRAIN_0000  ./data/train/TRAIN_0000.mp4          2   N\n",
       "1        TRAIN_0001  ./data/train/TRAIN_0001.mp4          2   N\n",
       "2        TRAIN_0002  ./data/train/TRAIN_0002.mp4          0   N\n",
       "3        TRAIN_0003  ./data/train/TRAIN_0003.mp4          0   N\n",
       "4        TRAIN_0004  ./data/train/TRAIN_0004.mp4          1   N\n",
       "...             ...                          ...        ...  ..\n",
       "7943  TRAIN_aug7943  ./data/train/TRAIN_2685.mp4          2   Y\n",
       "7944  TRAIN_aug7944  ./data/train/TRAIN_2685.mp4          2   Y\n",
       "7952  TRAIN_aug7952  ./data/train/TRAIN_2692.mp4          2   Y\n",
       "7953  TRAIN_aug7953  ./data/train/TRAIN_2692.mp4          2   Y\n",
       "7954  TRAIN_aug7954  ./data/train/TRAIN_2692.mp4          2   Y\n",
       "\n",
       "[5263 rows x 4 columns]"
      ]
     },
     "execution_count": 120,
     "metadata": {},
     "output_type": "execute_result"
    }
   ],
   "source": [
    "# normal 라벨 기준 몇배 차이나는지 확인\n",
    "crash_ego_label_aug_dict = {'Na': 0, 1: 3, 2: 3}\n",
    "\n",
    "for i in tqdm(range(len(df))):\n",
    "    crash_ego_label = crash_ego_df.loc[i, 'crash_ego']\n",
    "    \n",
    "    if (crash_ego_label != 0):\n",
    "        for multi in range(crash_ego_label_aug_dict[crash_ego_label]):\n",
    "            if(len(crash_ego_df[crash_ego_df['crash_ego']==crash_ego_label]) > 1783):\n",
    "                break\n",
    "            else:\n",
    "                idx = len(crash_ego_df)\n",
    "                id = 'TRAIN_aug' + '{0:04d}'.format(idx+i)\n",
    "                vid_path = crash_ego_df.loc[i, 'video_path']\n",
    "                is_aug = 'Y'\n",
    "                crash_ego_df.loc[idx+i] = [id, vid_path, crash_ego_label, is_aug]     \n",
    "        \n",
    "crash_ego_df"
   ]
  },
  {
   "cell_type": "code",
   "execution_count": 122,
   "id": "76de6cbe",
   "metadata": {
    "ExecuteTime": {
     "end_time": "2023-03-07T01:23:53.206367Z",
     "start_time": "2023-03-07T01:23:53.188011Z"
    }
   },
   "outputs": [
    {
     "data": {
      "text/plain": [
       "1    1784\n",
       "0    1783\n",
       "2    1696\n",
       "Name: crash_ego, dtype: int64"
      ]
     },
     "execution_count": 122,
     "metadata": {},
     "output_type": "execute_result"
    }
   ],
   "source": [
    "crash_ego_df['crash_ego'].value_counts()"
   ]
  },
  {
   "cell_type": "code",
   "execution_count": 126,
   "id": "fc9140d7",
   "metadata": {
    "ExecuteTime": {
     "end_time": "2023-03-07T01:25:01.148485Z",
     "start_time": "2023-03-07T01:25:01.114583Z"
    }
   },
   "outputs": [],
   "source": [
    "crash_ego_df.to_csv('./data/train_crash_ego_aug.csv', index=False)"
   ]
  },
  {
   "cell_type": "code",
   "execution_count": null,
   "id": "65dd21f6",
   "metadata": {},
   "outputs": [],
   "source": []
  },
  {
   "cell_type": "code",
   "execution_count": null,
   "id": "11ee57b2",
   "metadata": {},
   "outputs": [],
   "source": []
  }
 ],
 "metadata": {
  "kernelspec": {
   "display_name": "gs",
   "language": "python",
   "name": "gs"
  },
  "language_info": {
   "codemirror_mode": {
    "name": "ipython",
    "version": 3
   },
   "file_extension": ".py",
   "mimetype": "text/x-python",
   "name": "python",
   "nbconvert_exporter": "python",
   "pygments_lexer": "ipython3",
   "version": "3.8.16"
  },
  "toc": {
   "base_numbering": 1,
   "nav_menu": {},
   "number_sections": true,
   "sideBar": true,
   "skip_h1_title": false,
   "title_cell": "Table of Contents",
   "title_sidebar": "Contents",
   "toc_cell": false,
   "toc_position": {},
   "toc_section_display": true,
   "toc_window_display": false
  }
 },
 "nbformat": 4,
 "nbformat_minor": 5
}
