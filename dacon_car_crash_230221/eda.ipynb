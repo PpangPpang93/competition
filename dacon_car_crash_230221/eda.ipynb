{
 "cells": [
  {
   "cell_type": "code",
   "execution_count": 15,
   "metadata": {},
   "outputs": [],
   "source": [
    "import os \n",
    "import cv2\n",
    "import pandas as pd\n",
    "import seaborn as sns\n",
    "import matplotlib.pyplot as plt"
   ]
  },
  {
   "cell_type": "code",
   "execution_count": 4,
   "metadata": {},
   "outputs": [],
   "source": [
    "path = '/Users/ppangppang/Documents/dev/dacon/car_crash/data/'"
   ]
  },
  {
   "attachments": {},
   "cell_type": "markdown",
   "metadata": {},
   "source": [
    "### train data 분포\n",
    "- 라벨 비율"
   ]
  },
  {
   "cell_type": "code",
   "execution_count": 24,
   "metadata": {},
   "outputs": [],
   "source": [
    "trn_df = pd.read_csv(path + 'train.csv')"
   ]
  },
  {
   "cell_type": "code",
   "execution_count": 26,
   "metadata": {},
   "outputs": [
    {
     "name": "stderr",
     "output_type": "stream",
     "text": [
      "/Users/ppangppang/opt/anaconda3/lib/python3.9/site-packages/seaborn/_decorators.py:36: FutureWarning: Pass the following variable as a keyword arg: x. From version 0.12, the only valid positional argument will be `data`, and passing other arguments without an explicit keyword will result in an error or misinterpretation.\n",
      "  warnings.warn(\n"
     ]
    },
    {
     "data": {
      "image/png": "[encoded data removed]",
      "text/plain": [
       "<Figure size 640x480 with 1 Axes>"
      ]
     },
     "metadata": {},
     "output_type": "display_data"
    }
   ],
   "source": [
    "ax = sns.countplot(trn_df['label'])\n",
    "\n",
    "for p in ax.patches:\n",
    "    height = p.get_height()\n",
    "    ax.text(p.get_x() + p.get_width() / 2., height + 3, height, ha = 'center', size = 7)\n",
    "plt.show()"
   ]
  },
  {
   "attachments": {},
   "cell_type": "markdown",
   "metadata": {},
   "source": [
    "### 영상 분석\n",
    "- 영상 크기 / 길이\n",
    "- 프레임 크기 / 길이"
   ]
  },
  {
   "cell_type": "code",
   "execution_count": 19,
   "metadata": {},
   "outputs": [],
   "source": [
    "import cv2"
   ]
  },
  {
   "cell_type": "code",
   "execution_count": 30,
   "metadata": {},
   "outputs": [],
   "source": [
    "vids = os.listdir(path + 'train/')"
   ]
  },
  {
   "cell_type": "code",
   "execution_count": 33,
   "metadata": {},
   "outputs": [],
   "source": [
    "def get_vids_info(path, vid):\n",
    "    cap = cv2.VideoCapture(path + vid) # 동영상 캡쳐 객체 생성\n",
    "\n",
    "    #불러온 비디오 파일의 정보 출력\n",
    "    vid_len = int(cap.get(cv2.CAP_PROP_FRAME_COUNT)) # 영상길이\n",
    "    vid_w = int(cap.get(cv2.CAP_PROP_FRAME_WIDTH))  # 영상 w\n",
    "    vid_h = int(cap.get(cv2.CAP_PROP_FRAME_HEIGHT))# 영상 h\n",
    "    fps = cap.get(cv2.CAP_PROP_FPS)   # 영상 fps\n",
    "\n",
    "    return vid_len, vid_w, vid_h, fps"
   ]
  },
  {
   "cell_type": "code",
   "execution_count": 34,
   "metadata": {},
   "outputs": [],
   "source": [
    "vid_len, vid_w, vid_h, fps, frame_cnt = [],[],[],[],[]\n",
    "\n",
    "for v in vids:\n",
    "    vid_len_v, vid_w_v, vid_h_v, fps_v = get_vids_info(path+'train/', v)\n",
    "    vid_len.append(vid_len_v)\n",
    "    vid_w.append(vid_w_v)\n",
    "    vid_h.append(vid_h_v)\n",
    "    fps.append(fps_v)"
   ]
  },
  {
   "cell_type": "code",
   "execution_count": 43,
   "metadata": {},
   "outputs": [],
   "source": [
    "trn_df['frames'] = vid_len\n",
    "trn_df['width'] = vid_w_v\n",
    "trn_df['height'] = vid_h_v\n",
    "trn_df['fps'] = fps_v"
   ]
  },
  {
   "cell_type": "code",
   "execution_count": 44,
   "metadata": {},
   "outputs": [
    {
     "data": {
      "text/html": [
       "<div>\n",
       "<style scoped>\n",
       "    .dataframe tbody tr th:only-of-type {\n",
       "        vertical-align: middle;\n",
       "    }\n",
       "\n",
       "    .dataframe tbody tr th {\n",
       "        vertical-align: top;\n",
       "    }\n",
       "\n",
       "    .dataframe thead th {\n",
       "        text-align: right;\n",
       "    }\n",
       "</style>\n",
       "<table border=\"1\" class=\"dataframe\">\n",
       "  <thead>\n",
       "    <tr style=\"text-align: right;\">\n",
       "      <th></th>\n",
       "      <th>sample_id</th>\n",
       "      <th>video_path</th>\n",
       "      <th>label</th>\n",
       "      <th>frames</th>\n",
       "      <th>width</th>\n",
       "      <th>height</th>\n",
       "      <th>fps</th>\n",
       "    </tr>\n",
       "  </thead>\n",
       "  <tbody>\n",
       "    <tr>\n",
       "      <th>0</th>\n",
       "      <td>TRAIN_0000</td>\n",
       "      <td>./train/TRAIN_0000.mp4</td>\n",
       "      <td>7</td>\n",
       "      <td>50</td>\n",
       "      <td>1280</td>\n",
       "      <td>720</td>\n",
       "      <td>10.0</td>\n",
       "    </tr>\n",
       "    <tr>\n",
       "      <th>1</th>\n",
       "      <td>TRAIN_0001</td>\n",
       "      <td>./train/TRAIN_0001.mp4</td>\n",
       "      <td>7</td>\n",
       "      <td>50</td>\n",
       "      <td>1280</td>\n",
       "      <td>720</td>\n",
       "      <td>10.0</td>\n",
       "    </tr>\n",
       "    <tr>\n",
       "      <th>2</th>\n",
       "      <td>TRAIN_0002</td>\n",
       "      <td>./train/TRAIN_0002.mp4</td>\n",
       "      <td>0</td>\n",
       "      <td>50</td>\n",
       "      <td>1280</td>\n",
       "      <td>720</td>\n",
       "      <td>10.0</td>\n",
       "    </tr>\n",
       "    <tr>\n",
       "      <th>3</th>\n",
       "      <td>TRAIN_0003</td>\n",
       "      <td>./train/TRAIN_0003.mp4</td>\n",
       "      <td>0</td>\n",
       "      <td>50</td>\n",
       "      <td>1280</td>\n",
       "      <td>720</td>\n",
       "      <td>10.0</td>\n",
       "    </tr>\n",
       "    <tr>\n",
       "      <th>4</th>\n",
       "      <td>TRAIN_0004</td>\n",
       "      <td>./train/TRAIN_0004.mp4</td>\n",
       "      <td>1</td>\n",
       "      <td>50</td>\n",
       "      <td>1280</td>\n",
       "      <td>720</td>\n",
       "      <td>10.0</td>\n",
       "    </tr>\n",
       "    <tr>\n",
       "      <th>...</th>\n",
       "      <td>...</td>\n",
       "      <td>...</td>\n",
       "      <td>...</td>\n",
       "      <td>...</td>\n",
       "      <td>...</td>\n",
       "      <td>...</td>\n",
       "      <td>...</td>\n",
       "    </tr>\n",
       "    <tr>\n",
       "      <th>2693</th>\n",
       "      <td>TRAIN_2693</td>\n",
       "      <td>./train/TRAIN_2693.mp4</td>\n",
       "      <td>3</td>\n",
       "      <td>50</td>\n",
       "      <td>1280</td>\n",
       "      <td>720</td>\n",
       "      <td>10.0</td>\n",
       "    </tr>\n",
       "    <tr>\n",
       "      <th>2694</th>\n",
       "      <td>TRAIN_2694</td>\n",
       "      <td>./train/TRAIN_2694.mp4</td>\n",
       "      <td>5</td>\n",
       "      <td>50</td>\n",
       "      <td>1280</td>\n",
       "      <td>720</td>\n",
       "      <td>10.0</td>\n",
       "    </tr>\n",
       "    <tr>\n",
       "      <th>2695</th>\n",
       "      <td>TRAIN_2695</td>\n",
       "      <td>./train/TRAIN_2695.mp4</td>\n",
       "      <td>0</td>\n",
       "      <td>50</td>\n",
       "      <td>1280</td>\n",
       "      <td>720</td>\n",
       "      <td>10.0</td>\n",
       "    </tr>\n",
       "    <tr>\n",
       "      <th>2696</th>\n",
       "      <td>TRAIN_2696</td>\n",
       "      <td>./train/TRAIN_2696.mp4</td>\n",
       "      <td>0</td>\n",
       "      <td>50</td>\n",
       "      <td>1280</td>\n",
       "      <td>720</td>\n",
       "      <td>10.0</td>\n",
       "    </tr>\n",
       "    <tr>\n",
       "      <th>2697</th>\n",
       "      <td>TRAIN_2697</td>\n",
       "      <td>./train/TRAIN_2697.mp4</td>\n",
       "      <td>0</td>\n",
       "      <td>50</td>\n",
       "      <td>1280</td>\n",
       "      <td>720</td>\n",
       "      <td>10.0</td>\n",
       "    </tr>\n",
       "  </tbody>\n",
       "</table>\n",
       "<p>2698 rows × 7 columns</p>\n",
       "</div>"
      ],
      "text/plain": [
       "       sample_id              video_path  label  frames  width  height   fps\n",
       "0     TRAIN_0000  ./train/TRAIN_0000.mp4      7      50   1280     720  10.0\n",
       "1     TRAIN_0001  ./train/TRAIN_0001.mp4      7      50   1280     720  10.0\n",
       "2     TRAIN_0002  ./train/TRAIN_0002.mp4      0      50   1280     720  10.0\n",
       "3     TRAIN_0003  ./train/TRAIN_0003.mp4      0      50   1280     720  10.0\n",
       "4     TRAIN_0004  ./train/TRAIN_0004.mp4      1      50   1280     720  10.0\n",
       "...          ...                     ...    ...     ...    ...     ...   ...\n",
       "2693  TRAIN_2693  ./train/TRAIN_2693.mp4      3      50   1280     720  10.0\n",
       "2694  TRAIN_2694  ./train/TRAIN_2694.mp4      5      50   1280     720  10.0\n",
       "2695  TRAIN_2695  ./train/TRAIN_2695.mp4      0      50   1280     720  10.0\n",
       "2696  TRAIN_2696  ./train/TRAIN_2696.mp4      0      50   1280     720  10.0\n",
       "2697  TRAIN_2697  ./train/TRAIN_2697.mp4      0      50   1280     720  10.0\n",
       "\n",
       "[2698 rows x 7 columns]"
      ]
     },
     "execution_count": 44,
     "metadata": {},
     "output_type": "execute_result"
    }
   ],
   "source": [
    "trn_df"
   ]
  },
  {
   "cell_type": "code",
   "execution_count": 52,
   "metadata": {},
   "outputs": [
    {
     "name": "stderr",
     "output_type": "stream",
     "text": [
      "/Users/ppangppang/opt/anaconda3/lib/python3.9/site-packages/seaborn/_decorators.py:36: FutureWarning: Pass the following variable as a keyword arg: x. From version 0.12, the only valid positional argument will be `data`, and passing other arguments without an explicit keyword will result in an error or misinterpretation.\n",
      "  warnings.warn(\n",
      "/Users/ppangppang/opt/anaconda3/lib/python3.9/site-packages/seaborn/_decorators.py:36: FutureWarning: Pass the following variable as a keyword arg: x. From version 0.12, the only valid positional argument will be `data`, and passing other arguments without an explicit keyword will result in an error or misinterpretation.\n",
      "  warnings.warn(\n",
      "/Users/ppangppang/opt/anaconda3/lib/python3.9/site-packages/seaborn/_decorators.py:36: FutureWarning: Pass the following variable as a keyword arg: x. From version 0.12, the only valid positional argument will be `data`, and passing other arguments without an explicit keyword will result in an error or misinterpretation.\n",
      "  warnings.warn(\n",
      "/Users/ppangppang/opt/anaconda3/lib/python3.9/site-packages/seaborn/_decorators.py:36: FutureWarning: Pass the following variable as a keyword arg: x. From version 0.12, the only valid positional argument will be `data`, and passing other arguments without an explicit keyword will result in an error or misinterpretation.\n",
      "  warnings.warn(\n"
     ]
    },
    {
     "data": {
      "image/png": "[encoded data removed]",
      "text/plain": [
       "<Figure size 640x480 with 4 Axes>"
      ]
     },
     "metadata": {},
     "output_type": "display_data"
    }
   ],
   "source": [
    "fig, ax = plt.subplots(ncols=4)\n",
    "sns.countplot(trn_df['frames'], ax=ax[0])\n",
    "sns.countplot(trn_df['width'], ax=ax[1])\n",
    "sns.countplot(trn_df['height'], ax=ax[2])\n",
    "sns.countplot(trn_df['fps'], ax=ax[3])\n",
    "plt.show()"
   ]
  },
  {
   "attachments": {},
   "cell_type": "markdown",
   "metadata": {},
   "source": [
    "- 영상 10프레임, 크기, 영상길이 동일"
   ]
  },
  {
   "cell_type": "code",
   "execution_count": null,
   "metadata": {},
   "outputs": [],
   "source": []
  }
 ],
 "metadata": {
  "kernelspec": {
   "display_name": "base",
   "language": "python",
   "name": "python3"
  },
  "language_info": {
   "codemirror_mode": {
    "name": "ipython",
    "version": 3
   },
   "file_extension": ".py",
   "mimetype": "text/x-python",
   "name": "python",
   "nbconvert_exporter": "python",
   "pygments_lexer": "ipython3",
   "version": "3.9.15"
  },
  "orig_nbformat": 4,
  "vscode": {
   "interpreter": {
    "hash": "df9a0fe38763b2a4d08ac7a9030bc5d01bf1005b3255eaebfe74fccdb934e404"
   }
  }
 },
 "nbformat": 4,
 "nbformat_minor": 2
}
