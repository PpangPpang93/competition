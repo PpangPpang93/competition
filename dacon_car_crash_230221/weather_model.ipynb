{
 "cells": [
  {
   "attachments": {},
   "cell_type": "markdown",
   "id": "b1135652",
   "metadata": {},
   "source": [
    "# weather model\n",
    "- 0 : 정상\n",
    "- 1 : 눈\n",
    "- 2 : 비"
   ]
  },
  {
   "cell_type": "code",
   "execution_count": 1,
   "id": "7af821ac",
   "metadata": {
    "ExecuteTime": {
     "end_time": "2023-03-07T02:25:28.918770Z",
     "start_time": "2023-03-07T02:25:28.908930Z"
    }
   },
   "outputs": [
    {
     "name": "stderr",
     "output_type": "stream",
     "text": [
      "/data/home/ubuntu/anaconda3/envs/pytorch_p39/lib/python3.9/site-packages/tqdm/auto.py:21: TqdmWarning: IProgress not found. Please update jupyter and ipywidgets. See https://ipywidgets.readthedocs.io/en/stable/user_install.html\n",
      "  from .autonotebook import tqdm as notebook_tqdm\n"
     ]
    }
   ],
   "source": [
    "import random\n",
    "import pandas as pd\n",
    "import numpy as np\n",
    "import os\n",
    "import cv2\n",
    "\n",
    "import torch\n",
    "import torch.nn as nn\n",
    "import torch.optim as optim\n",
    "import torch.nn.functional as F\n",
    "from torch.utils.data import Dataset, DataLoader\n",
    "\n",
    "import albumentations as A\n",
    "from albumentations.pytorch.transforms import ToTensorV2\n",
    "import torchvision.models as models\n",
    "\n",
    "from tqdm.auto import tqdm\n",
    "from sklearn.model_selection import train_test_split\n",
    "from sklearn.metrics import f1_score\n",
    "\n",
    "import warnings\n",
    "warnings.filterwarnings(action='ignore') "
   ]
  },
  {
   "cell_type": "code",
   "execution_count": 2,
   "id": "7db782f2",
   "metadata": {},
   "outputs": [],
   "source": [
    "CFG = {\n",
    "    'VIDEO_LENGTH':50, # 10프레임 * 5초\n",
    "    'HEIGHT':224,\n",
    "    'WIDTH':224,\n",
    "    'EPOCHS':2,\n",
    "    'LEARNING_RATE':1e-3,\n",
    "    'BATCH_SIZE':16,\n",
    "    'SEED':41\n",
    "}\n"
   ]
  },
  {
   "cell_type": "code",
   "execution_count": 15,
   "id": "ecd33cd7",
   "metadata": {},
   "outputs": [
    {
     "data": {
      "text/html": [
       "<div>\n",
       "<style scoped>\n",
       "    .dataframe tbody tr th:only-of-type {\n",
       "        vertical-align: middle;\n",
       "    }\n",
       "\n",
       "    .dataframe tbody tr th {\n",
       "        vertical-align: top;\n",
       "    }\n",
       "\n",
       "    .dataframe thead th {\n",
       "        text-align: right;\n",
       "    }\n",
       "</style>\n",
       "<table border=\"1\" class=\"dataframe\">\n",
       "  <thead>\n",
       "    <tr style=\"text-align: right;\">\n",
       "      <th></th>\n",
       "      <th>sample_id</th>\n",
       "      <th>video_path</th>\n",
       "      <th>label</th>\n",
       "      <th>crash_ego</th>\n",
       "      <th>weather</th>\n",
       "      <th>timing</th>\n",
       "    </tr>\n",
       "  </thead>\n",
       "  <tbody>\n",
       "    <tr>\n",
       "      <th>0</th>\n",
       "      <td>TRAIN_0000</td>\n",
       "      <td>./train/TRAIN_0000.mp4</td>\n",
       "      <td>7</td>\n",
       "      <td>2</td>\n",
       "      <td>0</td>\n",
       "      <td>0</td>\n",
       "    </tr>\n",
       "    <tr>\n",
       "      <th>1</th>\n",
       "      <td>TRAIN_0001</td>\n",
       "      <td>./train/TRAIN_0001.mp4</td>\n",
       "      <td>7</td>\n",
       "      <td>2</td>\n",
       "      <td>0</td>\n",
       "      <td>0</td>\n",
       "    </tr>\n",
       "    <tr>\n",
       "      <th>2</th>\n",
       "      <td>TRAIN_0002</td>\n",
       "      <td>./train/TRAIN_0002.mp4</td>\n",
       "      <td>0</td>\n",
       "      <td>0</td>\n",
       "      <td>Na</td>\n",
       "      <td>Na</td>\n",
       "    </tr>\n",
       "    <tr>\n",
       "      <th>3</th>\n",
       "      <td>TRAIN_0003</td>\n",
       "      <td>./train/TRAIN_0003.mp4</td>\n",
       "      <td>0</td>\n",
       "      <td>0</td>\n",
       "      <td>Na</td>\n",
       "      <td>Na</td>\n",
       "    </tr>\n",
       "    <tr>\n",
       "      <th>4</th>\n",
       "      <td>TRAIN_0004</td>\n",
       "      <td>./train/TRAIN_0004.mp4</td>\n",
       "      <td>1</td>\n",
       "      <td>1</td>\n",
       "      <td>0</td>\n",
       "      <td>0</td>\n",
       "    </tr>\n",
       "    <tr>\n",
       "      <th>...</th>\n",
       "      <td>...</td>\n",
       "      <td>...</td>\n",
       "      <td>...</td>\n",
       "      <td>...</td>\n",
       "      <td>...</td>\n",
       "      <td>...</td>\n",
       "    </tr>\n",
       "    <tr>\n",
       "      <th>2693</th>\n",
       "      <td>TRAIN_2693</td>\n",
       "      <td>./train/TRAIN_2693.mp4</td>\n",
       "      <td>3</td>\n",
       "      <td>1</td>\n",
       "      <td>1</td>\n",
       "      <td>0</td>\n",
       "    </tr>\n",
       "    <tr>\n",
       "      <th>2694</th>\n",
       "      <td>TRAIN_2694</td>\n",
       "      <td>./train/TRAIN_2694.mp4</td>\n",
       "      <td>5</td>\n",
       "      <td>1</td>\n",
       "      <td>2</td>\n",
       "      <td>0</td>\n",
       "    </tr>\n",
       "    <tr>\n",
       "      <th>2695</th>\n",
       "      <td>TRAIN_2695</td>\n",
       "      <td>./train/TRAIN_2695.mp4</td>\n",
       "      <td>0</td>\n",
       "      <td>0</td>\n",
       "      <td>Na</td>\n",
       "      <td>Na</td>\n",
       "    </tr>\n",
       "    <tr>\n",
       "      <th>2696</th>\n",
       "      <td>TRAIN_2696</td>\n",
       "      <td>./train/TRAIN_2696.mp4</td>\n",
       "      <td>0</td>\n",
       "      <td>0</td>\n",
       "      <td>Na</td>\n",
       "      <td>Na</td>\n",
       "    </tr>\n",
       "    <tr>\n",
       "      <th>2697</th>\n",
       "      <td>TRAIN_2697</td>\n",
       "      <td>./train/TRAIN_2697.mp4</td>\n",
       "      <td>0</td>\n",
       "      <td>0</td>\n",
       "      <td>Na</td>\n",
       "      <td>Na</td>\n",
       "    </tr>\n",
       "  </tbody>\n",
       "</table>\n",
       "<p>2698 rows × 6 columns</p>\n",
       "</div>"
      ],
      "text/plain": [
       "       sample_id              video_path  label  crash_ego weather timing\n",
       "0     TRAIN_0000  ./train/TRAIN_0000.mp4      7          2       0      0\n",
       "1     TRAIN_0001  ./train/TRAIN_0001.mp4      7          2       0      0\n",
       "2     TRAIN_0002  ./train/TRAIN_0002.mp4      0          0      Na     Na\n",
       "3     TRAIN_0003  ./train/TRAIN_0003.mp4      0          0      Na     Na\n",
       "4     TRAIN_0004  ./train/TRAIN_0004.mp4      1          1       0      0\n",
       "...          ...                     ...    ...        ...     ...    ...\n",
       "2693  TRAIN_2693  ./train/TRAIN_2693.mp4      3          1       1      0\n",
       "2694  TRAIN_2694  ./train/TRAIN_2694.mp4      5          1       2      0\n",
       "2695  TRAIN_2695  ./train/TRAIN_2695.mp4      0          0      Na     Na\n",
       "2696  TRAIN_2696  ./train/TRAIN_2696.mp4      0          0      Na     Na\n",
       "2697  TRAIN_2697  ./train/TRAIN_2697.mp4      0          0      Na     Na\n",
       "\n",
       "[2698 rows x 6 columns]"
      ]
     },
     "execution_count": 15,
     "metadata": {},
     "output_type": "execute_result"
    }
   ],
   "source": [
    "df = pd.read_csv('./data/train_new_label.csv')\n",
    "df"
   ]
  },
  {
   "cell_type": "code",
   "execution_count": 16,
   "id": "100780e5",
   "metadata": {},
   "outputs": [
    {
     "data": {
      "text/html": [
       "<div>\n",
       "<style scoped>\n",
       "    .dataframe tbody tr th:only-of-type {\n",
       "        vertical-align: middle;\n",
       "    }\n",
       "\n",
       "    .dataframe tbody tr th {\n",
       "        vertical-align: top;\n",
       "    }\n",
       "\n",
       "    .dataframe thead th {\n",
       "        text-align: right;\n",
       "    }\n",
       "</style>\n",
       "<table border=\"1\" class=\"dataframe\">\n",
       "  <thead>\n",
       "    <tr style=\"text-align: right;\">\n",
       "      <th></th>\n",
       "      <th>sample_id</th>\n",
       "      <th>video_path</th>\n",
       "      <th>label</th>\n",
       "      <th>crash_ego</th>\n",
       "      <th>weather</th>\n",
       "      <th>timing</th>\n",
       "    </tr>\n",
       "  </thead>\n",
       "  <tbody>\n",
       "    <tr>\n",
       "      <th>0</th>\n",
       "      <td>TRAIN_0000</td>\n",
       "      <td>./train/TRAIN_0000.mp4</td>\n",
       "      <td>7</td>\n",
       "      <td>2</td>\n",
       "      <td>0</td>\n",
       "      <td>0</td>\n",
       "    </tr>\n",
       "    <tr>\n",
       "      <th>1</th>\n",
       "      <td>TRAIN_0001</td>\n",
       "      <td>./train/TRAIN_0001.mp4</td>\n",
       "      <td>7</td>\n",
       "      <td>2</td>\n",
       "      <td>0</td>\n",
       "      <td>0</td>\n",
       "    </tr>\n",
       "    <tr>\n",
       "      <th>2</th>\n",
       "      <td>TRAIN_0004</td>\n",
       "      <td>./train/TRAIN_0004.mp4</td>\n",
       "      <td>1</td>\n",
       "      <td>1</td>\n",
       "      <td>0</td>\n",
       "      <td>0</td>\n",
       "    </tr>\n",
       "    <tr>\n",
       "      <th>3</th>\n",
       "      <td>TRAIN_0006</td>\n",
       "      <td>./train/TRAIN_0006.mp4</td>\n",
       "      <td>3</td>\n",
       "      <td>1</td>\n",
       "      <td>1</td>\n",
       "      <td>0</td>\n",
       "    </tr>\n",
       "    <tr>\n",
       "      <th>4</th>\n",
       "      <td>TRAIN_0007</td>\n",
       "      <td>./train/TRAIN_0007.mp4</td>\n",
       "      <td>7</td>\n",
       "      <td>2</td>\n",
       "      <td>0</td>\n",
       "      <td>0</td>\n",
       "    </tr>\n",
       "    <tr>\n",
       "      <th>...</th>\n",
       "      <td>...</td>\n",
       "      <td>...</td>\n",
       "      <td>...</td>\n",
       "      <td>...</td>\n",
       "      <td>...</td>\n",
       "      <td>...</td>\n",
       "    </tr>\n",
       "    <tr>\n",
       "      <th>910</th>\n",
       "      <td>TRAIN_2685</td>\n",
       "      <td>./train/TRAIN_2685.mp4</td>\n",
       "      <td>8</td>\n",
       "      <td>2</td>\n",
       "      <td>0</td>\n",
       "      <td>1</td>\n",
       "    </tr>\n",
       "    <tr>\n",
       "      <th>911</th>\n",
       "      <td>TRAIN_2689</td>\n",
       "      <td>./train/TRAIN_2689.mp4</td>\n",
       "      <td>1</td>\n",
       "      <td>1</td>\n",
       "      <td>0</td>\n",
       "      <td>0</td>\n",
       "    </tr>\n",
       "    <tr>\n",
       "      <th>912</th>\n",
       "      <td>TRAIN_2692</td>\n",
       "      <td>./train/TRAIN_2692.mp4</td>\n",
       "      <td>7</td>\n",
       "      <td>2</td>\n",
       "      <td>0</td>\n",
       "      <td>0</td>\n",
       "    </tr>\n",
       "    <tr>\n",
       "      <th>913</th>\n",
       "      <td>TRAIN_2693</td>\n",
       "      <td>./train/TRAIN_2693.mp4</td>\n",
       "      <td>3</td>\n",
       "      <td>1</td>\n",
       "      <td>1</td>\n",
       "      <td>0</td>\n",
       "    </tr>\n",
       "    <tr>\n",
       "      <th>914</th>\n",
       "      <td>TRAIN_2694</td>\n",
       "      <td>./train/TRAIN_2694.mp4</td>\n",
       "      <td>5</td>\n",
       "      <td>1</td>\n",
       "      <td>2</td>\n",
       "      <td>0</td>\n",
       "    </tr>\n",
       "  </tbody>\n",
       "</table>\n",
       "<p>915 rows × 6 columns</p>\n",
       "</div>"
      ],
      "text/plain": [
       "      sample_id              video_path  label  crash_ego weather timing\n",
       "0    TRAIN_0000  ./train/TRAIN_0000.mp4      7          2       0      0\n",
       "1    TRAIN_0001  ./train/TRAIN_0001.mp4      7          2       0      0\n",
       "2    TRAIN_0004  ./train/TRAIN_0004.mp4      1          1       0      0\n",
       "3    TRAIN_0006  ./train/TRAIN_0006.mp4      3          1       1      0\n",
       "4    TRAIN_0007  ./train/TRAIN_0007.mp4      7          2       0      0\n",
       "..          ...                     ...    ...        ...     ...    ...\n",
       "910  TRAIN_2685  ./train/TRAIN_2685.mp4      8          2       0      1\n",
       "911  TRAIN_2689  ./train/TRAIN_2689.mp4      1          1       0      0\n",
       "912  TRAIN_2692  ./train/TRAIN_2692.mp4      7          2       0      0\n",
       "913  TRAIN_2693  ./train/TRAIN_2693.mp4      3          1       1      0\n",
       "914  TRAIN_2694  ./train/TRAIN_2694.mp4      5          1       2      0\n",
       "\n",
       "[915 rows x 6 columns]"
      ]
     },
     "execution_count": 16,
     "metadata": {},
     "output_type": "execute_result"
    }
   ],
   "source": [
    "df = df[df['label']!=0].reset_index(drop=True)\n",
    "df"
   ]
  },
  {
   "cell_type": "code",
   "execution_count": 17,
   "id": "1f477258",
   "metadata": {},
   "outputs": [
    {
     "data": {
      "text/html": [
       "<div>\n",
       "<style scoped>\n",
       "    .dataframe tbody tr th:only-of-type {\n",
       "        vertical-align: middle;\n",
       "    }\n",
       "\n",
       "    .dataframe tbody tr th {\n",
       "        vertical-align: top;\n",
       "    }\n",
       "\n",
       "    .dataframe thead th {\n",
       "        text-align: right;\n",
       "    }\n",
       "</style>\n",
       "<table border=\"1\" class=\"dataframe\">\n",
       "  <thead>\n",
       "    <tr style=\"text-align: right;\">\n",
       "      <th></th>\n",
       "      <th>sample_id</th>\n",
       "      <th>video_path</th>\n",
       "      <th>label</th>\n",
       "      <th>crash_ego</th>\n",
       "      <th>weather</th>\n",
       "      <th>timing</th>\n",
       "      <th>new_weather</th>\n",
       "    </tr>\n",
       "  </thead>\n",
       "  <tbody>\n",
       "    <tr>\n",
       "      <th>0</th>\n",
       "      <td>TRAIN_0000</td>\n",
       "      <td>./train/TRAIN_0000.mp4</td>\n",
       "      <td>7</td>\n",
       "      <td>2</td>\n",
       "      <td>0</td>\n",
       "      <td>0</td>\n",
       "      <td>0</td>\n",
       "    </tr>\n",
       "    <tr>\n",
       "      <th>1</th>\n",
       "      <td>TRAIN_0001</td>\n",
       "      <td>./train/TRAIN_0001.mp4</td>\n",
       "      <td>7</td>\n",
       "      <td>2</td>\n",
       "      <td>0</td>\n",
       "      <td>0</td>\n",
       "      <td>0</td>\n",
       "    </tr>\n",
       "    <tr>\n",
       "      <th>2</th>\n",
       "      <td>TRAIN_0004</td>\n",
       "      <td>./train/TRAIN_0004.mp4</td>\n",
       "      <td>1</td>\n",
       "      <td>1</td>\n",
       "      <td>0</td>\n",
       "      <td>0</td>\n",
       "      <td>0</td>\n",
       "    </tr>\n",
       "    <tr>\n",
       "      <th>3</th>\n",
       "      <td>TRAIN_0006</td>\n",
       "      <td>./train/TRAIN_0006.mp4</td>\n",
       "      <td>3</td>\n",
       "      <td>1</td>\n",
       "      <td>1</td>\n",
       "      <td>0</td>\n",
       "      <td>2</td>\n",
       "    </tr>\n",
       "    <tr>\n",
       "      <th>4</th>\n",
       "      <td>TRAIN_0007</td>\n",
       "      <td>./train/TRAIN_0007.mp4</td>\n",
       "      <td>7</td>\n",
       "      <td>2</td>\n",
       "      <td>0</td>\n",
       "      <td>0</td>\n",
       "      <td>0</td>\n",
       "    </tr>\n",
       "    <tr>\n",
       "      <th>...</th>\n",
       "      <td>...</td>\n",
       "      <td>...</td>\n",
       "      <td>...</td>\n",
       "      <td>...</td>\n",
       "      <td>...</td>\n",
       "      <td>...</td>\n",
       "      <td>...</td>\n",
       "    </tr>\n",
       "    <tr>\n",
       "      <th>910</th>\n",
       "      <td>TRAIN_2685</td>\n",
       "      <td>./train/TRAIN_2685.mp4</td>\n",
       "      <td>8</td>\n",
       "      <td>2</td>\n",
       "      <td>0</td>\n",
       "      <td>1</td>\n",
       "      <td>1</td>\n",
       "    </tr>\n",
       "    <tr>\n",
       "      <th>911</th>\n",
       "      <td>TRAIN_2689</td>\n",
       "      <td>./train/TRAIN_2689.mp4</td>\n",
       "      <td>1</td>\n",
       "      <td>1</td>\n",
       "      <td>0</td>\n",
       "      <td>0</td>\n",
       "      <td>0</td>\n",
       "    </tr>\n",
       "    <tr>\n",
       "      <th>912</th>\n",
       "      <td>TRAIN_2692</td>\n",
       "      <td>./train/TRAIN_2692.mp4</td>\n",
       "      <td>7</td>\n",
       "      <td>2</td>\n",
       "      <td>0</td>\n",
       "      <td>0</td>\n",
       "      <td>0</td>\n",
       "    </tr>\n",
       "    <tr>\n",
       "      <th>913</th>\n",
       "      <td>TRAIN_2693</td>\n",
       "      <td>./train/TRAIN_2693.mp4</td>\n",
       "      <td>3</td>\n",
       "      <td>1</td>\n",
       "      <td>1</td>\n",
       "      <td>0</td>\n",
       "      <td>2</td>\n",
       "    </tr>\n",
       "    <tr>\n",
       "      <th>914</th>\n",
       "      <td>TRAIN_2694</td>\n",
       "      <td>./train/TRAIN_2694.mp4</td>\n",
       "      <td>5</td>\n",
       "      <td>1</td>\n",
       "      <td>2</td>\n",
       "      <td>0</td>\n",
       "      <td>4</td>\n",
       "    </tr>\n",
       "  </tbody>\n",
       "</table>\n",
       "<p>915 rows × 7 columns</p>\n",
       "</div>"
      ],
      "text/plain": [
       "      sample_id              video_path  label  crash_ego weather timing  \\\n",
       "0    TRAIN_0000  ./train/TRAIN_0000.mp4      7          2       0      0   \n",
       "1    TRAIN_0001  ./train/TRAIN_0001.mp4      7          2       0      0   \n",
       "2    TRAIN_0004  ./train/TRAIN_0004.mp4      1          1       0      0   \n",
       "3    TRAIN_0006  ./train/TRAIN_0006.mp4      3          1       1      0   \n",
       "4    TRAIN_0007  ./train/TRAIN_0007.mp4      7          2       0      0   \n",
       "..          ...                     ...    ...        ...     ...    ...   \n",
       "910  TRAIN_2685  ./train/TRAIN_2685.mp4      8          2       0      1   \n",
       "911  TRAIN_2689  ./train/TRAIN_2689.mp4      1          1       0      0   \n",
       "912  TRAIN_2692  ./train/TRAIN_2692.mp4      7          2       0      0   \n",
       "913  TRAIN_2693  ./train/TRAIN_2693.mp4      3          1       1      0   \n",
       "914  TRAIN_2694  ./train/TRAIN_2694.mp4      5          1       2      0   \n",
       "\n",
       "    new_weather  \n",
       "0             0  \n",
       "1             0  \n",
       "2             0  \n",
       "3             2  \n",
       "4             0  \n",
       "..          ...  \n",
       "910           1  \n",
       "911           0  \n",
       "912           0  \n",
       "913           2  \n",
       "914           4  \n",
       "\n",
       "[915 rows x 7 columns]"
      ]
     },
     "execution_count": 17,
     "metadata": {},
     "output_type": "execute_result"
    }
   ],
   "source": [
    "df['new_weather'] = ''\n",
    "for i in range(len(df)):\n",
    "    if ((df.loc[i, 'weather'] == '0') & (df.loc[i, 'timing'] == '0')):\n",
    "        df.loc[i, 'new_weather'] = 0\n",
    "        \n",
    "    elif ((df.loc[i, 'weather'] == '0') & (df.loc[i, 'timing'] == '1')):\n",
    "        df.loc[i, 'new_weather'] = 1\n",
    "    \n",
    "    elif ((df.loc[i, 'weather'] == '1') & (df.loc[i, 'timing'] == '0')):\n",
    "        df.loc[i, 'new_weather'] = 2\n",
    "    \n",
    "    elif ((df.loc[i, 'weather'] == '1') & (df.loc[i, 'timing'] == '1')):\n",
    "        df.loc[i, 'new_weather'] = 3\n",
    "        \n",
    "    elif ((df.loc[i, 'weather'] == '2') & (df.loc[i, 'timing'] == '0')):\n",
    "        df.loc[i, 'new_weather'] = 4\n",
    "        \n",
    "    elif ((df.loc[i, 'weather'] == '2') & (df.loc[i, 'timing'] == '1')):\n",
    "        df.loc[i, 'new_weather'] = 5\n",
    "            \n",
    "df "
   ]
  },
  {
   "cell_type": "code",
   "execution_count": 18,
   "id": "eb2fca29",
   "metadata": {},
   "outputs": [
    {
     "data": {
      "text/plain": [
       "0    635\n",
       "2    112\n",
       "1     81\n",
       "4     61\n",
       "3     17\n",
       "5      9\n",
       "Name: new_weather, dtype: int64"
      ]
     },
     "execution_count": 18,
     "metadata": {},
     "output_type": "execute_result"
    }
   ],
   "source": [
    "df.new_weather.value_counts()"
   ]
  },
  {
   "cell_type": "code",
   "execution_count": null,
   "id": "dd0dd6ae",
   "metadata": {},
   "outputs": [],
   "source": [
    "df = df.drop(columns=['label','crash_ego','weather','timing'])\n",
    "df = df.rename(columns={'new_weather' : 'weather'})\n",
    "df"
   ]
  },
  {
   "cell_type": "code",
   "execution_count": 20,
   "id": "727bb051",
   "metadata": {},
   "outputs": [],
   "source": [
    "df.to_csv('./data/train_weather_timing.csv',index=False)"
   ]
  },
  {
   "cell_type": "code",
   "execution_count": 28,
   "id": "2e207b82",
   "metadata": {},
   "outputs": [
    {
     "data": {
      "text/html": [
       "<div>\n",
       "<style scoped>\n",
       "    .dataframe tbody tr th:only-of-type {\n",
       "        vertical-align: middle;\n",
       "    }\n",
       "\n",
       "    .dataframe tbody tr th {\n",
       "        vertical-align: top;\n",
       "    }\n",
       "\n",
       "    .dataframe thead th {\n",
       "        text-align: right;\n",
       "    }\n",
       "</style>\n",
       "<table border=\"1\" class=\"dataframe\">\n",
       "  <thead>\n",
       "    <tr style=\"text-align: right;\">\n",
       "      <th></th>\n",
       "      <th>sample_id</th>\n",
       "      <th>video_path</th>\n",
       "      <th>weather</th>\n",
       "    </tr>\n",
       "  </thead>\n",
       "  <tbody>\n",
       "    <tr>\n",
       "      <th>0</th>\n",
       "      <td>TRAIN_0000</td>\n",
       "      <td>/data/home/ubuntu/workspace/dacon/data/train/T...</td>\n",
       "      <td>0</td>\n",
       "    </tr>\n",
       "    <tr>\n",
       "      <th>1</th>\n",
       "      <td>TRAIN_0001</td>\n",
       "      <td>/data/home/ubuntu/workspace/dacon/data/train/T...</td>\n",
       "      <td>0</td>\n",
       "    </tr>\n",
       "    <tr>\n",
       "      <th>2</th>\n",
       "      <td>TRAIN_0004</td>\n",
       "      <td>/data/home/ubuntu/workspace/dacon/data/train/T...</td>\n",
       "      <td>0</td>\n",
       "    </tr>\n",
       "    <tr>\n",
       "      <th>3</th>\n",
       "      <td>TRAIN_0006</td>\n",
       "      <td>/data/home/ubuntu/workspace/dacon/data/train/T...</td>\n",
       "      <td>2</td>\n",
       "    </tr>\n",
       "    <tr>\n",
       "      <th>4</th>\n",
       "      <td>TRAIN_0007</td>\n",
       "      <td>/data/home/ubuntu/workspace/dacon/data/train/T...</td>\n",
       "      <td>0</td>\n",
       "    </tr>\n",
       "  </tbody>\n",
       "</table>\n",
       "</div>"
      ],
      "text/plain": [
       "    sample_id                                         video_path  weather\n",
       "0  TRAIN_0000  /data/home/ubuntu/workspace/dacon/data/train/T...        0\n",
       "1  TRAIN_0001  /data/home/ubuntu/workspace/dacon/data/train/T...        0\n",
       "2  TRAIN_0004  /data/home/ubuntu/workspace/dacon/data/train/T...        0\n",
       "3  TRAIN_0006  /data/home/ubuntu/workspace/dacon/data/train/T...        2\n",
       "4  TRAIN_0007  /data/home/ubuntu/workspace/dacon/data/train/T...        0"
      ]
     },
     "execution_count": 28,
     "metadata": {},
     "output_type": "execute_result"
    }
   ],
   "source": [
    "df = pd.read_csv('./data/train_weather_timing.csv')\n",
    "df.head()"
   ]
  },
  {
   "cell_type": "code",
   "execution_count": 29,
   "id": "3d94bfca",
   "metadata": {},
   "outputs": [],
   "source": [
    "# 초반 30프레임만 사용\n",
    "# 0- 15프레임마다 1개씩 -> 635*2 = 1270\n",
    "# 1- 2프레임마다 1개씩 -> 81*15 = 1215\n",
    "# 2- 3프레임마다 1개씩 -> 112*10 = 1120\n",
    "# 3- 1프레임마다 1개씩 -> 17*30 = 510\n",
    "# 4- 2프레임마다 1개씩 -> 61*30 = 915\n",
    "# 5- 1프레임마다 1개씩 -> 9*30 = 270"
   ]
  },
  {
   "cell_type": "code",
   "execution_count": 32,
   "id": "ee6c893d",
   "metadata": {},
   "outputs": [],
   "source": [
    "def get_img(path, label=False):\n",
    "    print(path)\n",
    "    print(label)\n",
    "    frames, labels = [], []\n",
    "    cap = cv2.VideoCapture(path)\n",
    "    cnt = 0\n",
    "\n",
    "    if (label=='0'):\n",
    "        divide = 15\n",
    "    elif (label=='1'):\n",
    "        divide = 2\n",
    "    elif (label=='2'):\n",
    "        divide = 3\n",
    "    elif (label=='3'):\n",
    "        divide = 1\n",
    "    elif (label=='4'):\n",
    "        divide = 2\n",
    "    elif (label=='5'):\n",
    "        divide = 1                        \n",
    "        \n",
    "    if (label):\n",
    "        for _ in range(CFG['VIDEO_LENGTH']):\n",
    "            _, img = cap.read()\n",
    "            cnt+=1\n",
    "            if (cnt%divide==0):\n",
    "                img = cv2.resize(img, (CFG['HEIGHT'], CFG['WIDTH']))\n",
    "                img = img / 255.\n",
    "                frames.append(img)\n",
    "                labels.append(int(label))\n",
    "            if (cnt==30):\n",
    "                break\n",
    "        return frames, labels\n",
    "                \n",
    "    else:\n",
    "        for _ in range(CFG['VIDEO_LENGTH']):\n",
    "            _, img = cap.read()\n",
    "            cnt+=1\n",
    "            if (cnt%3==0):\n",
    "                img = cv2.resize(img, (CFG['HEIGHT'], CFG['WIDTH']))\n",
    "                img = img / 255.\n",
    "                frames.append(img)\n",
    "            if (cnt==30):\n",
    "                break\n",
    "        return frames"
   ]
  },
  {
   "cell_type": "code",
   "execution_count": 33,
   "id": "31b1efdc",
   "metadata": {},
   "outputs": [
    {
     "name": "stdout",
     "output_type": "stream",
     "text": [
      "/data/home/ubuntu/workspace/dacon/data/train/TRAIN_0000.mp4\n",
      "0\n"
     ]
    },
    {
     "ename": "ValueError",
     "evalue": "too many values to unpack (expected 2)",
     "output_type": "error",
     "traceback": [
      "\u001b[0;31m---------------------------------------------------------------------------\u001b[0m",
      "\u001b[0;31mValueError\u001b[0m                                Traceback (most recent call last)",
      "Cell \u001b[0;32mIn[33], line 1\u001b[0m\n\u001b[0;32m----> 1\u001b[0m frames, labels \u001b[39m=\u001b[39m get_img(df\u001b[39m.\u001b[39mloc[\u001b[39m0\u001b[39m,\u001b[39m'\u001b[39m\u001b[39mvideo_path\u001b[39m\u001b[39m'\u001b[39m], df\u001b[39m.\u001b[39mloc[\u001b[39m0\u001b[39m,\u001b[39m'\u001b[39m\u001b[39mweather\u001b[39m\u001b[39m'\u001b[39m])\n",
      "\u001b[0;31mValueError\u001b[0m: too many values to unpack (expected 2)"
     ]
    }
   ],
   "source": [
    "frames, labels = get_img(df.loc[0,'video_path'], df.loc[0,'weather'])"
   ]
  },
  {
   "cell_type": "code",
   "execution_count": 35,
   "id": "7143d371",
   "metadata": {},
   "outputs": [
    {
     "name": "stdout",
     "output_type": "stream",
     "text": [
      "<class 'pandas.core.frame.DataFrame'>\n",
      "RangeIndex: 915 entries, 0 to 914\n",
      "Data columns (total 3 columns):\n",
      " #   Column      Non-Null Count  Dtype \n",
      "---  ------      --------------  ----- \n",
      " 0   sample_id   915 non-null    object\n",
      " 1   video_path  915 non-null    object\n",
      " 2   weather     915 non-null    int64 \n",
      "dtypes: int64(1), object(2)\n",
      "memory usage: 21.6+ KB\n"
     ]
    }
   ],
   "source": [
    "df.info()"
   ]
  },
  {
   "cell_type": "code",
   "execution_count": 34,
   "id": "10d7ad94",
   "metadata": {},
   "outputs": [
    {
     "data": {
      "text/plain": [
       "0"
      ]
     },
     "execution_count": 34,
     "metadata": {},
     "output_type": "execute_result"
    }
   ],
   "source": [
    "df.loc[0,'weather']"
   ]
  },
  {
   "cell_type": "code",
   "execution_count": null,
   "id": "8e1b2b33",
   "metadata": {},
   "outputs": [],
   "source": []
  },
  {
   "cell_type": "code",
   "execution_count": 3,
   "id": "6d86f643",
   "metadata": {},
   "outputs": [
    {
     "data": {
      "text/plain": [
       "Na    1783\n",
       "0      716\n",
       "1      129\n",
       "2       70\n",
       "Name: weather, dtype: int64"
      ]
     },
     "execution_count": 3,
     "metadata": {},
     "output_type": "execute_result"
    }
   ],
   "source": [
    "df = pd.read_csv('./data/train_weather.csv')\n",
    "df['weather'].value_counts()"
   ]
  },
  {
   "cell_type": "code",
   "execution_count": null,
   "id": "1436d784",
   "metadata": {},
   "outputs": [],
   "source": [
    "# 0은 10프레임마다 1개씩 -> 716*3 = 2148\n",
    "# 1은 2프레임마다 1개씩 -> 129*15 = 1935\n",
    "# 2는 1프레임마다 1개씩 -> 70*30 = 2100"
   ]
  },
  {
   "cell_type": "code",
   "execution_count": 46,
   "id": "6009b4b3",
   "metadata": {},
   "outputs": [],
   "source": [
    "df = pd.read_csv('./data/train_weather.csv')\n",
    "df = df[df['weather']!='Na'].reset_index(drop=True)\n",
    "# df['snow'] = df['weather'].apply(lambda x: 0 if x!='1' else 1)\n",
    "df['snow'] = ''\n",
    "df['rain'] = ''\n",
    "for i in range(len(df)):\n",
    "    if(df.loc[i, 'weather'] == '0'):\n",
    "       df.loc[i, 'snow'] = 0\n",
    "       df.loc[i, 'rain'] = 0\n",
    "       \n",
    "    elif(df.loc[i, 'weather'] == '1'):\n",
    "        df.loc[i, 'snow'] = 1\n",
    "        df.loc[i, 'rain'] = None\n",
    "        \n",
    "    elif(df.loc[i, 'weather'] == '2'):\n",
    "        df.loc[i, 'snow'] = None\n",
    "        df.loc[i, 'rain'] = 1\n",
    "\n",
    "df_snow = df.drop(columns=['weather', 'rain']).dropna().reset_index(drop=True)\n",
    "df_rain = df.drop(columns=['weather', 'snow']).dropna().reset_index(drop=True)"
   ]
  },
  {
   "cell_type": "code",
   "execution_count": 45,
   "id": "891aa29d",
   "metadata": {},
   "outputs": [
    {
     "data": {
      "text/plain": [
       "0    716\n",
       "1    129\n",
       "Name: snow, dtype: int64"
      ]
     },
     "execution_count": 45,
     "metadata": {},
     "output_type": "execute_result"
    }
   ],
   "source": [
    "df_snow.snow.value_counts()"
   ]
  },
  {
   "cell_type": "code",
   "execution_count": 50,
   "id": "44a1c2fd",
   "metadata": {},
   "outputs": [],
   "source": [
    "df_snow.to_csv('./data/train_weather_snow.csv', index=False)"
   ]
  },
  {
   "cell_type": "code",
   "execution_count": null,
   "id": "327d48ef",
   "metadata": {},
   "outputs": [],
   "source": [
    "# 716 * 5 = 3580 (6프레임마다)\n",
    "# 129 * 30 = 3870"
   ]
  },
  {
   "cell_type": "code",
   "execution_count": 49,
   "id": "978a8067",
   "metadata": {},
   "outputs": [
    {
     "data": {
      "text/plain": [
       "0    716\n",
       "1     70\n",
       "Name: rain, dtype: int64"
      ]
     },
     "execution_count": 49,
     "metadata": {},
     "output_type": "execute_result"
    }
   ],
   "source": [
    "df_rain.rain.value_counts()"
   ]
  },
  {
   "cell_type": "code",
   "execution_count": null,
   "metadata": {},
   "outputs": [],
   "source": [
    "# 716 * 3 = 2148 (10프레임마다)\n",
    "# 70 * 30 = 2100"
   ]
  },
  {
   "cell_type": "code",
   "execution_count": 51,
   "id": "97e1159b",
   "metadata": {},
   "outputs": [],
   "source": [
    "df_rain.to_csv('./data/train_weather_rain.csv', index=False)"
   ]
  },
  {
   "cell_type": "code",
   "execution_count": null,
   "id": "239ee40a",
   "metadata": {},
   "outputs": [],
   "source": []
  },
  {
   "cell_type": "code",
   "execution_count": null,
   "id": "bdb57873",
   "metadata": {},
   "outputs": [],
   "source": []
  },
  {
   "cell_type": "code",
   "execution_count": null,
   "id": "8ed8561e",
   "metadata": {},
   "outputs": [],
   "source": []
  },
  {
   "cell_type": "code",
   "execution_count": 33,
   "metadata": {},
   "outputs": [
    {
     "data": {
      "text/html": [
       "<div>\n",
       "<style scoped>\n",
       "    .dataframe tbody tr th:only-of-type {\n",
       "        vertical-align: middle;\n",
       "    }\n",
       "\n",
       "    .dataframe tbody tr th {\n",
       "        vertical-align: top;\n",
       "    }\n",
       "\n",
       "    .dataframe thead th {\n",
       "        text-align: right;\n",
       "    }\n",
       "</style>\n",
       "<table border=\"1\" class=\"dataframe\">\n",
       "  <thead>\n",
       "    <tr style=\"text-align: right;\">\n",
       "      <th></th>\n",
       "      <th>sample_id</th>\n",
       "      <th>weather</th>\n",
       "      <th>new_weather</th>\n",
       "    </tr>\n",
       "  </thead>\n",
       "  <tbody>\n",
       "    <tr>\n",
       "      <th>0</th>\n",
       "      <td>TEST_0000</td>\n",
       "      <td>0</td>\n",
       "      <td>0</td>\n",
       "    </tr>\n",
       "    <tr>\n",
       "      <th>1</th>\n",
       "      <td>TEST_0001</td>\n",
       "      <td>0</td>\n",
       "      <td>2</td>\n",
       "    </tr>\n",
       "    <tr>\n",
       "      <th>2</th>\n",
       "      <td>TEST_0002</td>\n",
       "      <td>0</td>\n",
       "      <td>0</td>\n",
       "    </tr>\n",
       "    <tr>\n",
       "      <th>3</th>\n",
       "      <td>TEST_0003</td>\n",
       "      <td>0</td>\n",
       "      <td>0</td>\n",
       "    </tr>\n",
       "    <tr>\n",
       "      <th>4</th>\n",
       "      <td>TEST_0004</td>\n",
       "      <td>0</td>\n",
       "      <td>0</td>\n",
       "    </tr>\n",
       "    <tr>\n",
       "      <th>...</th>\n",
       "      <td>...</td>\n",
       "      <td>...</td>\n",
       "      <td>...</td>\n",
       "    </tr>\n",
       "    <tr>\n",
       "      <th>1795</th>\n",
       "      <td>TEST_1795</td>\n",
       "      <td>0</td>\n",
       "      <td>0</td>\n",
       "    </tr>\n",
       "    <tr>\n",
       "      <th>1796</th>\n",
       "      <td>TEST_1796</td>\n",
       "      <td>0</td>\n",
       "      <td>0</td>\n",
       "    </tr>\n",
       "    <tr>\n",
       "      <th>1797</th>\n",
       "      <td>TEST_1797</td>\n",
       "      <td>0</td>\n",
       "      <td>1</td>\n",
       "    </tr>\n",
       "    <tr>\n",
       "      <th>1798</th>\n",
       "      <td>TEST_1798</td>\n",
       "      <td>0</td>\n",
       "      <td>0</td>\n",
       "    </tr>\n",
       "    <tr>\n",
       "      <th>1799</th>\n",
       "      <td>TEST_1799</td>\n",
       "      <td>0</td>\n",
       "      <td>0</td>\n",
       "    </tr>\n",
       "  </tbody>\n",
       "</table>\n",
       "<p>1800 rows × 3 columns</p>\n",
       "</div>"
      ],
      "text/plain": [
       "      sample_id  weather  new_weather\n",
       "0     TEST_0000        0            0\n",
       "1     TEST_0001        0            2\n",
       "2     TEST_0002        0            0\n",
       "3     TEST_0003        0            0\n",
       "4     TEST_0004        0            0\n",
       "...         ...      ...          ...\n",
       "1795  TEST_1795        0            0\n",
       "1796  TEST_1796        0            0\n",
       "1797  TEST_1797        0            1\n",
       "1798  TEST_1798        0            0\n",
       "1799  TEST_1799        0            0\n",
       "\n",
       "[1800 rows x 3 columns]"
      ]
     },
     "execution_count": 33,
     "metadata": {},
     "output_type": "execute_result"
    }
   ],
   "source": [
    "ori = pd.read_csv('./data/test_weather_230309.csv')\n",
    "new = pd.read_csv('./data/test_weather_230310.csv')\n",
    "new.rename(columns={'weather' : 'new_weather'}, inplace=True)\n",
    "compare = ori.merge(new).drop(columns='video_path')\n",
    "compare"
   ]
  },
  {
   "cell_type": "code",
   "execution_count": 36,
   "metadata": {},
   "outputs": [
    {
     "data": {
      "text/plain": [
       "array([0.89608287, 0.52631579, 0.14693878])"
      ]
     },
     "execution_count": 36,
     "metadata": {},
     "output_type": "execute_result"
    }
   ],
   "source": [
    "from sklearn.metrics import f1_score\n",
    "f1_score(compare['weather'], compare['new_weather'], average=None)"
   ]
  },
  {
   "cell_type": "code",
   "execution_count": null,
   "metadata": {},
   "outputs": [],
   "source": []
  },
  {
   "cell_type": "code",
   "execution_count": null,
   "id": "01d8753c",
   "metadata": {},
   "outputs": [],
   "source": []
  },
  {
   "cell_type": "code",
   "execution_count": 12,
   "id": "48f70831",
   "metadata": {},
   "outputs": [],
   "source": [
    "def get_img(path, label=False):\n",
    "    frames, labels = [], []\n",
    "    cap = cv2.VideoCapture(path)\n",
    "    cnt = 0\n",
    "    # normal 라벨 기준 몇배 차이나는지 확인{0: 10, 1: 2, 2: 1}\n",
    "    if (label=='0'):\n",
    "        divide = 10\n",
    "    elif (label=='1'):\n",
    "        divide = 2\n",
    "    elif (label=='2'):\n",
    "        divide = 1\n",
    "        \n",
    "    if (label):\n",
    "        for _ in range(CFG['VIDEO_LENGTH']):\n",
    "            _, img = cap.read()\n",
    "            cnt+=1\n",
    "            if (cnt%divide==0):\n",
    "                img = cv2.resize(img, (CFG['HEIGHT'], CFG['WIDTH']))\n",
    "                img = img / 255.\n",
    "                frames.append(img)\n",
    "                labels.append(int(label))\n",
    "        return frames, labels\n",
    "                \n",
    "    else:\n",
    "        for _ in range(CFG['VIDEO_LENGTH']):\n",
    "            _, img = cap.read()\n",
    "            cnt+=1\n",
    "            if (cnt%5==0):\n",
    "                img = cv2.resize(img, (CFG['HEIGHT'], CFG['WIDTH']))\n",
    "                img = img / 255.\n",
    "                frames.append(img)   \n",
    "        return frames"
   ]
  },
  {
   "cell_type": "code",
   "execution_count": 13,
   "id": "2b18d0d3",
   "metadata": {},
   "outputs": [],
   "source": [
    "class CustomDataset(Dataset):\n",
    "    def __init__(self, frames, labels):\n",
    "        self.frames = frames\n",
    "        self.labels = labels\n",
    "\n",
    "        \n",
    "    def __getitem__(self, index):\n",
    "        frame = self.transform_frame(self.frames[index])\n",
    "        if self.labels is not None:\n",
    "            label = self.labels[index]\n",
    "            return frame, label\n",
    "        else:\n",
    "            return frame\n",
    "        \n",
    "        \n",
    "    def __len__(self):\n",
    "        return len(self.frames)\n",
    "    \n",
    "    def transform_frame(self, frame):\n",
    "        frame = frame / 255.\n",
    "        return torch.FloatTensor(np.array(frame)).permute(2, 0, 1)"
   ]
  },
  {
   "cell_type": "code",
   "execution_count": 14,
   "id": "a8b05c21",
   "metadata": {},
   "outputs": [],
   "source": [
    "def validation(model, criterion, val_loader, device):\n",
    "    model.eval()\n",
    "    val_loss = []\n",
    "    preds, trues = [], []\n",
    "    \n",
    "    with torch.no_grad():\n",
    "        for videos, labels in tqdm(iter(val_loader)):\n",
    "            videos = videos.to(device)\n",
    "            labels = labels.to(device)\n",
    "            \n",
    "            logit = model(videos)\n",
    "            \n",
    "            loss = criterion(logit, labels)\n",
    "            \n",
    "            val_loss.append(loss.item())\n",
    "            \n",
    "            preds += logit.argmax(1).detach().cpu().numpy().tolist()\n",
    "            trues += labels.detach().cpu().numpy().tolist()\n",
    "        \n",
    "        _val_loss = np.mean(val_loss)\n",
    "    \n",
    "    _val_score = f1_score(trues, preds, average='macro')\n",
    "    return _val_loss, _val_score"
   ]
  },
  {
   "cell_type": "code",
   "execution_count": 15,
   "id": "9471eb88",
   "metadata": {},
   "outputs": [],
   "source": [
    "## 모델 저장하는 부분 추가\n",
    "def train(model, optimizer, train_loader, val_loader, scheduler, device):\n",
    "    model.to(device)\n",
    "    criterion = nn.CrossEntropyLoss().to(device)\n",
    "    \n",
    "    best_val_score = 0\n",
    "    best_model = None\n",
    "    \n",
    "    for epoch in range(1, CFG['EPOCHS']+1):\n",
    "        model.train()\n",
    "        train_loss = []\n",
    "        for videos, labels in tqdm(iter(train_loader)):\n",
    "            videos = videos.to(device)\n",
    "            labels = labels.to(device)\n",
    "            \n",
    "            optimizer.zero_grad()\n",
    "            \n",
    "            output = model(videos)\n",
    "            loss = criterion(output, labels)\n",
    "            \n",
    "            loss.backward()\n",
    "            optimizer.step()\n",
    "            \n",
    "            train_loss.append(loss.item())\n",
    "                    \n",
    "        _val_loss, _val_score = validation(model, criterion, val_loader, device)\n",
    "        _train_loss = np.mean(train_loss)\n",
    "        print(f'Epoch [{epoch}], Train Loss : [{_train_loss:.5f}] Val Loss : [{_val_loss:.5f}] Val F1 : [{_val_score:.5f}]')\n",
    "        \n",
    "        torch.save(model.state_dict(), './car_crash_r3d_{0:02d}.ckpt'.format(epoch))\n",
    "        print(f'======== model saved - epoch : ', epoch)\n",
    "\n",
    "        if scheduler is not None:\n",
    "            scheduler.step(_val_score)\n",
    "            \n",
    "        if best_val_score < _val_score:\n",
    "            best_val_score = _val_score\n",
    "            best_model = model\n",
    "    \n",
    "    return best_model"
   ]
  },
  {
   "cell_type": "code",
   "execution_count": 16,
   "id": "7f0c079d",
   "metadata": {},
   "outputs": [],
   "source": [
    "def seed_everything(seed):\n",
    "    random.seed(seed)\n",
    "    os.environ['PYTHONHASHSEED'] = str(seed)\n",
    "    np.random.seed(seed)\n",
    "    torch.manual_seed(seed)\n",
    "    torch.cuda.manual_seed(seed)\n",
    "    torch.backends.cudnn.deterministic = True\n",
    "    torch.backends.cudnn.benchmark = True"
   ]
  },
  {
   "cell_type": "code",
   "execution_count": null,
   "id": "c14857b9",
   "metadata": {},
   "outputs": [],
   "source": []
  },
  {
   "cell_type": "code",
   "execution_count": 17,
   "id": "9184517e",
   "metadata": {},
   "outputs": [],
   "source": [
    "ckp = torch.load('D:/ㅎㅎㄱ/0.Study/dacon_230221/ckp/weather_res101_36.ckpt')"
   ]
  },
  {
   "cell_type": "code",
   "execution_count": 18,
   "id": "1471b19c",
   "metadata": {},
   "outputs": [],
   "source": [
    "model = models.resnet101()\n",
    "\n",
    "num_classes = 3\n",
    "num_ftrs = model.fc.in_features\n",
    "model.fc = nn.Linear(num_ftrs, num_classes)\n",
    "\n",
    "device = torch.device('cuda:0')\n",
    "model.load_state_dict(ckp)\n",
    "model = model.to(device)\n",
    "\n",
    "# test = pd.read_csv('./data/test.csv')"
   ]
  },
  {
   "cell_type": "code",
   "execution_count": 19,
   "id": "7317d2c1",
   "metadata": {},
   "outputs": [],
   "source": [
    "test = pd.read_csv('./data/test.csv')"
   ]
  },
  {
   "cell_type": "code",
   "execution_count": 20,
   "id": "7cf1deb9",
   "metadata": {},
   "outputs": [
    {
     "data": {
      "application/vnd.jupyter.widget-view+json": {
       "model_id": "8567fe1abd5e446fbc962cea1d864bb3",
       "version_major": 2,
       "version_minor": 0
      },
      "text/plain": [
       "  0%|          | 0/1800 [00:00<?, ?it/s]"
      ]
     },
     "metadata": {},
     "output_type": "display_data"
    }
   ],
   "source": [
    "total_frames = []\n",
    "for i in tqdm(range(len(test))):\n",
    "    frames = get_img(test.loc[i,'video_path'], None)\n",
    "    total_frames.extend(frames)"
   ]
  },
  {
   "cell_type": "code",
   "execution_count": 62,
   "id": "1ad3b943",
   "metadata": {},
   "outputs": [],
   "source": [
    "test_dataset = CustomDataset(total_frames, None)\n",
    "test_loader = DataLoader(\n",
    "            test_dataset, \n",
    "            batch_size = CFG['BATCH_SIZE'],\n",
    "            shuffle=False, \n",
    "            num_workers=0\n",
    "            )"
   ]
  },
  {
   "cell_type": "code",
   "execution_count": 66,
   "id": "0af0baab",
   "metadata": {},
   "outputs": [],
   "source": [
    "from scipy.stats import mode\n",
    "def inference(model, test_loader, device):\n",
    "    model.to(device)\n",
    "    model.eval()\n",
    "    img_preds = []\n",
    "    preds = []\n",
    "    with torch.no_grad():\n",
    "        for videos in tqdm(iter(test_loader)):\n",
    "            videos = videos.to(device) \n",
    "            logit = model(videos)\n",
    "            img_preds += logit.argmax(1).detach().cpu().numpy().tolist()\n",
    "    \n",
    "    \n",
    "    for i in range(0, len(img_preds), 10):\n",
    "        preds.append(int(mode(img_preds[i: i+10]).mode))\n",
    "\n",
    "    return preds"
   ]
  },
  {
   "cell_type": "code",
   "execution_count": 67,
   "id": "32cb4c9a",
   "metadata": {},
   "outputs": [
    {
     "data": {
      "application/vnd.jupyter.widget-view+json": {
       "model_id": "8f8a956d0e124ac7a599125a8a7c1fd1",
       "version_major": 2,
       "version_minor": 0
      },
      "text/plain": [
       "  0%|          | 0/1125 [00:00<?, ?it/s]"
      ]
     },
     "metadata": {},
     "output_type": "display_data"
    }
   ],
   "source": [
    "device = torch.device('cuda') if torch.cuda.is_available() else torch.device('cpu')\n",
    "preds = inference(model, test_loader, device)\n",
    "test['weather'] = preds\n",
    "test.to_csv('./data/test_weather.csv', index=False)"
   ]
  },
  {
   "cell_type": "code",
   "execution_count": 69,
   "id": "7c3254ea",
   "metadata": {},
   "outputs": [
    {
     "data": {
      "text/html": [
       "<div>\n",
       "<style scoped>\n",
       "    .dataframe tbody tr th:only-of-type {\n",
       "        vertical-align: middle;\n",
       "    }\n",
       "\n",
       "    .dataframe tbody tr th {\n",
       "        vertical-align: top;\n",
       "    }\n",
       "\n",
       "    .dataframe thead th {\n",
       "        text-align: right;\n",
       "    }\n",
       "</style>\n",
       "<table border=\"1\" class=\"dataframe\">\n",
       "  <thead>\n",
       "    <tr style=\"text-align: right;\">\n",
       "      <th></th>\n",
       "      <th>sample_id</th>\n",
       "      <th>video_path</th>\n",
       "      <th>weather</th>\n",
       "    </tr>\n",
       "  </thead>\n",
       "  <tbody>\n",
       "    <tr>\n",
       "      <th>0</th>\n",
       "      <td>TEST_0000</td>\n",
       "      <td>D:/ㅎㅎㄱ/0.Study/dacon_230221/test/TEST_0000.mp4</td>\n",
       "      <td>0</td>\n",
       "    </tr>\n",
       "    <tr>\n",
       "      <th>1</th>\n",
       "      <td>TEST_0001</td>\n",
       "      <td>D:/ㅎㅎㄱ/0.Study/dacon_230221/test/TEST_0001.mp4</td>\n",
       "      <td>0</td>\n",
       "    </tr>\n",
       "    <tr>\n",
       "      <th>2</th>\n",
       "      <td>TEST_0002</td>\n",
       "      <td>D:/ㅎㅎㄱ/0.Study/dacon_230221/test/TEST_0002.mp4</td>\n",
       "      <td>0</td>\n",
       "    </tr>\n",
       "    <tr>\n",
       "      <th>3</th>\n",
       "      <td>TEST_0003</td>\n",
       "      <td>D:/ㅎㅎㄱ/0.Study/dacon_230221/test/TEST_0003.mp4</td>\n",
       "      <td>0</td>\n",
       "    </tr>\n",
       "    <tr>\n",
       "      <th>4</th>\n",
       "      <td>TEST_0004</td>\n",
       "      <td>D:/ㅎㅎㄱ/0.Study/dacon_230221/test/TEST_0004.mp4</td>\n",
       "      <td>0</td>\n",
       "    </tr>\n",
       "    <tr>\n",
       "      <th>...</th>\n",
       "      <td>...</td>\n",
       "      <td>...</td>\n",
       "      <td>...</td>\n",
       "    </tr>\n",
       "    <tr>\n",
       "      <th>1795</th>\n",
       "      <td>TEST_1795</td>\n",
       "      <td>D:/ㅎㅎㄱ/0.Study/dacon_230221/test/TEST_1795.mp4</td>\n",
       "      <td>0</td>\n",
       "    </tr>\n",
       "    <tr>\n",
       "      <th>1796</th>\n",
       "      <td>TEST_1796</td>\n",
       "      <td>D:/ㅎㅎㄱ/0.Study/dacon_230221/test/TEST_1796.mp4</td>\n",
       "      <td>0</td>\n",
       "    </tr>\n",
       "    <tr>\n",
       "      <th>1797</th>\n",
       "      <td>TEST_1797</td>\n",
       "      <td>D:/ㅎㅎㄱ/0.Study/dacon_230221/test/TEST_1797.mp4</td>\n",
       "      <td>0</td>\n",
       "    </tr>\n",
       "    <tr>\n",
       "      <th>1798</th>\n",
       "      <td>TEST_1798</td>\n",
       "      <td>D:/ㅎㅎㄱ/0.Study/dacon_230221/test/TEST_1798.mp4</td>\n",
       "      <td>0</td>\n",
       "    </tr>\n",
       "    <tr>\n",
       "      <th>1799</th>\n",
       "      <td>TEST_1799</td>\n",
       "      <td>D:/ㅎㅎㄱ/0.Study/dacon_230221/test/TEST_1799.mp4</td>\n",
       "      <td>0</td>\n",
       "    </tr>\n",
       "  </tbody>\n",
       "</table>\n",
       "<p>1800 rows × 3 columns</p>\n",
       "</div>"
      ],
      "text/plain": [
       "      sample_id                                      video_path  weather\n",
       "0     TEST_0000  D:/ㅎㅎㄱ/0.Study/dacon_230221/test/TEST_0000.mp4        0\n",
       "1     TEST_0001  D:/ㅎㅎㄱ/0.Study/dacon_230221/test/TEST_0001.mp4        0\n",
       "2     TEST_0002  D:/ㅎㅎㄱ/0.Study/dacon_230221/test/TEST_0002.mp4        0\n",
       "3     TEST_0003  D:/ㅎㅎㄱ/0.Study/dacon_230221/test/TEST_0003.mp4        0\n",
       "4     TEST_0004  D:/ㅎㅎㄱ/0.Study/dacon_230221/test/TEST_0004.mp4        0\n",
       "...         ...                                             ...      ...\n",
       "1795  TEST_1795  D:/ㅎㅎㄱ/0.Study/dacon_230221/test/TEST_1795.mp4        0\n",
       "1796  TEST_1796  D:/ㅎㅎㄱ/0.Study/dacon_230221/test/TEST_1796.mp4        0\n",
       "1797  TEST_1797  D:/ㅎㅎㄱ/0.Study/dacon_230221/test/TEST_1797.mp4        0\n",
       "1798  TEST_1798  D:/ㅎㅎㄱ/0.Study/dacon_230221/test/TEST_1798.mp4        0\n",
       "1799  TEST_1799  D:/ㅎㅎㄱ/0.Study/dacon_230221/test/TEST_1799.mp4        0\n",
       "\n",
       "[1800 rows x 3 columns]"
      ]
     },
     "execution_count": 69,
     "metadata": {},
     "output_type": "execute_result"
    }
   ],
   "source": [
    "test"
   ]
  },
  {
   "cell_type": "code",
   "execution_count": null,
   "id": "dd562430",
   "metadata": {},
   "outputs": [],
   "source": []
  },
  {
   "cell_type": "code",
   "execution_count": null,
   "id": "320b8196",
   "metadata": {},
   "outputs": [],
   "source": []
  },
  {
   "cell_type": "code",
   "execution_count": 11,
   "id": "d1754fb5",
   "metadata": {},
   "outputs": [
    {
     "data": {
      "text/html": [
       "<div>\n",
       "<style scoped>\n",
       "    .dataframe tbody tr th:only-of-type {\n",
       "        vertical-align: middle;\n",
       "    }\n",
       "\n",
       "    .dataframe tbody tr th {\n",
       "        vertical-align: top;\n",
       "    }\n",
       "\n",
       "    .dataframe thead th {\n",
       "        text-align: right;\n",
       "    }\n",
       "</style>\n",
       "<table border=\"1\" class=\"dataframe\">\n",
       "  <thead>\n",
       "    <tr style=\"text-align: right;\">\n",
       "      <th></th>\n",
       "      <th>sample_id</th>\n",
       "      <th>video_path</th>\n",
       "      <th>weather</th>\n",
       "    </tr>\n",
       "  </thead>\n",
       "  <tbody>\n",
       "    <tr>\n",
       "      <th>0</th>\n",
       "      <td>TRAIN_0000</td>\n",
       "      <td>D:/ㅎㅎㄱ/0.Study/dacon_230221/train/TRAIN_0000.mp4</td>\n",
       "      <td>0</td>\n",
       "    </tr>\n",
       "    <tr>\n",
       "      <th>1</th>\n",
       "      <td>TRAIN_0001</td>\n",
       "      <td>D:/ㅎㅎㄱ/0.Study/dacon_230221/train/TRAIN_0001.mp4</td>\n",
       "      <td>0</td>\n",
       "    </tr>\n",
       "    <tr>\n",
       "      <th>2</th>\n",
       "      <td>TRAIN_0004</td>\n",
       "      <td>D:/ㅎㅎㄱ/0.Study/dacon_230221/train/TRAIN_0004.mp4</td>\n",
       "      <td>0</td>\n",
       "    </tr>\n",
       "    <tr>\n",
       "      <th>3</th>\n",
       "      <td>TRAIN_0006</td>\n",
       "      <td>D:/ㅎㅎㄱ/0.Study/dacon_230221/train/TRAIN_0006.mp4</td>\n",
       "      <td>1</td>\n",
       "    </tr>\n",
       "    <tr>\n",
       "      <th>4</th>\n",
       "      <td>TRAIN_0007</td>\n",
       "      <td>D:/ㅎㅎㄱ/0.Study/dacon_230221/train/TRAIN_0007.mp4</td>\n",
       "      <td>0</td>\n",
       "    </tr>\n",
       "    <tr>\n",
       "      <th>...</th>\n",
       "      <td>...</td>\n",
       "      <td>...</td>\n",
       "      <td>...</td>\n",
       "    </tr>\n",
       "    <tr>\n",
       "      <th>910</th>\n",
       "      <td>TRAIN_2685</td>\n",
       "      <td>D:/ㅎㅎㄱ/0.Study/dacon_230221/train/TRAIN_2685.mp4</td>\n",
       "      <td>0</td>\n",
       "    </tr>\n",
       "    <tr>\n",
       "      <th>911</th>\n",
       "      <td>TRAIN_2689</td>\n",
       "      <td>D:/ㅎㅎㄱ/0.Study/dacon_230221/train/TRAIN_2689.mp4</td>\n",
       "      <td>0</td>\n",
       "    </tr>\n",
       "    <tr>\n",
       "      <th>912</th>\n",
       "      <td>TRAIN_2692</td>\n",
       "      <td>D:/ㅎㅎㄱ/0.Study/dacon_230221/train/TRAIN_2692.mp4</td>\n",
       "      <td>0</td>\n",
       "    </tr>\n",
       "    <tr>\n",
       "      <th>913</th>\n",
       "      <td>TRAIN_2693</td>\n",
       "      <td>D:/ㅎㅎㄱ/0.Study/dacon_230221/train/TRAIN_2693.mp4</td>\n",
       "      <td>1</td>\n",
       "    </tr>\n",
       "    <tr>\n",
       "      <th>914</th>\n",
       "      <td>TRAIN_2694</td>\n",
       "      <td>D:/ㅎㅎㄱ/0.Study/dacon_230221/train/TRAIN_2694.mp4</td>\n",
       "      <td>2</td>\n",
       "    </tr>\n",
       "  </tbody>\n",
       "</table>\n",
       "<p>915 rows × 3 columns</p>\n",
       "</div>"
      ],
      "text/plain": [
       "      sample_id                                        video_path weather\n",
       "0    TRAIN_0000  D:/ㅎㅎㄱ/0.Study/dacon_230221/train/TRAIN_0000.mp4       0\n",
       "1    TRAIN_0001  D:/ㅎㅎㄱ/0.Study/dacon_230221/train/TRAIN_0001.mp4       0\n",
       "2    TRAIN_0004  D:/ㅎㅎㄱ/0.Study/dacon_230221/train/TRAIN_0004.mp4       0\n",
       "3    TRAIN_0006  D:/ㅎㅎㄱ/0.Study/dacon_230221/train/TRAIN_0006.mp4       1\n",
       "4    TRAIN_0007  D:/ㅎㅎㄱ/0.Study/dacon_230221/train/TRAIN_0007.mp4       0\n",
       "..          ...                                               ...     ...\n",
       "910  TRAIN_2685  D:/ㅎㅎㄱ/0.Study/dacon_230221/train/TRAIN_2685.mp4       0\n",
       "911  TRAIN_2689  D:/ㅎㅎㄱ/0.Study/dacon_230221/train/TRAIN_2689.mp4       0\n",
       "912  TRAIN_2692  D:/ㅎㅎㄱ/0.Study/dacon_230221/train/TRAIN_2692.mp4       0\n",
       "913  TRAIN_2693  D:/ㅎㅎㄱ/0.Study/dacon_230221/train/TRAIN_2693.mp4       1\n",
       "914  TRAIN_2694  D:/ㅎㅎㄱ/0.Study/dacon_230221/train/TRAIN_2694.mp4       2\n",
       "\n",
       "[915 rows x 3 columns]"
      ]
     },
     "execution_count": 11,
     "metadata": {},
     "output_type": "execute_result"
    }
   ],
   "source": [
    "df = pd.read_csv('./data/train_weather.csv')\n",
    "df = df[df['weather']!='Na'].reset_index(drop=True)\n",
    "df"
   ]
  },
  {
   "cell_type": "code",
   "execution_count": 12,
   "id": "62c4b2c3",
   "metadata": {},
   "outputs": [
    {
     "data": {
      "text/html": [
       "<div>\n",
       "<style scoped>\n",
       "    .dataframe tbody tr th:only-of-type {\n",
       "        vertical-align: middle;\n",
       "    }\n",
       "\n",
       "    .dataframe tbody tr th {\n",
       "        vertical-align: top;\n",
       "    }\n",
       "\n",
       "    .dataframe thead th {\n",
       "        text-align: right;\n",
       "    }\n",
       "</style>\n",
       "<table border=\"1\" class=\"dataframe\">\n",
       "  <thead>\n",
       "    <tr style=\"text-align: right;\">\n",
       "      <th></th>\n",
       "      <th>sample_id</th>\n",
       "      <th>video_path</th>\n",
       "      <th>weather</th>\n",
       "    </tr>\n",
       "  </thead>\n",
       "  <tbody>\n",
       "    <tr>\n",
       "      <th>0</th>\n",
       "      <td>TRAIN_0000</td>\n",
       "      <td>D:/ㅎㅎㄱ/0.Study/dacon_230221/train/TRAIN_0000.mp4</td>\n",
       "      <td>0</td>\n",
       "    </tr>\n",
       "    <tr>\n",
       "      <th>1</th>\n",
       "      <td>TRAIN_0001</td>\n",
       "      <td>D:/ㅎㅎㄱ/0.Study/dacon_230221/train/TRAIN_0001.mp4</td>\n",
       "      <td>0</td>\n",
       "    </tr>\n",
       "    <tr>\n",
       "      <th>2</th>\n",
       "      <td>TRAIN_0004</td>\n",
       "      <td>D:/ㅎㅎㄱ/0.Study/dacon_230221/train/TRAIN_0004.mp4</td>\n",
       "      <td>0</td>\n",
       "    </tr>\n",
       "    <tr>\n",
       "      <th>3</th>\n",
       "      <td>TRAIN_0006</td>\n",
       "      <td>D:/ㅎㅎㄱ/0.Study/dacon_230221/train/TRAIN_0006.mp4</td>\n",
       "      <td>1</td>\n",
       "    </tr>\n",
       "    <tr>\n",
       "      <th>4</th>\n",
       "      <td>TRAIN_0007</td>\n",
       "      <td>D:/ㅎㅎㄱ/0.Study/dacon_230221/train/TRAIN_0007.mp4</td>\n",
       "      <td>0</td>\n",
       "    </tr>\n",
       "    <tr>\n",
       "      <th>5</th>\n",
       "      <td>TRAIN_0009</td>\n",
       "      <td>D:/ㅎㅎㄱ/0.Study/dacon_230221/train/TRAIN_0009.mp4</td>\n",
       "      <td>1</td>\n",
       "    </tr>\n",
       "    <tr>\n",
       "      <th>6</th>\n",
       "      <td>TRAIN_0011</td>\n",
       "      <td>D:/ㅎㅎㄱ/0.Study/dacon_230221/train/TRAIN_0011.mp4</td>\n",
       "      <td>0</td>\n",
       "    </tr>\n",
       "    <tr>\n",
       "      <th>7</th>\n",
       "      <td>TRAIN_0015</td>\n",
       "      <td>D:/ㅎㅎㄱ/0.Study/dacon_230221/train/TRAIN_0015.mp4</td>\n",
       "      <td>0</td>\n",
       "    </tr>\n",
       "    <tr>\n",
       "      <th>8</th>\n",
       "      <td>TRAIN_0016</td>\n",
       "      <td>D:/ㅎㅎㄱ/0.Study/dacon_230221/train/TRAIN_0016.mp4</td>\n",
       "      <td>0</td>\n",
       "    </tr>\n",
       "    <tr>\n",
       "      <th>9</th>\n",
       "      <td>TRAIN_0017</td>\n",
       "      <td>D:/ㅎㅎㄱ/0.Study/dacon_230221/train/TRAIN_0017.mp4</td>\n",
       "      <td>0</td>\n",
       "    </tr>\n",
       "  </tbody>\n",
       "</table>\n",
       "</div>"
      ],
      "text/plain": [
       "    sample_id                                        video_path weather\n",
       "0  TRAIN_0000  D:/ㅎㅎㄱ/0.Study/dacon_230221/train/TRAIN_0000.mp4       0\n",
       "1  TRAIN_0001  D:/ㅎㅎㄱ/0.Study/dacon_230221/train/TRAIN_0001.mp4       0\n",
       "2  TRAIN_0004  D:/ㅎㅎㄱ/0.Study/dacon_230221/train/TRAIN_0004.mp4       0\n",
       "3  TRAIN_0006  D:/ㅎㅎㄱ/0.Study/dacon_230221/train/TRAIN_0006.mp4       1\n",
       "4  TRAIN_0007  D:/ㅎㅎㄱ/0.Study/dacon_230221/train/TRAIN_0007.mp4       0\n",
       "5  TRAIN_0009  D:/ㅎㅎㄱ/0.Study/dacon_230221/train/TRAIN_0009.mp4       1\n",
       "6  TRAIN_0011  D:/ㅎㅎㄱ/0.Study/dacon_230221/train/TRAIN_0011.mp4       0\n",
       "7  TRAIN_0015  D:/ㅎㅎㄱ/0.Study/dacon_230221/train/TRAIN_0015.mp4       0\n",
       "8  TRAIN_0016  D:/ㅎㅎㄱ/0.Study/dacon_230221/train/TRAIN_0016.mp4       0\n",
       "9  TRAIN_0017  D:/ㅎㅎㄱ/0.Study/dacon_230221/train/TRAIN_0017.mp4       0"
      ]
     },
     "execution_count": 12,
     "metadata": {},
     "output_type": "execute_result"
    }
   ],
   "source": [
    "df = df[:10]\n",
    "df"
   ]
  },
  {
   "cell_type": "code",
   "execution_count": 13,
   "id": "26132fd9",
   "metadata": {},
   "outputs": [],
   "source": [
    "seed_everything(CFG['SEED']) # Seed 고정"
   ]
  },
  {
   "cell_type": "code",
   "execution_count": 14,
   "id": "6ef836d7",
   "metadata": {},
   "outputs": [
    {
     "data": {
      "application/vnd.jupyter.widget-view+json": {
       "model_id": "a4d3869879684cd6b9dde60409f4d4b8",
       "version_major": 2,
       "version_minor": 0
      },
      "text/plain": [
       "  0%|          | 0/10 [00:00<?, ?it/s]"
      ]
     },
     "metadata": {},
     "output_type": "display_data"
    }
   ],
   "source": [
    "total_frames, total_labels = [], []\n",
    "for i in tqdm(range(len(df))):\n",
    "    frames, labels = get_img(df.loc[i,'video_path'], df.loc[i,'weather'])\n",
    "    total_frames.extend(frames)\n",
    "    total_labels.extend(labels)"
   ]
  },
  {
   "cell_type": "code",
   "execution_count": 15,
   "id": "fc10004e",
   "metadata": {},
   "outputs": [],
   "source": [
    "train_set, val_set, train_label, val_lable = train_test_split(total_frames, total_labels, test_size=0.2, random_state=CFG['SEED'])"
   ]
  },
  {
   "cell_type": "code",
   "execution_count": 16,
   "id": "5212d9fd",
   "metadata": {},
   "outputs": [],
   "source": [
    "train_dataset = CustomDataset(train_set, train_label)\n",
    "train_loader = DataLoader(\n",
    "    train_dataset, \n",
    "    batch_size = CFG['BATCH_SIZE'],\n",
    "    shuffle=True, \n",
    "    num_workers=0\n",
    "    )\n",
    "\n",
    "val_dataset = CustomDataset(val_set, val_lable)\n",
    "val_loader = DataLoader(\n",
    "    val_dataset, \n",
    "    batch_size = CFG['BATCH_SIZE'],\n",
    "    shuffle=False, \n",
    "    num_workers=0\n",
    "    )"
   ]
  },
  {
   "cell_type": "code",
   "execution_count": 24,
   "id": "19dc5271",
   "metadata": {},
   "outputs": [
    {
     "data": {
      "application/vnd.jupyter.widget-view+json": {
       "model_id": "3df3368971874adbab04186f5fcd332a",
       "version_major": 2,
       "version_minor": 0
      },
      "text/plain": [
       "  0%|          | 0/36 [00:00<?, ?it/s]"
      ]
     },
     "metadata": {},
     "output_type": "display_data"
    },
    {
     "data": {
      "application/vnd.jupyter.widget-view+json": {
       "model_id": "49730531e4454141856dd2cae44b3f6d",
       "version_major": 2,
       "version_minor": 0
      },
      "text/plain": [
       "  0%|          | 0/9 [00:00<?, ?it/s]"
      ]
     },
     "metadata": {},
     "output_type": "display_data"
    },
    {
     "name": "stdout",
     "output_type": "stream",
     "text": [
      "Epoch [1], Train Loss : [1.32783] Val Loss : [6.81932] Val F1 : [0.28000]\n",
      "======== model saved - epoch :  1\n"
     ]
    },
    {
     "data": {
      "application/vnd.jupyter.widget-view+json": {
       "model_id": "5ae8947eb9c249e8830ce4f4bf322176",
       "version_major": 2,
       "version_minor": 0
      },
      "text/plain": [
       "  0%|          | 0/36 [00:00<?, ?it/s]"
      ]
     },
     "metadata": {},
     "output_type": "display_data"
    },
    {
     "data": {
      "application/vnd.jupyter.widget-view+json": {
       "model_id": "74ba2a456a8742d9a60926e60418449e",
       "version_major": 2,
       "version_minor": 0
      },
      "text/plain": [
       "  0%|          | 0/9 [00:00<?, ?it/s]"
      ]
     },
     "metadata": {},
     "output_type": "display_data"
    },
    {
     "name": "stdout",
     "output_type": "stream",
     "text": [
      "Epoch [2], Train Loss : [0.61962] Val Loss : [60.41614] Val F1 : [0.37931]\n",
      "======== model saved - epoch :  2\n"
     ]
    },
    {
     "data": {
      "application/vnd.jupyter.widget-view+json": {
       "model_id": "5ed0fca909014d97a108bedbdaa20f2d",
       "version_major": 2,
       "version_minor": 0
      },
      "text/plain": [
       "  0%|          | 0/36 [00:00<?, ?it/s]"
      ]
     },
     "metadata": {},
     "output_type": "display_data"
    },
    {
     "data": {
      "application/vnd.jupyter.widget-view+json": {
       "model_id": "50026c0eb3734458b6b107dbd5ba4dd7",
       "version_major": 2,
       "version_minor": 0
      },
      "text/plain": [
       "  0%|          | 0/9 [00:00<?, ?it/s]"
      ]
     },
     "metadata": {},
     "output_type": "display_data"
    },
    {
     "name": "stdout",
     "output_type": "stream",
     "text": [
      "Epoch [3], Train Loss : [0.61390] Val Loss : [1.34795] Val F1 : [0.33333]\n",
      "======== model saved - epoch :  3\n"
     ]
    },
    {
     "data": {
      "application/vnd.jupyter.widget-view+json": {
       "model_id": "8a2e35167f034f5dbca75e087b5d1825",
       "version_major": 2,
       "version_minor": 0
      },
      "text/plain": [
       "  0%|          | 0/36 [00:00<?, ?it/s]"
      ]
     },
     "metadata": {},
     "output_type": "display_data"
    },
    {
     "data": {
      "application/vnd.jupyter.widget-view+json": {
       "model_id": "725802e0a278497ca999fe1dfccb92d1",
       "version_major": 2,
       "version_minor": 0
      },
      "text/plain": [
       "  0%|          | 0/9 [00:00<?, ?it/s]"
      ]
     },
     "metadata": {},
     "output_type": "display_data"
    },
    {
     "name": "stdout",
     "output_type": "stream",
     "text": [
      "Epoch [4], Train Loss : [0.40290] Val Loss : [0.12338] Val F1 : [1.00000]\n",
      "======== model saved - epoch :  4\n"
     ]
    },
    {
     "data": {
      "application/vnd.jupyter.widget-view+json": {
       "model_id": "f4597264b6da408db4a235c0877daa51",
       "version_major": 2,
       "version_minor": 0
      },
      "text/plain": [
       "  0%|          | 0/36 [00:00<?, ?it/s]"
      ]
     },
     "metadata": {},
     "output_type": "display_data"
    },
    {
     "data": {
      "application/vnd.jupyter.widget-view+json": {
       "model_id": "8afd1febf1e045519b14e9e85a7f6c49",
       "version_major": 2,
       "version_minor": 0
      },
      "text/plain": [
       "  0%|          | 0/9 [00:00<?, ?it/s]"
      ]
     },
     "metadata": {},
     "output_type": "display_data"
    },
    {
     "name": "stdout",
     "output_type": "stream",
     "text": [
      "Epoch [5], Train Loss : [0.59596] Val Loss : [0.19229] Val F1 : [0.94286]\n",
      "======== model saved - epoch :  5\n"
     ]
    },
    {
     "data": {
      "application/vnd.jupyter.widget-view+json": {
       "model_id": "23b6b9322d9b4e2298027b8eb9f2f450",
       "version_major": 2,
       "version_minor": 0
      },
      "text/plain": [
       "  0%|          | 0/36 [00:00<?, ?it/s]"
      ]
     },
     "metadata": {},
     "output_type": "display_data"
    },
    {
     "data": {
      "application/vnd.jupyter.widget-view+json": {
       "model_id": "cc6918f579e04271a17fdc5a7145405e",
       "version_major": 2,
       "version_minor": 0
      },
      "text/plain": [
       "  0%|          | 0/9 [00:00<?, ?it/s]"
      ]
     },
     "metadata": {},
     "output_type": "display_data"
    },
    {
     "name": "stdout",
     "output_type": "stream",
     "text": [
      "Epoch [6], Train Loss : [0.83270] Val Loss : [0.20029] Val F1 : [1.00000]\n",
      "======== model saved - epoch :  6\n"
     ]
    },
    {
     "data": {
      "application/vnd.jupyter.widget-view+json": {
       "model_id": "afcc39a50bc64249ae38b3e62d00177e",
       "version_major": 2,
       "version_minor": 0
      },
      "text/plain": [
       "  0%|          | 0/36 [00:00<?, ?it/s]"
      ]
     },
     "metadata": {},
     "output_type": "display_data"
    },
    {
     "data": {
      "application/vnd.jupyter.widget-view+json": {
       "model_id": "56e6b37083ad4375bbf05085d59c0ff6",
       "version_major": 2,
       "version_minor": 0
      },
      "text/plain": [
       "  0%|          | 0/9 [00:00<?, ?it/s]"
      ]
     },
     "metadata": {},
     "output_type": "display_data"
    },
    {
     "name": "stdout",
     "output_type": "stream",
     "text": [
      "Epoch [7], Train Loss : [0.57909] Val Loss : [0.49057] Val F1 : [0.51786]\n",
      "======== model saved - epoch :  7\n"
     ]
    },
    {
     "data": {
      "application/vnd.jupyter.widget-view+json": {
       "model_id": "f338ffd7433543a68458d0d32d855fdb",
       "version_major": 2,
       "version_minor": 0
      },
      "text/plain": [
       "  0%|          | 0/36 [00:00<?, ?it/s]"
      ]
     },
     "metadata": {},
     "output_type": "display_data"
    },
    {
     "data": {
      "application/vnd.jupyter.widget-view+json": {
       "model_id": "265af0410fd246d7987b5d1b7a4f144d",
       "version_major": 2,
       "version_minor": 0
      },
      "text/plain": [
       "  0%|          | 0/9 [00:00<?, ?it/s]"
      ]
     },
     "metadata": {},
     "output_type": "display_data"
    },
    {
     "name": "stdout",
     "output_type": "stream",
     "text": [
      "Epoch [8], Train Loss : [0.14590] Val Loss : [0.12255] Val F1 : [1.00000]\n",
      "======== model saved - epoch :  8\n"
     ]
    },
    {
     "data": {
      "application/vnd.jupyter.widget-view+json": {
       "model_id": "2b90753aa5234bafbadda03e9507b3cd",
       "version_major": 2,
       "version_minor": 0
      },
      "text/plain": [
       "  0%|          | 0/36 [00:00<?, ?it/s]"
      ]
     },
     "metadata": {},
     "output_type": "display_data"
    },
    {
     "data": {
      "application/vnd.jupyter.widget-view+json": {
       "model_id": "66180827375d43fabf311a001f98bdd9",
       "version_major": 2,
       "version_minor": 0
      },
      "text/plain": [
       "  0%|          | 0/9 [00:00<?, ?it/s]"
      ]
     },
     "metadata": {},
     "output_type": "display_data"
    },
    {
     "name": "stdout",
     "output_type": "stream",
     "text": [
      "Epoch [9], Train Loss : [0.12133] Val Loss : [0.03099] Val F1 : [1.00000]\n",
      "======== model saved - epoch :  9\n"
     ]
    },
    {
     "data": {
      "application/vnd.jupyter.widget-view+json": {
       "model_id": "53805c60b95545828308cc02df592c1a",
       "version_major": 2,
       "version_minor": 0
      },
      "text/plain": [
       "  0%|          | 0/36 [00:00<?, ?it/s]"
      ]
     },
     "metadata": {},
     "output_type": "display_data"
    },
    {
     "data": {
      "application/vnd.jupyter.widget-view+json": {
       "model_id": "c063ba4966f6463db69be144bb28eaed",
       "version_major": 2,
       "version_minor": 0
      },
      "text/plain": [
       "  0%|          | 0/9 [00:00<?, ?it/s]"
      ]
     },
     "metadata": {},
     "output_type": "display_data"
    },
    {
     "name": "stdout",
     "output_type": "stream",
     "text": [
      "Epoch [10], Train Loss : [0.13523] Val Loss : [0.24900] Val F1 : [0.80364]\n",
      "======== model saved - epoch :  10\n"
     ]
    }
   ],
   "source": [
    "# resnet50\n",
    "model = models.resnet101()\n",
    "\n",
    "num_classes = 3\n",
    "num_ftrs = model.fc.in_features\n",
    "model.fc = nn.Linear(num_ftrs, num_classes)\n",
    "\n",
    "device = torch.device('cuda:0')\n",
    "model = model.to(device)\n",
    "\n",
    "optimizer = torch.optim.Adam(params = model.parameters(), lr = CFG[\"LEARNING_RATE\"])\n",
    "scheduler = torch.optim.lr_scheduler.ReduceLROnPlateau(\n",
    "    optimizer, \n",
    "    mode='max', \n",
    "    factor=0.5, \n",
    "    patience=2,\n",
    "    threshold_mode='abs',\n",
    "    min_lr=1e-4, \n",
    "    verbose=False\n",
    ")\n",
    "infer_model = train(model, optimizer, train_loader, val_loader, scheduler, device)"
   ]
  },
  {
   "cell_type": "code",
   "execution_count": null,
   "id": "6cdb8cab",
   "metadata": {},
   "outputs": [],
   "source": []
  },
  {
   "cell_type": "code",
   "execution_count": null,
   "id": "3fd680a9",
   "metadata": {},
   "outputs": [],
   "source": []
  }
 ],
 "metadata": {
  "kernelspec": {
   "display_name": "pytorch_p39",
   "language": "python",
   "name": "python3"
  },
  "language_info": {
   "codemirror_mode": {
    "name": "ipython",
    "version": 3
   },
   "file_extension": ".py",
   "mimetype": "text/x-python",
   "name": "python",
   "nbconvert_exporter": "python",
   "pygments_lexer": "ipython3",
   "version": "3.9.12"
  },
  "toc": {
   "base_numbering": 1,
   "nav_menu": {},
   "number_sections": true,
   "sideBar": true,
   "skip_h1_title": false,
   "title_cell": "Table of Contents",
   "title_sidebar": "Contents",
   "toc_cell": false,
   "toc_position": {},
   "toc_section_display": true,
   "toc_window_display": false
  }
 },
 "nbformat": 4,
 "nbformat_minor": 5
}
